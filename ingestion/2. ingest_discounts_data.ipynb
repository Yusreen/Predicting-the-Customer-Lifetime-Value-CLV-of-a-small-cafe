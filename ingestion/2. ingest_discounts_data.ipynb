{
 "cells": [
  {
   "cell_type": "code",
   "execution_count": 0,
   "metadata": {
    "application/vnd.databricks.v1+cell": {
     "cellMetadata": {
      "byteLimit": 2048000,
      "rowLimit": 10000
     },
     "inputWidgets": {},
     "nuid": "0f14f657-0cc7-4aa7-a217-a06e97dae554",
     "showTitle": false,
     "tableResultSettingsMap": {},
     "title": ""
    }
   },
   "outputs": [],
   "source": [
    "%run ../includes/configurations"
   ]
  },
  {
   "cell_type": "code",
   "execution_count": 0,
   "metadata": {
    "application/vnd.databricks.v1+cell": {
     "cellMetadata": {
      "byteLimit": 2048000,
      "rowLimit": 10000
     },
     "inputWidgets": {},
     "nuid": "7d1f7f64-1c95-4d36-b763-1d7938d50472",
     "showTitle": false,
     "tableResultSettingsMap": {},
     "title": ""
    }
   },
   "outputs": [
    {
     "output_type": "stream",
     "name": "stdout",
     "output_type": "stream",
     "text": [
      "Out[83]: '/mnt/clvprojectadls/bronze'"
     ]
    }
   ],
   "source": [
    "bronze_folder_path"
   ]
  },
  {
   "cell_type": "code",
   "execution_count": 0,
   "metadata": {
    "application/vnd.databricks.v1+cell": {
     "cellMetadata": {
      "byteLimit": 2048000,
      "rowLimit": 10000
     },
     "inputWidgets": {},
     "nuid": "ef304f3d-9ac2-4706-8cc9-f094c5d3b59a",
     "showTitle": false,
     "tableResultSettingsMap": {},
     "title": ""
    }
   },
   "outputs": [
    {
     "output_type": "stream",
     "name": "stdout",
     "output_type": "stream",
     "text": [
      "Out[84]: '/mnt/clvprojectadls/silver'"
     ]
    }
   ],
   "source": [
    "silver_folder_path"
   ]
  },
  {
   "cell_type": "code",
   "execution_count": 0,
   "metadata": {
    "application/vnd.databricks.v1+cell": {
     "cellMetadata": {
      "byteLimit": 2048000,
      "rowLimit": 10000
     },
     "inputWidgets": {},
     "nuid": "e6fb5fa2-b5b9-4602-89ac-f2daeaf2c7af",
     "showTitle": false,
     "tableResultSettingsMap": {},
     "title": ""
    }
   },
   "outputs": [],
   "source": [
    "dbutils.widgets.text(\"p_file_date\", \"2024-11-01\")\n",
    "v_file_date = dbutils.widgets.get(\"p_file_date\")"
   ]
  },
  {
   "cell_type": "markdown",
   "metadata": {
    "application/vnd.databricks.v1+cell": {
     "cellMetadata": {
      "byteLimit": 2048000,
      "rowLimit": 10000
     },
     "inputWidgets": {},
     "nuid": "d41fe019-872b-46b7-9cea-e99e39cab0f6",
     "showTitle": false,
     "tableResultSettingsMap": {},
     "title": ""
    }
   },
   "source": [
    "#This notebook reads data from the discount_date file"
   ]
  },
  {
   "cell_type": "markdown",
   "metadata": {
    "application/vnd.databricks.v1+cell": {
     "cellMetadata": {
      "byteLimit": 2048000,
      "rowLimit": 10000
     },
     "inputWidgets": {},
     "nuid": "7ae73244-c097-409f-bd19-47f1b399215f",
     "showTitle": false,
     "tableResultSettingsMap": {},
     "title": ""
    }
   },
   "source": [
    "#Specifying the schema  "
   ]
  },
  {
   "cell_type": "code",
   "execution_count": 0,
   "metadata": {
    "application/vnd.databricks.v1+cell": {
     "cellMetadata": {
      "byteLimit": 2048000,
      "rowLimit": 10000
     },
     "inputWidgets": {},
     "nuid": "a6b050b1-e2e3-4699-8cbc-4935e5536b72",
     "showTitle": false,
     "tableResultSettingsMap": {},
     "title": ""
    }
   },
   "outputs": [],
   "source": [
    "from pyspark.sql.types import StructType, StructField, IntegerType, StringType, DoubleType,DateType"
   ]
  },
  {
   "cell_type": "code",
   "execution_count": 0,
   "metadata": {
    "application/vnd.databricks.v1+cell": {
     "cellMetadata": {
      "byteLimit": 2048000,
      "rowLimit": 10000
     },
     "inputWidgets": {},
     "nuid": "f6570964-d336-48ed-a885-0b931a53d951",
     "showTitle": false,
     "tableResultSettingsMap": {},
     "title": ""
    }
   },
   "outputs": [],
   "source": [
    "from pyspark.sql.functions import current_timestamp, lit"
   ]
  },
  {
   "cell_type": "code",
   "execution_count": 0,
   "metadata": {
    "application/vnd.databricks.v1+cell": {
     "cellMetadata": {
      "byteLimit": 2048000,
      "rowLimit": 10000
     },
     "inputWidgets": {},
     "nuid": "c404db26-9fe0-4ef9-bc9a-ebea1e6963da",
     "showTitle": false,
     "tableResultSettingsMap": {},
     "title": ""
    }
   },
   "outputs": [],
   "source": [
    "discounts_data_schema = StructType(fields = [StructField('CustomerId', StringType(),False),\n",
    "                                            StructField(\"TransactionDate\", DateType(), True),\n",
    "                                            StructField('DiscountAmount',DoubleType(),True)])"
   ]
  },
  {
   "cell_type": "markdown",
   "metadata": {
    "application/vnd.databricks.v1+cell": {
     "cellMetadata": {
      "byteLimit": 2048000,
      "rowLimit": 10000
     },
     "inputWidgets": {},
     "nuid": "76ea7b48-7dc5-41f2-a673-644a6b270bfa",
     "showTitle": false,
     "tableResultSettingsMap": {},
     "title": ""
    }
   },
   "source": [
    "# Read the customer_info file"
   ]
  },
  {
   "cell_type": "code",
   "execution_count": 0,
   "metadata": {
    "application/vnd.databricks.v1+cell": {
     "cellMetadata": {
      "byteLimit": 2048000,
      "rowLimit": 10000
     },
     "inputWidgets": {},
     "nuid": "244f29cd-3017-4057-9f2e-d558ae8f197f",
     "showTitle": false,
     "tableResultSettingsMap": {},
     "title": ""
    }
   },
   "outputs": [],
   "source": [
    "discounts_data_df = spark.read\\\n",
    "                   .option('header',True)\\\n",
    "                   .schema(discounts_data_schema)\\\n",
    "                   .csv(f\"{bronze_folder_path}/{v_file_date}/discounts_data.csv\")"
   ]
  },
  {
   "cell_type": "code",
   "execution_count": 0,
   "metadata": {
    "application/vnd.databricks.v1+cell": {
     "cellMetadata": {
      "byteLimit": 2048000,
      "rowLimit": 10000
     },
     "inputWidgets": {},
     "nuid": "ccd11dbc-1499-4481-a0fa-c7c387734367",
     "showTitle": false,
     "tableResultSettingsMap": {},
     "title": ""
    }
   },
   "outputs": [
    {
     "output_type": "display_data",
     "data": {
      "text/html": [
       "<style scoped>\n",
       "  .table-result-container {\n",
       "    max-height: 300px;\n",
       "    overflow: auto;\n",
       "  }\n",
       "  table, th, td {\n",
       "    border: 1px solid black;\n",
       "    border-collapse: collapse;\n",
       "  }\n",
       "  th, td {\n",
       "    padding: 5px;\n",
       "  }\n",
       "  th {\n",
       "    text-align: left;\n",
       "  }\n",
       "</style><div class='table-result-container'><table class='table-result'><thead style='background-color: white'><tr><th>CustomerId</th><th>TransactionDate</th><th>DiscountAmount</th></tr></thead><tbody><tr><td>CUST021</td><td>2023-06-20</td><td>2.79</td></tr><tr><td>CUST021</td><td>2023-03-05</td><td>1.54</td></tr><tr><td>CUST021</td><td>2023-12-06</td><td>4.91</td></tr><tr><td>CUST021</td><td>2023-03-07</td><td>4.91</td></tr><tr><td>CUST022</td><td>2023-02-07</td><td>4.21</td></tr><tr><td>CUST022</td><td>2023-02-08</td><td>3.26</td></tr><tr><td>CUST022</td><td>2023-05-14</td><td>1.27</td></tr><tr><td>CUST022</td><td>2023-07-17</td><td>4.02</td></tr><tr><td>CUST023</td><td>2023-04-12</td><td>4.93</td></tr><tr><td>CUST023</td><td>2023-12-13</td><td>4.67</td></tr><tr><td>CUST023</td><td>2023-04-13</td><td>4.51</td></tr><tr><td>CUST024</td><td>2023-10-26</td><td>3.38</td></tr><tr><td>CUST024</td><td>2023-09-21</td><td>4.86</td></tr><tr><td>CUST024</td><td>2023-05-06</td><td>4.02</td></tr><tr><td>CUST025</td><td>2023-03-09</td><td>1.03</td></tr><tr><td>CUST025</td><td>2023-02-06</td><td>2.44</td></tr><tr><td>CUST025</td><td>2023-01-11</td><td>2.49</td></tr><tr><td>CUST025</td><td>2023-07-03</td><td>4.32</td></tr><tr><td>CUST025</td><td>2023-08-27</td><td>4.86</td></tr><tr><td>CUST025</td><td>2023-11-21</td><td>2.79</td></tr><tr><td>CUST026</td><td>2023-04-20</td><td>2.89</td></tr><tr><td>CUST027</td><td>2023-03-13</td><td>2.32</td></tr><tr><td>CUST027</td><td>2023-08-31</td><td>3.33</td></tr><tr><td>CUST027</td><td>2023-05-17</td><td>1.88</td></tr><tr><td>CUST027</td><td>2023-02-17</td><td>4.83</td></tr><tr><td>CUST027</td><td>2023-03-28</td><td>2.85</td></tr><tr><td>CUST027</td><td>2023-02-05</td><td>3.46</td></tr><tr><td>CUST028</td><td>2023-08-18</td><td>2.71</td></tr><tr><td>CUST029</td><td>2023-03-03</td><td>3.72</td></tr><tr><td>CUST030</td><td>2023-07-28</td><td>3.55</td></tr><tr><td>CUST030</td><td>2023-04-20</td><td>2.5</td></tr><tr><td>CUST030</td><td>2023-08-09</td><td>4.44</td></tr><tr><td>CUST030</td><td>2023-12-09</td><td>4.09</td></tr><tr><td>CUST031</td><td>2023-05-16</td><td>1.64</td></tr><tr><td>CUST031</td><td>2023-01-21</td><td>1.53</td></tr><tr><td>CUST031</td><td>2023-11-07</td><td>2.69</td></tr><tr><td>CUST031</td><td>2023-04-15</td><td>2.57</td></tr><tr><td>CUST032</td><td>2023-12-14</td><td>2.6</td></tr><tr><td>CUST032</td><td>2023-05-16</td><td>1.53</td></tr><tr><td>CUST032</td><td>2023-07-22</td><td>1.98</td></tr><tr><td>CUST032</td><td>2023-09-08</td><td>4.97</td></tr><tr><td>CUST032</td><td>2023-02-06</td><td>3.31</td></tr><tr><td>CUST032</td><td>2023-06-07</td><td>3.23</td></tr><tr><td>CUST033</td><td>2023-12-12</td><td>4.5</td></tr><tr><td>CUST034</td><td>2023-03-17</td><td>2.53</td></tr><tr><td>CUST034</td><td>2023-10-11</td><td>2.82</td></tr><tr><td>CUST035</td><td>2023-12-20</td><td>2.86</td></tr><tr><td>CUST035</td><td>2023-09-07</td><td>3.1</td></tr><tr><td>CUST035</td><td>2023-01-30</td><td>4.57</td></tr><tr><td>CUST035</td><td>2023-01-05</td><td>2.1</td></tr><tr><td>CUST036</td><td>2023-04-12</td><td>2.31</td></tr><tr><td>CUST036</td><td>2023-06-02</td><td>2.47</td></tr><tr><td>CUST036</td><td>2023-06-29</td><td>2.91</td></tr><tr><td>CUST036</td><td>2023-07-14</td><td>2.78</td></tr><tr><td>CUST036</td><td>2023-03-23</td><td>1.72</td></tr><tr><td>CUST036</td><td>2023-10-02</td><td>4.5</td></tr><tr><td>CUST036</td><td>2023-10-19</td><td>1.18</td></tr><tr><td>CUST037</td><td>2023-08-04</td><td>2.7</td></tr><tr><td>CUST037</td><td>2023-02-24</td><td>3.69</td></tr><tr><td>CUST038</td><td>2023-12-23</td><td>3.87</td></tr><tr><td>CUST038</td><td>2023-12-04</td><td>4.06</td></tr><tr><td>CUST038</td><td>2023-02-25</td><td>1.13</td></tr><tr><td>CUST039</td><td>2023-06-02</td><td>1.81</td></tr><tr><td>CUST039</td><td>2023-04-28</td><td>3.15</td></tr><tr><td>CUST039</td><td>2023-02-08</td><td>1.24</td></tr><tr><td>CUST041</td><td>2023-01-02</td><td>3.55</td></tr><tr><td>CUST042</td><td>2023-10-20</td><td>2.91</td></tr><tr><td>CUST042</td><td>2023-07-11</td><td>4.3</td></tr><tr><td>CUST042</td><td>2023-04-08</td><td>2.79</td></tr><tr><td>CUST042</td><td>2023-02-06</td><td>2.76</td></tr><tr><td>CUST042</td><td>2023-02-04</td><td>4.67</td></tr><tr><td>CUST043</td><td>2023-10-15</td><td>4.74</td></tr><tr><td>CUST043</td><td>2023-09-21</td><td>4.6</td></tr><tr><td>CUST044</td><td>2023-12-29</td><td>2.62</td></tr><tr><td>CUST044</td><td>2023-07-24</td><td>4.61</td></tr><tr><td>CUST044</td><td>2023-03-07</td><td>3.16</td></tr><tr><td>CUST045</td><td>2023-08-05</td><td>2.07</td></tr><tr><td>CUST045</td><td>2023-11-02</td><td>3.16</td></tr><tr><td>CUST046</td><td>2023-05-26</td><td>4.08</td></tr><tr><td>CUST046</td><td>2023-06-03</td><td>4.58</td></tr><tr><td>CUST047</td><td>2023-07-26</td><td>3.11</td></tr><tr><td>CUST047</td><td>2023-12-20</td><td>2.96</td></tr><tr><td>CUST047</td><td>2023-05-16</td><td>4.97</td></tr><tr><td>CUST047</td><td>2023-04-20</td><td>3.64</td></tr><tr><td>CUST047</td><td>2023-01-20</td><td>1.94</td></tr><tr><td>CUST047</td><td>2023-02-03</td><td>1.95</td></tr><tr><td>CUST047</td><td>2023-05-05</td><td>2.65</td></tr><tr><td>CUST048</td><td>2023-07-28</td><td>1.77</td></tr><tr><td>CUST048</td><td>2023-12-11</td><td>2.02</td></tr><tr><td>CUST048</td><td>2023-10-15</td><td>1.87</td></tr><tr><td>CUST048</td><td>2023-06-11</td><td>1.92</td></tr><tr><td>CUST048</td><td>2023-01-05</td><td>3.3</td></tr><tr><td>CUST049</td><td>2023-02-11</td><td>3.67</td></tr><tr><td>CUST049</td><td>2023-01-01</td><td>3.72</td></tr><tr><td>CUST049</td><td>2023-03-12</td><td>1.29</td></tr><tr><td>CUST049</td><td>2023-02-05</td><td>1.51</td></tr><tr><td>CUST049</td><td>2023-07-26</td><td>1.56</td></tr><tr><td>CUST050</td><td>2023-12-06</td><td>3.57</td></tr></tbody></table></div>"
      ]
     },
     "metadata": {
      "application/vnd.databricks.v1+output": {
       "addedWidgets": {},
       "aggData": [],
       "aggError": "",
       "aggOverflow": false,
       "aggSchema": [],
       "aggSeriesLimitReached": false,
       "aggType": "",
       "arguments": {},
       "columnCustomDisplayInfos": {},
       "data": [
        [
         "CUST021",
         "2023-06-20",
         2.79
        ],
        [
         "CUST021",
         "2023-03-05",
         1.54
        ],
        [
         "CUST021",
         "2023-12-06",
         4.91
        ],
        [
         "CUST021",
         "2023-03-07",
         4.91
        ],
        [
         "CUST022",
         "2023-02-07",
         4.21
        ],
        [
         "CUST022",
         "2023-02-08",
         3.26
        ],
        [
         "CUST022",
         "2023-05-14",
         1.27
        ],
        [
         "CUST022",
         "2023-07-17",
         4.02
        ],
        [
         "CUST023",
         "2023-04-12",
         4.93
        ],
        [
         "CUST023",
         "2023-12-13",
         4.67
        ],
        [
         "CUST023",
         "2023-04-13",
         4.51
        ],
        [
         "CUST024",
         "2023-10-26",
         3.38
        ],
        [
         "CUST024",
         "2023-09-21",
         4.86
        ],
        [
         "CUST024",
         "2023-05-06",
         4.02
        ],
        [
         "CUST025",
         "2023-03-09",
         1.03
        ],
        [
         "CUST025",
         "2023-02-06",
         2.44
        ],
        [
         "CUST025",
         "2023-01-11",
         2.49
        ],
        [
         "CUST025",
         "2023-07-03",
         4.32
        ],
        [
         "CUST025",
         "2023-08-27",
         4.86
        ],
        [
         "CUST025",
         "2023-11-21",
         2.79
        ],
        [
         "CUST026",
         "2023-04-20",
         2.89
        ],
        [
         "CUST027",
         "2023-03-13",
         2.32
        ],
        [
         "CUST027",
         "2023-08-31",
         3.33
        ],
        [
         "CUST027",
         "2023-05-17",
         1.88
        ],
        [
         "CUST027",
         "2023-02-17",
         4.83
        ],
        [
         "CUST027",
         "2023-03-28",
         2.85
        ],
        [
         "CUST027",
         "2023-02-05",
         3.46
        ],
        [
         "CUST028",
         "2023-08-18",
         2.71
        ],
        [
         "CUST029",
         "2023-03-03",
         3.72
        ],
        [
         "CUST030",
         "2023-07-28",
         3.55
        ],
        [
         "CUST030",
         "2023-04-20",
         2.5
        ],
        [
         "CUST030",
         "2023-08-09",
         4.44
        ],
        [
         "CUST030",
         "2023-12-09",
         4.09
        ],
        [
         "CUST031",
         "2023-05-16",
         1.64
        ],
        [
         "CUST031",
         "2023-01-21",
         1.53
        ],
        [
         "CUST031",
         "2023-11-07",
         2.69
        ],
        [
         "CUST031",
         "2023-04-15",
         2.57
        ],
        [
         "CUST032",
         "2023-12-14",
         2.6
        ],
        [
         "CUST032",
         "2023-05-16",
         1.53
        ],
        [
         "CUST032",
         "2023-07-22",
         1.98
        ],
        [
         "CUST032",
         "2023-09-08",
         4.97
        ],
        [
         "CUST032",
         "2023-02-06",
         3.31
        ],
        [
         "CUST032",
         "2023-06-07",
         3.23
        ],
        [
         "CUST033",
         "2023-12-12",
         4.5
        ],
        [
         "CUST034",
         "2023-03-17",
         2.53
        ],
        [
         "CUST034",
         "2023-10-11",
         2.82
        ],
        [
         "CUST035",
         "2023-12-20",
         2.86
        ],
        [
         "CUST035",
         "2023-09-07",
         3.1
        ],
        [
         "CUST035",
         "2023-01-30",
         4.57
        ],
        [
         "CUST035",
         "2023-01-05",
         2.1
        ],
        [
         "CUST036",
         "2023-04-12",
         2.31
        ],
        [
         "CUST036",
         "2023-06-02",
         2.47
        ],
        [
         "CUST036",
         "2023-06-29",
         2.91
        ],
        [
         "CUST036",
         "2023-07-14",
         2.78
        ],
        [
         "CUST036",
         "2023-03-23",
         1.72
        ],
        [
         "CUST036",
         "2023-10-02",
         4.5
        ],
        [
         "CUST036",
         "2023-10-19",
         1.18
        ],
        [
         "CUST037",
         "2023-08-04",
         2.7
        ],
        [
         "CUST037",
         "2023-02-24",
         3.69
        ],
        [
         "CUST038",
         "2023-12-23",
         3.87
        ],
        [
         "CUST038",
         "2023-12-04",
         4.06
        ],
        [
         "CUST038",
         "2023-02-25",
         1.13
        ],
        [
         "CUST039",
         "2023-06-02",
         1.81
        ],
        [
         "CUST039",
         "2023-04-28",
         3.15
        ],
        [
         "CUST039",
         "2023-02-08",
         1.24
        ],
        [
         "CUST041",
         "2023-01-02",
         3.55
        ],
        [
         "CUST042",
         "2023-10-20",
         2.91
        ],
        [
         "CUST042",
         "2023-07-11",
         4.3
        ],
        [
         "CUST042",
         "2023-04-08",
         2.79
        ],
        [
         "CUST042",
         "2023-02-06",
         2.76
        ],
        [
         "CUST042",
         "2023-02-04",
         4.67
        ],
        [
         "CUST043",
         "2023-10-15",
         4.74
        ],
        [
         "CUST043",
         "2023-09-21",
         4.6
        ],
        [
         "CUST044",
         "2023-12-29",
         2.62
        ],
        [
         "CUST044",
         "2023-07-24",
         4.61
        ],
        [
         "CUST044",
         "2023-03-07",
         3.16
        ],
        [
         "CUST045",
         "2023-08-05",
         2.07
        ],
        [
         "CUST045",
         "2023-11-02",
         3.16
        ],
        [
         "CUST046",
         "2023-05-26",
         4.08
        ],
        [
         "CUST046",
         "2023-06-03",
         4.58
        ],
        [
         "CUST047",
         "2023-07-26",
         3.11
        ],
        [
         "CUST047",
         "2023-12-20",
         2.96
        ],
        [
         "CUST047",
         "2023-05-16",
         4.97
        ],
        [
         "CUST047",
         "2023-04-20",
         3.64
        ],
        [
         "CUST047",
         "2023-01-20",
         1.94
        ],
        [
         "CUST047",
         "2023-02-03",
         1.95
        ],
        [
         "CUST047",
         "2023-05-05",
         2.65
        ],
        [
         "CUST048",
         "2023-07-28",
         1.77
        ],
        [
         "CUST048",
         "2023-12-11",
         2.02
        ],
        [
         "CUST048",
         "2023-10-15",
         1.87
        ],
        [
         "CUST048",
         "2023-06-11",
         1.92
        ],
        [
         "CUST048",
         "2023-01-05",
         3.3
        ],
        [
         "CUST049",
         "2023-02-11",
         3.67
        ],
        [
         "CUST049",
         "2023-01-01",
         3.72
        ],
        [
         "CUST049",
         "2023-03-12",
         1.29
        ],
        [
         "CUST049",
         "2023-02-05",
         1.51
        ],
        [
         "CUST049",
         "2023-07-26",
         1.56
        ],
        [
         "CUST050",
         "2023-12-06",
         3.57
        ]
       ],
       "datasetInfos": [],
       "dbfsResultPath": null,
       "isJsonSchema": true,
       "metadata": {},
       "overflow": false,
       "plotOptions": {
        "customPlotOptions": {},
        "displayType": "table",
        "pivotAggregation": null,
        "pivotColumns": null,
        "xColumns": null,
        "yColumns": null
       },
       "removedWidgets": [],
       "schema": [
        {
         "metadata": "{}",
         "name": "CustomerId",
         "type": "\"string\""
        },
        {
         "metadata": "{}",
         "name": "TransactionDate",
         "type": "\"date\""
        },
        {
         "metadata": "{}",
         "name": "DiscountAmount",
         "type": "\"double\""
        }
       ],
       "type": "table"
      }
     },
     "output_type": "display_data"
    }
   ],
   "source": [
    "display(discounts_data_df)"
   ]
  },
  {
   "cell_type": "markdown",
   "metadata": {
    "application/vnd.databricks.v1+cell": {
     "cellMetadata": {
      "byteLimit": 2048000,
      "rowLimit": 10000
     },
     "inputWidgets": {},
     "nuid": "8dd8dcbf-e101-4c36-bf78-490c9c16a023",
     "showTitle": false,
     "tableResultSettingsMap": {},
     "title": ""
    }
   },
   "source": [
    "# Rename the column\n"
   ]
  },
  {
   "cell_type": "code",
   "execution_count": 0,
   "metadata": {
    "application/vnd.databricks.v1+cell": {
     "cellMetadata": {
      "byteLimit": 2048000,
      "rowLimit": 10000
     },
     "inputWidgets": {},
     "nuid": "7f8a0820-ca67-4d96-8be4-af0eb5f60af8",
     "showTitle": false,
     "tableResultSettingsMap": {},
     "title": ""
    }
   },
   "outputs": [],
   "source": [
    "discounts_data_renamed_df = discounts_data_df.withColumnRenamed(\"CustomerId\",\"customer_id\")\\\n",
    "                          .withColumnRenamed(\"TransactionDate\",\"transaction_date\")\\\n",
    "                            .withColumnRenamed(\"DiscountDate\",\"discount_date\")\\\n",
    "                            .withColumn(\"file_date\", lit(v_file_date))"
   ]
  },
  {
   "cell_type": "code",
   "execution_count": 0,
   "metadata": {
    "application/vnd.databricks.v1+cell": {
     "cellMetadata": {
      "byteLimit": 2048000,
      "rowLimit": 10000
     },
     "inputWidgets": {},
     "nuid": "6aeb1256-6d4c-4879-93fb-96add7d93a43",
     "showTitle": false,
     "tableResultSettingsMap": {},
     "title": ""
    }
   },
   "outputs": [
    {
     "output_type": "display_data",
     "data": {
      "text/html": [
       "<style scoped>\n",
       "  .table-result-container {\n",
       "    max-height: 300px;\n",
       "    overflow: auto;\n",
       "  }\n",
       "  table, th, td {\n",
       "    border: 1px solid black;\n",
       "    border-collapse: collapse;\n",
       "  }\n",
       "  th, td {\n",
       "    padding: 5px;\n",
       "  }\n",
       "  th {\n",
       "    text-align: left;\n",
       "  }\n",
       "</style><div class='table-result-container'><table class='table-result'><thead style='background-color: white'><tr><th>customer_id</th><th>transaction_date</th><th>DiscountAmount</th><th>file_date</th></tr></thead><tbody><tr><td>CUST021</td><td>2023-06-20</td><td>2.79</td><td>2024-11-10</td></tr><tr><td>CUST021</td><td>2023-03-05</td><td>1.54</td><td>2024-11-10</td></tr><tr><td>CUST021</td><td>2023-12-06</td><td>4.91</td><td>2024-11-10</td></tr><tr><td>CUST021</td><td>2023-03-07</td><td>4.91</td><td>2024-11-10</td></tr><tr><td>CUST022</td><td>2023-02-07</td><td>4.21</td><td>2024-11-10</td></tr><tr><td>CUST022</td><td>2023-02-08</td><td>3.26</td><td>2024-11-10</td></tr><tr><td>CUST022</td><td>2023-05-14</td><td>1.27</td><td>2024-11-10</td></tr><tr><td>CUST022</td><td>2023-07-17</td><td>4.02</td><td>2024-11-10</td></tr><tr><td>CUST023</td><td>2023-04-12</td><td>4.93</td><td>2024-11-10</td></tr><tr><td>CUST023</td><td>2023-12-13</td><td>4.67</td><td>2024-11-10</td></tr><tr><td>CUST023</td><td>2023-04-13</td><td>4.51</td><td>2024-11-10</td></tr><tr><td>CUST024</td><td>2023-10-26</td><td>3.38</td><td>2024-11-10</td></tr><tr><td>CUST024</td><td>2023-09-21</td><td>4.86</td><td>2024-11-10</td></tr><tr><td>CUST024</td><td>2023-05-06</td><td>4.02</td><td>2024-11-10</td></tr><tr><td>CUST025</td><td>2023-03-09</td><td>1.03</td><td>2024-11-10</td></tr><tr><td>CUST025</td><td>2023-02-06</td><td>2.44</td><td>2024-11-10</td></tr><tr><td>CUST025</td><td>2023-01-11</td><td>2.49</td><td>2024-11-10</td></tr><tr><td>CUST025</td><td>2023-07-03</td><td>4.32</td><td>2024-11-10</td></tr><tr><td>CUST025</td><td>2023-08-27</td><td>4.86</td><td>2024-11-10</td></tr><tr><td>CUST025</td><td>2023-11-21</td><td>2.79</td><td>2024-11-10</td></tr><tr><td>CUST026</td><td>2023-04-20</td><td>2.89</td><td>2024-11-10</td></tr><tr><td>CUST027</td><td>2023-03-13</td><td>2.32</td><td>2024-11-10</td></tr><tr><td>CUST027</td><td>2023-08-31</td><td>3.33</td><td>2024-11-10</td></tr><tr><td>CUST027</td><td>2023-05-17</td><td>1.88</td><td>2024-11-10</td></tr><tr><td>CUST027</td><td>2023-02-17</td><td>4.83</td><td>2024-11-10</td></tr><tr><td>CUST027</td><td>2023-03-28</td><td>2.85</td><td>2024-11-10</td></tr><tr><td>CUST027</td><td>2023-02-05</td><td>3.46</td><td>2024-11-10</td></tr><tr><td>CUST028</td><td>2023-08-18</td><td>2.71</td><td>2024-11-10</td></tr><tr><td>CUST029</td><td>2023-03-03</td><td>3.72</td><td>2024-11-10</td></tr><tr><td>CUST030</td><td>2023-07-28</td><td>3.55</td><td>2024-11-10</td></tr><tr><td>CUST030</td><td>2023-04-20</td><td>2.5</td><td>2024-11-10</td></tr><tr><td>CUST030</td><td>2023-08-09</td><td>4.44</td><td>2024-11-10</td></tr><tr><td>CUST030</td><td>2023-12-09</td><td>4.09</td><td>2024-11-10</td></tr><tr><td>CUST031</td><td>2023-05-16</td><td>1.64</td><td>2024-11-10</td></tr><tr><td>CUST031</td><td>2023-01-21</td><td>1.53</td><td>2024-11-10</td></tr><tr><td>CUST031</td><td>2023-11-07</td><td>2.69</td><td>2024-11-10</td></tr><tr><td>CUST031</td><td>2023-04-15</td><td>2.57</td><td>2024-11-10</td></tr><tr><td>CUST032</td><td>2023-12-14</td><td>2.6</td><td>2024-11-10</td></tr><tr><td>CUST032</td><td>2023-05-16</td><td>1.53</td><td>2024-11-10</td></tr><tr><td>CUST032</td><td>2023-07-22</td><td>1.98</td><td>2024-11-10</td></tr><tr><td>CUST032</td><td>2023-09-08</td><td>4.97</td><td>2024-11-10</td></tr><tr><td>CUST032</td><td>2023-02-06</td><td>3.31</td><td>2024-11-10</td></tr><tr><td>CUST032</td><td>2023-06-07</td><td>3.23</td><td>2024-11-10</td></tr><tr><td>CUST033</td><td>2023-12-12</td><td>4.5</td><td>2024-11-10</td></tr><tr><td>CUST034</td><td>2023-03-17</td><td>2.53</td><td>2024-11-10</td></tr><tr><td>CUST034</td><td>2023-10-11</td><td>2.82</td><td>2024-11-10</td></tr><tr><td>CUST035</td><td>2023-12-20</td><td>2.86</td><td>2024-11-10</td></tr><tr><td>CUST035</td><td>2023-09-07</td><td>3.1</td><td>2024-11-10</td></tr><tr><td>CUST035</td><td>2023-01-30</td><td>4.57</td><td>2024-11-10</td></tr><tr><td>CUST035</td><td>2023-01-05</td><td>2.1</td><td>2024-11-10</td></tr><tr><td>CUST036</td><td>2023-04-12</td><td>2.31</td><td>2024-11-10</td></tr><tr><td>CUST036</td><td>2023-06-02</td><td>2.47</td><td>2024-11-10</td></tr><tr><td>CUST036</td><td>2023-06-29</td><td>2.91</td><td>2024-11-10</td></tr><tr><td>CUST036</td><td>2023-07-14</td><td>2.78</td><td>2024-11-10</td></tr><tr><td>CUST036</td><td>2023-03-23</td><td>1.72</td><td>2024-11-10</td></tr><tr><td>CUST036</td><td>2023-10-02</td><td>4.5</td><td>2024-11-10</td></tr><tr><td>CUST036</td><td>2023-10-19</td><td>1.18</td><td>2024-11-10</td></tr><tr><td>CUST037</td><td>2023-08-04</td><td>2.7</td><td>2024-11-10</td></tr><tr><td>CUST037</td><td>2023-02-24</td><td>3.69</td><td>2024-11-10</td></tr><tr><td>CUST038</td><td>2023-12-23</td><td>3.87</td><td>2024-11-10</td></tr><tr><td>CUST038</td><td>2023-12-04</td><td>4.06</td><td>2024-11-10</td></tr><tr><td>CUST038</td><td>2023-02-25</td><td>1.13</td><td>2024-11-10</td></tr><tr><td>CUST039</td><td>2023-06-02</td><td>1.81</td><td>2024-11-10</td></tr><tr><td>CUST039</td><td>2023-04-28</td><td>3.15</td><td>2024-11-10</td></tr><tr><td>CUST039</td><td>2023-02-08</td><td>1.24</td><td>2024-11-10</td></tr><tr><td>CUST041</td><td>2023-01-02</td><td>3.55</td><td>2024-11-10</td></tr><tr><td>CUST042</td><td>2023-10-20</td><td>2.91</td><td>2024-11-10</td></tr><tr><td>CUST042</td><td>2023-07-11</td><td>4.3</td><td>2024-11-10</td></tr><tr><td>CUST042</td><td>2023-04-08</td><td>2.79</td><td>2024-11-10</td></tr><tr><td>CUST042</td><td>2023-02-06</td><td>2.76</td><td>2024-11-10</td></tr><tr><td>CUST042</td><td>2023-02-04</td><td>4.67</td><td>2024-11-10</td></tr><tr><td>CUST043</td><td>2023-10-15</td><td>4.74</td><td>2024-11-10</td></tr><tr><td>CUST043</td><td>2023-09-21</td><td>4.6</td><td>2024-11-10</td></tr><tr><td>CUST044</td><td>2023-12-29</td><td>2.62</td><td>2024-11-10</td></tr><tr><td>CUST044</td><td>2023-07-24</td><td>4.61</td><td>2024-11-10</td></tr><tr><td>CUST044</td><td>2023-03-07</td><td>3.16</td><td>2024-11-10</td></tr><tr><td>CUST045</td><td>2023-08-05</td><td>2.07</td><td>2024-11-10</td></tr><tr><td>CUST045</td><td>2023-11-02</td><td>3.16</td><td>2024-11-10</td></tr><tr><td>CUST046</td><td>2023-05-26</td><td>4.08</td><td>2024-11-10</td></tr><tr><td>CUST046</td><td>2023-06-03</td><td>4.58</td><td>2024-11-10</td></tr><tr><td>CUST047</td><td>2023-07-26</td><td>3.11</td><td>2024-11-10</td></tr><tr><td>CUST047</td><td>2023-12-20</td><td>2.96</td><td>2024-11-10</td></tr><tr><td>CUST047</td><td>2023-05-16</td><td>4.97</td><td>2024-11-10</td></tr><tr><td>CUST047</td><td>2023-04-20</td><td>3.64</td><td>2024-11-10</td></tr><tr><td>CUST047</td><td>2023-01-20</td><td>1.94</td><td>2024-11-10</td></tr><tr><td>CUST047</td><td>2023-02-03</td><td>1.95</td><td>2024-11-10</td></tr><tr><td>CUST047</td><td>2023-05-05</td><td>2.65</td><td>2024-11-10</td></tr><tr><td>CUST048</td><td>2023-07-28</td><td>1.77</td><td>2024-11-10</td></tr><tr><td>CUST048</td><td>2023-12-11</td><td>2.02</td><td>2024-11-10</td></tr><tr><td>CUST048</td><td>2023-10-15</td><td>1.87</td><td>2024-11-10</td></tr><tr><td>CUST048</td><td>2023-06-11</td><td>1.92</td><td>2024-11-10</td></tr><tr><td>CUST048</td><td>2023-01-05</td><td>3.3</td><td>2024-11-10</td></tr><tr><td>CUST049</td><td>2023-02-11</td><td>3.67</td><td>2024-11-10</td></tr><tr><td>CUST049</td><td>2023-01-01</td><td>3.72</td><td>2024-11-10</td></tr><tr><td>CUST049</td><td>2023-03-12</td><td>1.29</td><td>2024-11-10</td></tr><tr><td>CUST049</td><td>2023-02-05</td><td>1.51</td><td>2024-11-10</td></tr><tr><td>CUST049</td><td>2023-07-26</td><td>1.56</td><td>2024-11-10</td></tr><tr><td>CUST050</td><td>2023-12-06</td><td>3.57</td><td>2024-11-10</td></tr></tbody></table></div>"
      ]
     },
     "metadata": {
      "application/vnd.databricks.v1+output": {
       "addedWidgets": {},
       "aggData": [],
       "aggError": "",
       "aggOverflow": false,
       "aggSchema": [],
       "aggSeriesLimitReached": false,
       "aggType": "",
       "arguments": {},
       "columnCustomDisplayInfos": {},
       "data": [
        [
         "CUST021",
         "2023-06-20",
         2.79,
         "2024-11-10"
        ],
        [
         "CUST021",
         "2023-03-05",
         1.54,
         "2024-11-10"
        ],
        [
         "CUST021",
         "2023-12-06",
         4.91,
         "2024-11-10"
        ],
        [
         "CUST021",
         "2023-03-07",
         4.91,
         "2024-11-10"
        ],
        [
         "CUST022",
         "2023-02-07",
         4.21,
         "2024-11-10"
        ],
        [
         "CUST022",
         "2023-02-08",
         3.26,
         "2024-11-10"
        ],
        [
         "CUST022",
         "2023-05-14",
         1.27,
         "2024-11-10"
        ],
        [
         "CUST022",
         "2023-07-17",
         4.02,
         "2024-11-10"
        ],
        [
         "CUST023",
         "2023-04-12",
         4.93,
         "2024-11-10"
        ],
        [
         "CUST023",
         "2023-12-13",
         4.67,
         "2024-11-10"
        ],
        [
         "CUST023",
         "2023-04-13",
         4.51,
         "2024-11-10"
        ],
        [
         "CUST024",
         "2023-10-26",
         3.38,
         "2024-11-10"
        ],
        [
         "CUST024",
         "2023-09-21",
         4.86,
         "2024-11-10"
        ],
        [
         "CUST024",
         "2023-05-06",
         4.02,
         "2024-11-10"
        ],
        [
         "CUST025",
         "2023-03-09",
         1.03,
         "2024-11-10"
        ],
        [
         "CUST025",
         "2023-02-06",
         2.44,
         "2024-11-10"
        ],
        [
         "CUST025",
         "2023-01-11",
         2.49,
         "2024-11-10"
        ],
        [
         "CUST025",
         "2023-07-03",
         4.32,
         "2024-11-10"
        ],
        [
         "CUST025",
         "2023-08-27",
         4.86,
         "2024-11-10"
        ],
        [
         "CUST025",
         "2023-11-21",
         2.79,
         "2024-11-10"
        ],
        [
         "CUST026",
         "2023-04-20",
         2.89,
         "2024-11-10"
        ],
        [
         "CUST027",
         "2023-03-13",
         2.32,
         "2024-11-10"
        ],
        [
         "CUST027",
         "2023-08-31",
         3.33,
         "2024-11-10"
        ],
        [
         "CUST027",
         "2023-05-17",
         1.88,
         "2024-11-10"
        ],
        [
         "CUST027",
         "2023-02-17",
         4.83,
         "2024-11-10"
        ],
        [
         "CUST027",
         "2023-03-28",
         2.85,
         "2024-11-10"
        ],
        [
         "CUST027",
         "2023-02-05",
         3.46,
         "2024-11-10"
        ],
        [
         "CUST028",
         "2023-08-18",
         2.71,
         "2024-11-10"
        ],
        [
         "CUST029",
         "2023-03-03",
         3.72,
         "2024-11-10"
        ],
        [
         "CUST030",
         "2023-07-28",
         3.55,
         "2024-11-10"
        ],
        [
         "CUST030",
         "2023-04-20",
         2.5,
         "2024-11-10"
        ],
        [
         "CUST030",
         "2023-08-09",
         4.44,
         "2024-11-10"
        ],
        [
         "CUST030",
         "2023-12-09",
         4.09,
         "2024-11-10"
        ],
        [
         "CUST031",
         "2023-05-16",
         1.64,
         "2024-11-10"
        ],
        [
         "CUST031",
         "2023-01-21",
         1.53,
         "2024-11-10"
        ],
        [
         "CUST031",
         "2023-11-07",
         2.69,
         "2024-11-10"
        ],
        [
         "CUST031",
         "2023-04-15",
         2.57,
         "2024-11-10"
        ],
        [
         "CUST032",
         "2023-12-14",
         2.6,
         "2024-11-10"
        ],
        [
         "CUST032",
         "2023-05-16",
         1.53,
         "2024-11-10"
        ],
        [
         "CUST032",
         "2023-07-22",
         1.98,
         "2024-11-10"
        ],
        [
         "CUST032",
         "2023-09-08",
         4.97,
         "2024-11-10"
        ],
        [
         "CUST032",
         "2023-02-06",
         3.31,
         "2024-11-10"
        ],
        [
         "CUST032",
         "2023-06-07",
         3.23,
         "2024-11-10"
        ],
        [
         "CUST033",
         "2023-12-12",
         4.5,
         "2024-11-10"
        ],
        [
         "CUST034",
         "2023-03-17",
         2.53,
         "2024-11-10"
        ],
        [
         "CUST034",
         "2023-10-11",
         2.82,
         "2024-11-10"
        ],
        [
         "CUST035",
         "2023-12-20",
         2.86,
         "2024-11-10"
        ],
        [
         "CUST035",
         "2023-09-07",
         3.1,
         "2024-11-10"
        ],
        [
         "CUST035",
         "2023-01-30",
         4.57,
         "2024-11-10"
        ],
        [
         "CUST035",
         "2023-01-05",
         2.1,
         "2024-11-10"
        ],
        [
         "CUST036",
         "2023-04-12",
         2.31,
         "2024-11-10"
        ],
        [
         "CUST036",
         "2023-06-02",
         2.47,
         "2024-11-10"
        ],
        [
         "CUST036",
         "2023-06-29",
         2.91,
         "2024-11-10"
        ],
        [
         "CUST036",
         "2023-07-14",
         2.78,
         "2024-11-10"
        ],
        [
         "CUST036",
         "2023-03-23",
         1.72,
         "2024-11-10"
        ],
        [
         "CUST036",
         "2023-10-02",
         4.5,
         "2024-11-10"
        ],
        [
         "CUST036",
         "2023-10-19",
         1.18,
         "2024-11-10"
        ],
        [
         "CUST037",
         "2023-08-04",
         2.7,
         "2024-11-10"
        ],
        [
         "CUST037",
         "2023-02-24",
         3.69,
         "2024-11-10"
        ],
        [
         "CUST038",
         "2023-12-23",
         3.87,
         "2024-11-10"
        ],
        [
         "CUST038",
         "2023-12-04",
         4.06,
         "2024-11-10"
        ],
        [
         "CUST038",
         "2023-02-25",
         1.13,
         "2024-11-10"
        ],
        [
         "CUST039",
         "2023-06-02",
         1.81,
         "2024-11-10"
        ],
        [
         "CUST039",
         "2023-04-28",
         3.15,
         "2024-11-10"
        ],
        [
         "CUST039",
         "2023-02-08",
         1.24,
         "2024-11-10"
        ],
        [
         "CUST041",
         "2023-01-02",
         3.55,
         "2024-11-10"
        ],
        [
         "CUST042",
         "2023-10-20",
         2.91,
         "2024-11-10"
        ],
        [
         "CUST042",
         "2023-07-11",
         4.3,
         "2024-11-10"
        ],
        [
         "CUST042",
         "2023-04-08",
         2.79,
         "2024-11-10"
        ],
        [
         "CUST042",
         "2023-02-06",
         2.76,
         "2024-11-10"
        ],
        [
         "CUST042",
         "2023-02-04",
         4.67,
         "2024-11-10"
        ],
        [
         "CUST043",
         "2023-10-15",
         4.74,
         "2024-11-10"
        ],
        [
         "CUST043",
         "2023-09-21",
         4.6,
         "2024-11-10"
        ],
        [
         "CUST044",
         "2023-12-29",
         2.62,
         "2024-11-10"
        ],
        [
         "CUST044",
         "2023-07-24",
         4.61,
         "2024-11-10"
        ],
        [
         "CUST044",
         "2023-03-07",
         3.16,
         "2024-11-10"
        ],
        [
         "CUST045",
         "2023-08-05",
         2.07,
         "2024-11-10"
        ],
        [
         "CUST045",
         "2023-11-02",
         3.16,
         "2024-11-10"
        ],
        [
         "CUST046",
         "2023-05-26",
         4.08,
         "2024-11-10"
        ],
        [
         "CUST046",
         "2023-06-03",
         4.58,
         "2024-11-10"
        ],
        [
         "CUST047",
         "2023-07-26",
         3.11,
         "2024-11-10"
        ],
        [
         "CUST047",
         "2023-12-20",
         2.96,
         "2024-11-10"
        ],
        [
         "CUST047",
         "2023-05-16",
         4.97,
         "2024-11-10"
        ],
        [
         "CUST047",
         "2023-04-20",
         3.64,
         "2024-11-10"
        ],
        [
         "CUST047",
         "2023-01-20",
         1.94,
         "2024-11-10"
        ],
        [
         "CUST047",
         "2023-02-03",
         1.95,
         "2024-11-10"
        ],
        [
         "CUST047",
         "2023-05-05",
         2.65,
         "2024-11-10"
        ],
        [
         "CUST048",
         "2023-07-28",
         1.77,
         "2024-11-10"
        ],
        [
         "CUST048",
         "2023-12-11",
         2.02,
         "2024-11-10"
        ],
        [
         "CUST048",
         "2023-10-15",
         1.87,
         "2024-11-10"
        ],
        [
         "CUST048",
         "2023-06-11",
         1.92,
         "2024-11-10"
        ],
        [
         "CUST048",
         "2023-01-05",
         3.3,
         "2024-11-10"
        ],
        [
         "CUST049",
         "2023-02-11",
         3.67,
         "2024-11-10"
        ],
        [
         "CUST049",
         "2023-01-01",
         3.72,
         "2024-11-10"
        ],
        [
         "CUST049",
         "2023-03-12",
         1.29,
         "2024-11-10"
        ],
        [
         "CUST049",
         "2023-02-05",
         1.51,
         "2024-11-10"
        ],
        [
         "CUST049",
         "2023-07-26",
         1.56,
         "2024-11-10"
        ],
        [
         "CUST050",
         "2023-12-06",
         3.57,
         "2024-11-10"
        ]
       ],
       "datasetInfos": [],
       "dbfsResultPath": null,
       "isJsonSchema": true,
       "metadata": {},
       "overflow": false,
       "plotOptions": {
        "customPlotOptions": {},
        "displayType": "table",
        "pivotAggregation": null,
        "pivotColumns": null,
        "xColumns": null,
        "yColumns": null
       },
       "removedWidgets": [],
       "schema": [
        {
         "metadata": "{}",
         "name": "customer_id",
         "type": "\"string\""
        },
        {
         "metadata": "{}",
         "name": "transaction_date",
         "type": "\"date\""
        },
        {
         "metadata": "{}",
         "name": "DiscountAmount",
         "type": "\"double\""
        },
        {
         "metadata": "{}",
         "name": "file_date",
         "type": "\"string\""
        }
       ],
       "type": "table"
      }
     },
     "output_type": "display_data"
    }
   ],
   "source": [
    "display(discounts_data_renamed_df)"
   ]
  },
  {
   "cell_type": "markdown",
   "metadata": {
    "application/vnd.databricks.v1+cell": {
     "cellMetadata": {
      "byteLimit": 2048000,
      "rowLimit": 10000
     },
     "inputWidgets": {},
     "nuid": "f251aafe-24a8-4206-9209-bd7217903585",
     "showTitle": false,
     "tableResultSettingsMap": {},
     "title": ""
    }
   },
   "source": [
    "# Add a column called ingestion date"
   ]
  },
  {
   "cell_type": "code",
   "execution_count": 0,
   "metadata": {
    "application/vnd.databricks.v1+cell": {
     "cellMetadata": {
      "byteLimit": 2048000,
      "rowLimit": 10000
     },
     "inputWidgets": {},
     "nuid": "47d56124-85f4-40a6-b264-fb2d22b9380f",
     "showTitle": false,
     "tableResultSettingsMap": {},
     "title": ""
    }
   },
   "outputs": [],
   "source": [
    "discounts_data_final_df = discounts_data_renamed_df.withColumn('ingestion_date', current_timestamp())"
   ]
  },
  {
   "cell_type": "code",
   "execution_count": 0,
   "metadata": {
    "application/vnd.databricks.v1+cell": {
     "cellMetadata": {
      "byteLimit": 2048000,
      "rowLimit": 10000
     },
     "inputWidgets": {},
     "nuid": "cda191fb-f96f-4f4c-99ae-da8927342810",
     "showTitle": false,
     "tableResultSettingsMap": {},
     "title": ""
    }
   },
   "outputs": [
    {
     "output_type": "display_data",
     "data": {
      "text/html": [
       "<style scoped>\n",
       "  .table-result-container {\n",
       "    max-height: 300px;\n",
       "    overflow: auto;\n",
       "  }\n",
       "  table, th, td {\n",
       "    border: 1px solid black;\n",
       "    border-collapse: collapse;\n",
       "  }\n",
       "  th, td {\n",
       "    padding: 5px;\n",
       "  }\n",
       "  th {\n",
       "    text-align: left;\n",
       "  }\n",
       "</style><div class='table-result-container'><table class='table-result'><thead style='background-color: white'><tr><th>customer_id</th><th>transaction_date</th><th>DiscountAmount</th><th>file_date</th><th>ingestion_date</th></tr></thead><tbody><tr><td>CUST021</td><td>2023-06-20</td><td>2.79</td><td>2024-11-10</td><td>2024-11-13T21:44:41.834+0000</td></tr><tr><td>CUST021</td><td>2023-03-05</td><td>1.54</td><td>2024-11-10</td><td>2024-11-13T21:44:41.834+0000</td></tr><tr><td>CUST021</td><td>2023-12-06</td><td>4.91</td><td>2024-11-10</td><td>2024-11-13T21:44:41.834+0000</td></tr><tr><td>CUST021</td><td>2023-03-07</td><td>4.91</td><td>2024-11-10</td><td>2024-11-13T21:44:41.834+0000</td></tr><tr><td>CUST022</td><td>2023-02-07</td><td>4.21</td><td>2024-11-10</td><td>2024-11-13T21:44:41.834+0000</td></tr><tr><td>CUST022</td><td>2023-02-08</td><td>3.26</td><td>2024-11-10</td><td>2024-11-13T21:44:41.834+0000</td></tr><tr><td>CUST022</td><td>2023-05-14</td><td>1.27</td><td>2024-11-10</td><td>2024-11-13T21:44:41.834+0000</td></tr><tr><td>CUST022</td><td>2023-07-17</td><td>4.02</td><td>2024-11-10</td><td>2024-11-13T21:44:41.834+0000</td></tr><tr><td>CUST023</td><td>2023-04-12</td><td>4.93</td><td>2024-11-10</td><td>2024-11-13T21:44:41.834+0000</td></tr><tr><td>CUST023</td><td>2023-12-13</td><td>4.67</td><td>2024-11-10</td><td>2024-11-13T21:44:41.834+0000</td></tr><tr><td>CUST023</td><td>2023-04-13</td><td>4.51</td><td>2024-11-10</td><td>2024-11-13T21:44:41.834+0000</td></tr><tr><td>CUST024</td><td>2023-10-26</td><td>3.38</td><td>2024-11-10</td><td>2024-11-13T21:44:41.834+0000</td></tr><tr><td>CUST024</td><td>2023-09-21</td><td>4.86</td><td>2024-11-10</td><td>2024-11-13T21:44:41.834+0000</td></tr><tr><td>CUST024</td><td>2023-05-06</td><td>4.02</td><td>2024-11-10</td><td>2024-11-13T21:44:41.834+0000</td></tr><tr><td>CUST025</td><td>2023-03-09</td><td>1.03</td><td>2024-11-10</td><td>2024-11-13T21:44:41.834+0000</td></tr><tr><td>CUST025</td><td>2023-02-06</td><td>2.44</td><td>2024-11-10</td><td>2024-11-13T21:44:41.834+0000</td></tr><tr><td>CUST025</td><td>2023-01-11</td><td>2.49</td><td>2024-11-10</td><td>2024-11-13T21:44:41.834+0000</td></tr><tr><td>CUST025</td><td>2023-07-03</td><td>4.32</td><td>2024-11-10</td><td>2024-11-13T21:44:41.834+0000</td></tr><tr><td>CUST025</td><td>2023-08-27</td><td>4.86</td><td>2024-11-10</td><td>2024-11-13T21:44:41.834+0000</td></tr><tr><td>CUST025</td><td>2023-11-21</td><td>2.79</td><td>2024-11-10</td><td>2024-11-13T21:44:41.834+0000</td></tr><tr><td>CUST026</td><td>2023-04-20</td><td>2.89</td><td>2024-11-10</td><td>2024-11-13T21:44:41.834+0000</td></tr><tr><td>CUST027</td><td>2023-03-13</td><td>2.32</td><td>2024-11-10</td><td>2024-11-13T21:44:41.834+0000</td></tr><tr><td>CUST027</td><td>2023-08-31</td><td>3.33</td><td>2024-11-10</td><td>2024-11-13T21:44:41.834+0000</td></tr><tr><td>CUST027</td><td>2023-05-17</td><td>1.88</td><td>2024-11-10</td><td>2024-11-13T21:44:41.834+0000</td></tr><tr><td>CUST027</td><td>2023-02-17</td><td>4.83</td><td>2024-11-10</td><td>2024-11-13T21:44:41.834+0000</td></tr><tr><td>CUST027</td><td>2023-03-28</td><td>2.85</td><td>2024-11-10</td><td>2024-11-13T21:44:41.834+0000</td></tr><tr><td>CUST027</td><td>2023-02-05</td><td>3.46</td><td>2024-11-10</td><td>2024-11-13T21:44:41.834+0000</td></tr><tr><td>CUST028</td><td>2023-08-18</td><td>2.71</td><td>2024-11-10</td><td>2024-11-13T21:44:41.834+0000</td></tr><tr><td>CUST029</td><td>2023-03-03</td><td>3.72</td><td>2024-11-10</td><td>2024-11-13T21:44:41.834+0000</td></tr><tr><td>CUST030</td><td>2023-07-28</td><td>3.55</td><td>2024-11-10</td><td>2024-11-13T21:44:41.834+0000</td></tr><tr><td>CUST030</td><td>2023-04-20</td><td>2.5</td><td>2024-11-10</td><td>2024-11-13T21:44:41.834+0000</td></tr><tr><td>CUST030</td><td>2023-08-09</td><td>4.44</td><td>2024-11-10</td><td>2024-11-13T21:44:41.834+0000</td></tr><tr><td>CUST030</td><td>2023-12-09</td><td>4.09</td><td>2024-11-10</td><td>2024-11-13T21:44:41.834+0000</td></tr><tr><td>CUST031</td><td>2023-05-16</td><td>1.64</td><td>2024-11-10</td><td>2024-11-13T21:44:41.834+0000</td></tr><tr><td>CUST031</td><td>2023-01-21</td><td>1.53</td><td>2024-11-10</td><td>2024-11-13T21:44:41.834+0000</td></tr><tr><td>CUST031</td><td>2023-11-07</td><td>2.69</td><td>2024-11-10</td><td>2024-11-13T21:44:41.834+0000</td></tr><tr><td>CUST031</td><td>2023-04-15</td><td>2.57</td><td>2024-11-10</td><td>2024-11-13T21:44:41.834+0000</td></tr><tr><td>CUST032</td><td>2023-12-14</td><td>2.6</td><td>2024-11-10</td><td>2024-11-13T21:44:41.834+0000</td></tr><tr><td>CUST032</td><td>2023-05-16</td><td>1.53</td><td>2024-11-10</td><td>2024-11-13T21:44:41.834+0000</td></tr><tr><td>CUST032</td><td>2023-07-22</td><td>1.98</td><td>2024-11-10</td><td>2024-11-13T21:44:41.834+0000</td></tr><tr><td>CUST032</td><td>2023-09-08</td><td>4.97</td><td>2024-11-10</td><td>2024-11-13T21:44:41.834+0000</td></tr><tr><td>CUST032</td><td>2023-02-06</td><td>3.31</td><td>2024-11-10</td><td>2024-11-13T21:44:41.834+0000</td></tr><tr><td>CUST032</td><td>2023-06-07</td><td>3.23</td><td>2024-11-10</td><td>2024-11-13T21:44:41.834+0000</td></tr><tr><td>CUST033</td><td>2023-12-12</td><td>4.5</td><td>2024-11-10</td><td>2024-11-13T21:44:41.834+0000</td></tr><tr><td>CUST034</td><td>2023-03-17</td><td>2.53</td><td>2024-11-10</td><td>2024-11-13T21:44:41.834+0000</td></tr><tr><td>CUST034</td><td>2023-10-11</td><td>2.82</td><td>2024-11-10</td><td>2024-11-13T21:44:41.834+0000</td></tr><tr><td>CUST035</td><td>2023-12-20</td><td>2.86</td><td>2024-11-10</td><td>2024-11-13T21:44:41.834+0000</td></tr><tr><td>CUST035</td><td>2023-09-07</td><td>3.1</td><td>2024-11-10</td><td>2024-11-13T21:44:41.834+0000</td></tr><tr><td>CUST035</td><td>2023-01-30</td><td>4.57</td><td>2024-11-10</td><td>2024-11-13T21:44:41.834+0000</td></tr><tr><td>CUST035</td><td>2023-01-05</td><td>2.1</td><td>2024-11-10</td><td>2024-11-13T21:44:41.834+0000</td></tr><tr><td>CUST036</td><td>2023-04-12</td><td>2.31</td><td>2024-11-10</td><td>2024-11-13T21:44:41.834+0000</td></tr><tr><td>CUST036</td><td>2023-06-02</td><td>2.47</td><td>2024-11-10</td><td>2024-11-13T21:44:41.834+0000</td></tr><tr><td>CUST036</td><td>2023-06-29</td><td>2.91</td><td>2024-11-10</td><td>2024-11-13T21:44:41.834+0000</td></tr><tr><td>CUST036</td><td>2023-07-14</td><td>2.78</td><td>2024-11-10</td><td>2024-11-13T21:44:41.834+0000</td></tr><tr><td>CUST036</td><td>2023-03-23</td><td>1.72</td><td>2024-11-10</td><td>2024-11-13T21:44:41.834+0000</td></tr><tr><td>CUST036</td><td>2023-10-02</td><td>4.5</td><td>2024-11-10</td><td>2024-11-13T21:44:41.834+0000</td></tr><tr><td>CUST036</td><td>2023-10-19</td><td>1.18</td><td>2024-11-10</td><td>2024-11-13T21:44:41.834+0000</td></tr><tr><td>CUST037</td><td>2023-08-04</td><td>2.7</td><td>2024-11-10</td><td>2024-11-13T21:44:41.834+0000</td></tr><tr><td>CUST037</td><td>2023-02-24</td><td>3.69</td><td>2024-11-10</td><td>2024-11-13T21:44:41.834+0000</td></tr><tr><td>CUST038</td><td>2023-12-23</td><td>3.87</td><td>2024-11-10</td><td>2024-11-13T21:44:41.834+0000</td></tr><tr><td>CUST038</td><td>2023-12-04</td><td>4.06</td><td>2024-11-10</td><td>2024-11-13T21:44:41.834+0000</td></tr><tr><td>CUST038</td><td>2023-02-25</td><td>1.13</td><td>2024-11-10</td><td>2024-11-13T21:44:41.834+0000</td></tr><tr><td>CUST039</td><td>2023-06-02</td><td>1.81</td><td>2024-11-10</td><td>2024-11-13T21:44:41.834+0000</td></tr><tr><td>CUST039</td><td>2023-04-28</td><td>3.15</td><td>2024-11-10</td><td>2024-11-13T21:44:41.834+0000</td></tr><tr><td>CUST039</td><td>2023-02-08</td><td>1.24</td><td>2024-11-10</td><td>2024-11-13T21:44:41.834+0000</td></tr><tr><td>CUST041</td><td>2023-01-02</td><td>3.55</td><td>2024-11-10</td><td>2024-11-13T21:44:41.834+0000</td></tr><tr><td>CUST042</td><td>2023-10-20</td><td>2.91</td><td>2024-11-10</td><td>2024-11-13T21:44:41.834+0000</td></tr><tr><td>CUST042</td><td>2023-07-11</td><td>4.3</td><td>2024-11-10</td><td>2024-11-13T21:44:41.834+0000</td></tr><tr><td>CUST042</td><td>2023-04-08</td><td>2.79</td><td>2024-11-10</td><td>2024-11-13T21:44:41.834+0000</td></tr><tr><td>CUST042</td><td>2023-02-06</td><td>2.76</td><td>2024-11-10</td><td>2024-11-13T21:44:41.834+0000</td></tr><tr><td>CUST042</td><td>2023-02-04</td><td>4.67</td><td>2024-11-10</td><td>2024-11-13T21:44:41.834+0000</td></tr><tr><td>CUST043</td><td>2023-10-15</td><td>4.74</td><td>2024-11-10</td><td>2024-11-13T21:44:41.834+0000</td></tr><tr><td>CUST043</td><td>2023-09-21</td><td>4.6</td><td>2024-11-10</td><td>2024-11-13T21:44:41.834+0000</td></tr><tr><td>CUST044</td><td>2023-12-29</td><td>2.62</td><td>2024-11-10</td><td>2024-11-13T21:44:41.834+0000</td></tr><tr><td>CUST044</td><td>2023-07-24</td><td>4.61</td><td>2024-11-10</td><td>2024-11-13T21:44:41.834+0000</td></tr><tr><td>CUST044</td><td>2023-03-07</td><td>3.16</td><td>2024-11-10</td><td>2024-11-13T21:44:41.834+0000</td></tr><tr><td>CUST045</td><td>2023-08-05</td><td>2.07</td><td>2024-11-10</td><td>2024-11-13T21:44:41.834+0000</td></tr><tr><td>CUST045</td><td>2023-11-02</td><td>3.16</td><td>2024-11-10</td><td>2024-11-13T21:44:41.834+0000</td></tr><tr><td>CUST046</td><td>2023-05-26</td><td>4.08</td><td>2024-11-10</td><td>2024-11-13T21:44:41.834+0000</td></tr><tr><td>CUST046</td><td>2023-06-03</td><td>4.58</td><td>2024-11-10</td><td>2024-11-13T21:44:41.834+0000</td></tr><tr><td>CUST047</td><td>2023-07-26</td><td>3.11</td><td>2024-11-10</td><td>2024-11-13T21:44:41.834+0000</td></tr><tr><td>CUST047</td><td>2023-12-20</td><td>2.96</td><td>2024-11-10</td><td>2024-11-13T21:44:41.834+0000</td></tr><tr><td>CUST047</td><td>2023-05-16</td><td>4.97</td><td>2024-11-10</td><td>2024-11-13T21:44:41.834+0000</td></tr><tr><td>CUST047</td><td>2023-04-20</td><td>3.64</td><td>2024-11-10</td><td>2024-11-13T21:44:41.834+0000</td></tr><tr><td>CUST047</td><td>2023-01-20</td><td>1.94</td><td>2024-11-10</td><td>2024-11-13T21:44:41.834+0000</td></tr><tr><td>CUST047</td><td>2023-02-03</td><td>1.95</td><td>2024-11-10</td><td>2024-11-13T21:44:41.834+0000</td></tr><tr><td>CUST047</td><td>2023-05-05</td><td>2.65</td><td>2024-11-10</td><td>2024-11-13T21:44:41.834+0000</td></tr><tr><td>CUST048</td><td>2023-07-28</td><td>1.77</td><td>2024-11-10</td><td>2024-11-13T21:44:41.834+0000</td></tr><tr><td>CUST048</td><td>2023-12-11</td><td>2.02</td><td>2024-11-10</td><td>2024-11-13T21:44:41.834+0000</td></tr><tr><td>CUST048</td><td>2023-10-15</td><td>1.87</td><td>2024-11-10</td><td>2024-11-13T21:44:41.834+0000</td></tr><tr><td>CUST048</td><td>2023-06-11</td><td>1.92</td><td>2024-11-10</td><td>2024-11-13T21:44:41.834+0000</td></tr><tr><td>CUST048</td><td>2023-01-05</td><td>3.3</td><td>2024-11-10</td><td>2024-11-13T21:44:41.834+0000</td></tr><tr><td>CUST049</td><td>2023-02-11</td><td>3.67</td><td>2024-11-10</td><td>2024-11-13T21:44:41.834+0000</td></tr><tr><td>CUST049</td><td>2023-01-01</td><td>3.72</td><td>2024-11-10</td><td>2024-11-13T21:44:41.834+0000</td></tr><tr><td>CUST049</td><td>2023-03-12</td><td>1.29</td><td>2024-11-10</td><td>2024-11-13T21:44:41.834+0000</td></tr><tr><td>CUST049</td><td>2023-02-05</td><td>1.51</td><td>2024-11-10</td><td>2024-11-13T21:44:41.834+0000</td></tr><tr><td>CUST049</td><td>2023-07-26</td><td>1.56</td><td>2024-11-10</td><td>2024-11-13T21:44:41.834+0000</td></tr><tr><td>CUST050</td><td>2023-12-06</td><td>3.57</td><td>2024-11-10</td><td>2024-11-13T21:44:41.834+0000</td></tr></tbody></table></div>"
      ]
     },
     "metadata": {
      "application/vnd.databricks.v1+output": {
       "addedWidgets": {},
       "aggData": [],
       "aggError": "",
       "aggOverflow": false,
       "aggSchema": [],
       "aggSeriesLimitReached": false,
       "aggType": "",
       "arguments": {},
       "columnCustomDisplayInfos": {},
       "data": [
        [
         "CUST021",
         "2023-06-20",
         2.79,
         "2024-11-10",
         "2024-11-13T21:44:41.834+0000"
        ],
        [
         "CUST021",
         "2023-03-05",
         1.54,
         "2024-11-10",
         "2024-11-13T21:44:41.834+0000"
        ],
        [
         "CUST021",
         "2023-12-06",
         4.91,
         "2024-11-10",
         "2024-11-13T21:44:41.834+0000"
        ],
        [
         "CUST021",
         "2023-03-07",
         4.91,
         "2024-11-10",
         "2024-11-13T21:44:41.834+0000"
        ],
        [
         "CUST022",
         "2023-02-07",
         4.21,
         "2024-11-10",
         "2024-11-13T21:44:41.834+0000"
        ],
        [
         "CUST022",
         "2023-02-08",
         3.26,
         "2024-11-10",
         "2024-11-13T21:44:41.834+0000"
        ],
        [
         "CUST022",
         "2023-05-14",
         1.27,
         "2024-11-10",
         "2024-11-13T21:44:41.834+0000"
        ],
        [
         "CUST022",
         "2023-07-17",
         4.02,
         "2024-11-10",
         "2024-11-13T21:44:41.834+0000"
        ],
        [
         "CUST023",
         "2023-04-12",
         4.93,
         "2024-11-10",
         "2024-11-13T21:44:41.834+0000"
        ],
        [
         "CUST023",
         "2023-12-13",
         4.67,
         "2024-11-10",
         "2024-11-13T21:44:41.834+0000"
        ],
        [
         "CUST023",
         "2023-04-13",
         4.51,
         "2024-11-10",
         "2024-11-13T21:44:41.834+0000"
        ],
        [
         "CUST024",
         "2023-10-26",
         3.38,
         "2024-11-10",
         "2024-11-13T21:44:41.834+0000"
        ],
        [
         "CUST024",
         "2023-09-21",
         4.86,
         "2024-11-10",
         "2024-11-13T21:44:41.834+0000"
        ],
        [
         "CUST024",
         "2023-05-06",
         4.02,
         "2024-11-10",
         "2024-11-13T21:44:41.834+0000"
        ],
        [
         "CUST025",
         "2023-03-09",
         1.03,
         "2024-11-10",
         "2024-11-13T21:44:41.834+0000"
        ],
        [
         "CUST025",
         "2023-02-06",
         2.44,
         "2024-11-10",
         "2024-11-13T21:44:41.834+0000"
        ],
        [
         "CUST025",
         "2023-01-11",
         2.49,
         "2024-11-10",
         "2024-11-13T21:44:41.834+0000"
        ],
        [
         "CUST025",
         "2023-07-03",
         4.32,
         "2024-11-10",
         "2024-11-13T21:44:41.834+0000"
        ],
        [
         "CUST025",
         "2023-08-27",
         4.86,
         "2024-11-10",
         "2024-11-13T21:44:41.834+0000"
        ],
        [
         "CUST025",
         "2023-11-21",
         2.79,
         "2024-11-10",
         "2024-11-13T21:44:41.834+0000"
        ],
        [
         "CUST026",
         "2023-04-20",
         2.89,
         "2024-11-10",
         "2024-11-13T21:44:41.834+0000"
        ],
        [
         "CUST027",
         "2023-03-13",
         2.32,
         "2024-11-10",
         "2024-11-13T21:44:41.834+0000"
        ],
        [
         "CUST027",
         "2023-08-31",
         3.33,
         "2024-11-10",
         "2024-11-13T21:44:41.834+0000"
        ],
        [
         "CUST027",
         "2023-05-17",
         1.88,
         "2024-11-10",
         "2024-11-13T21:44:41.834+0000"
        ],
        [
         "CUST027",
         "2023-02-17",
         4.83,
         "2024-11-10",
         "2024-11-13T21:44:41.834+0000"
        ],
        [
         "CUST027",
         "2023-03-28",
         2.85,
         "2024-11-10",
         "2024-11-13T21:44:41.834+0000"
        ],
        [
         "CUST027",
         "2023-02-05",
         3.46,
         "2024-11-10",
         "2024-11-13T21:44:41.834+0000"
        ],
        [
         "CUST028",
         "2023-08-18",
         2.71,
         "2024-11-10",
         "2024-11-13T21:44:41.834+0000"
        ],
        [
         "CUST029",
         "2023-03-03",
         3.72,
         "2024-11-10",
         "2024-11-13T21:44:41.834+0000"
        ],
        [
         "CUST030",
         "2023-07-28",
         3.55,
         "2024-11-10",
         "2024-11-13T21:44:41.834+0000"
        ],
        [
         "CUST030",
         "2023-04-20",
         2.5,
         "2024-11-10",
         "2024-11-13T21:44:41.834+0000"
        ],
        [
         "CUST030",
         "2023-08-09",
         4.44,
         "2024-11-10",
         "2024-11-13T21:44:41.834+0000"
        ],
        [
         "CUST030",
         "2023-12-09",
         4.09,
         "2024-11-10",
         "2024-11-13T21:44:41.834+0000"
        ],
        [
         "CUST031",
         "2023-05-16",
         1.64,
         "2024-11-10",
         "2024-11-13T21:44:41.834+0000"
        ],
        [
         "CUST031",
         "2023-01-21",
         1.53,
         "2024-11-10",
         "2024-11-13T21:44:41.834+0000"
        ],
        [
         "CUST031",
         "2023-11-07",
         2.69,
         "2024-11-10",
         "2024-11-13T21:44:41.834+0000"
        ],
        [
         "CUST031",
         "2023-04-15",
         2.57,
         "2024-11-10",
         "2024-11-13T21:44:41.834+0000"
        ],
        [
         "CUST032",
         "2023-12-14",
         2.6,
         "2024-11-10",
         "2024-11-13T21:44:41.834+0000"
        ],
        [
         "CUST032",
         "2023-05-16",
         1.53,
         "2024-11-10",
         "2024-11-13T21:44:41.834+0000"
        ],
        [
         "CUST032",
         "2023-07-22",
         1.98,
         "2024-11-10",
         "2024-11-13T21:44:41.834+0000"
        ],
        [
         "CUST032",
         "2023-09-08",
         4.97,
         "2024-11-10",
         "2024-11-13T21:44:41.834+0000"
        ],
        [
         "CUST032",
         "2023-02-06",
         3.31,
         "2024-11-10",
         "2024-11-13T21:44:41.834+0000"
        ],
        [
         "CUST032",
         "2023-06-07",
         3.23,
         "2024-11-10",
         "2024-11-13T21:44:41.834+0000"
        ],
        [
         "CUST033",
         "2023-12-12",
         4.5,
         "2024-11-10",
         "2024-11-13T21:44:41.834+0000"
        ],
        [
         "CUST034",
         "2023-03-17",
         2.53,
         "2024-11-10",
         "2024-11-13T21:44:41.834+0000"
        ],
        [
         "CUST034",
         "2023-10-11",
         2.82,
         "2024-11-10",
         "2024-11-13T21:44:41.834+0000"
        ],
        [
         "CUST035",
         "2023-12-20",
         2.86,
         "2024-11-10",
         "2024-11-13T21:44:41.834+0000"
        ],
        [
         "CUST035",
         "2023-09-07",
         3.1,
         "2024-11-10",
         "2024-11-13T21:44:41.834+0000"
        ],
        [
         "CUST035",
         "2023-01-30",
         4.57,
         "2024-11-10",
         "2024-11-13T21:44:41.834+0000"
        ],
        [
         "CUST035",
         "2023-01-05",
         2.1,
         "2024-11-10",
         "2024-11-13T21:44:41.834+0000"
        ],
        [
         "CUST036",
         "2023-04-12",
         2.31,
         "2024-11-10",
         "2024-11-13T21:44:41.834+0000"
        ],
        [
         "CUST036",
         "2023-06-02",
         2.47,
         "2024-11-10",
         "2024-11-13T21:44:41.834+0000"
        ],
        [
         "CUST036",
         "2023-06-29",
         2.91,
         "2024-11-10",
         "2024-11-13T21:44:41.834+0000"
        ],
        [
         "CUST036",
         "2023-07-14",
         2.78,
         "2024-11-10",
         "2024-11-13T21:44:41.834+0000"
        ],
        [
         "CUST036",
         "2023-03-23",
         1.72,
         "2024-11-10",
         "2024-11-13T21:44:41.834+0000"
        ],
        [
         "CUST036",
         "2023-10-02",
         4.5,
         "2024-11-10",
         "2024-11-13T21:44:41.834+0000"
        ],
        [
         "CUST036",
         "2023-10-19",
         1.18,
         "2024-11-10",
         "2024-11-13T21:44:41.834+0000"
        ],
        [
         "CUST037",
         "2023-08-04",
         2.7,
         "2024-11-10",
         "2024-11-13T21:44:41.834+0000"
        ],
        [
         "CUST037",
         "2023-02-24",
         3.69,
         "2024-11-10",
         "2024-11-13T21:44:41.834+0000"
        ],
        [
         "CUST038",
         "2023-12-23",
         3.87,
         "2024-11-10",
         "2024-11-13T21:44:41.834+0000"
        ],
        [
         "CUST038",
         "2023-12-04",
         4.06,
         "2024-11-10",
         "2024-11-13T21:44:41.834+0000"
        ],
        [
         "CUST038",
         "2023-02-25",
         1.13,
         "2024-11-10",
         "2024-11-13T21:44:41.834+0000"
        ],
        [
         "CUST039",
         "2023-06-02",
         1.81,
         "2024-11-10",
         "2024-11-13T21:44:41.834+0000"
        ],
        [
         "CUST039",
         "2023-04-28",
         3.15,
         "2024-11-10",
         "2024-11-13T21:44:41.834+0000"
        ],
        [
         "CUST039",
         "2023-02-08",
         1.24,
         "2024-11-10",
         "2024-11-13T21:44:41.834+0000"
        ],
        [
         "CUST041",
         "2023-01-02",
         3.55,
         "2024-11-10",
         "2024-11-13T21:44:41.834+0000"
        ],
        [
         "CUST042",
         "2023-10-20",
         2.91,
         "2024-11-10",
         "2024-11-13T21:44:41.834+0000"
        ],
        [
         "CUST042",
         "2023-07-11",
         4.3,
         "2024-11-10",
         "2024-11-13T21:44:41.834+0000"
        ],
        [
         "CUST042",
         "2023-04-08",
         2.79,
         "2024-11-10",
         "2024-11-13T21:44:41.834+0000"
        ],
        [
         "CUST042",
         "2023-02-06",
         2.76,
         "2024-11-10",
         "2024-11-13T21:44:41.834+0000"
        ],
        [
         "CUST042",
         "2023-02-04",
         4.67,
         "2024-11-10",
         "2024-11-13T21:44:41.834+0000"
        ],
        [
         "CUST043",
         "2023-10-15",
         4.74,
         "2024-11-10",
         "2024-11-13T21:44:41.834+0000"
        ],
        [
         "CUST043",
         "2023-09-21",
         4.6,
         "2024-11-10",
         "2024-11-13T21:44:41.834+0000"
        ],
        [
         "CUST044",
         "2023-12-29",
         2.62,
         "2024-11-10",
         "2024-11-13T21:44:41.834+0000"
        ],
        [
         "CUST044",
         "2023-07-24",
         4.61,
         "2024-11-10",
         "2024-11-13T21:44:41.834+0000"
        ],
        [
         "CUST044",
         "2023-03-07",
         3.16,
         "2024-11-10",
         "2024-11-13T21:44:41.834+0000"
        ],
        [
         "CUST045",
         "2023-08-05",
         2.07,
         "2024-11-10",
         "2024-11-13T21:44:41.834+0000"
        ],
        [
         "CUST045",
         "2023-11-02",
         3.16,
         "2024-11-10",
         "2024-11-13T21:44:41.834+0000"
        ],
        [
         "CUST046",
         "2023-05-26",
         4.08,
         "2024-11-10",
         "2024-11-13T21:44:41.834+0000"
        ],
        [
         "CUST046",
         "2023-06-03",
         4.58,
         "2024-11-10",
         "2024-11-13T21:44:41.834+0000"
        ],
        [
         "CUST047",
         "2023-07-26",
         3.11,
         "2024-11-10",
         "2024-11-13T21:44:41.834+0000"
        ],
        [
         "CUST047",
         "2023-12-20",
         2.96,
         "2024-11-10",
         "2024-11-13T21:44:41.834+0000"
        ],
        [
         "CUST047",
         "2023-05-16",
         4.97,
         "2024-11-10",
         "2024-11-13T21:44:41.834+0000"
        ],
        [
         "CUST047",
         "2023-04-20",
         3.64,
         "2024-11-10",
         "2024-11-13T21:44:41.834+0000"
        ],
        [
         "CUST047",
         "2023-01-20",
         1.94,
         "2024-11-10",
         "2024-11-13T21:44:41.834+0000"
        ],
        [
         "CUST047",
         "2023-02-03",
         1.95,
         "2024-11-10",
         "2024-11-13T21:44:41.834+0000"
        ],
        [
         "CUST047",
         "2023-05-05",
         2.65,
         "2024-11-10",
         "2024-11-13T21:44:41.834+0000"
        ],
        [
         "CUST048",
         "2023-07-28",
         1.77,
         "2024-11-10",
         "2024-11-13T21:44:41.834+0000"
        ],
        [
         "CUST048",
         "2023-12-11",
         2.02,
         "2024-11-10",
         "2024-11-13T21:44:41.834+0000"
        ],
        [
         "CUST048",
         "2023-10-15",
         1.87,
         "2024-11-10",
         "2024-11-13T21:44:41.834+0000"
        ],
        [
         "CUST048",
         "2023-06-11",
         1.92,
         "2024-11-10",
         "2024-11-13T21:44:41.834+0000"
        ],
        [
         "CUST048",
         "2023-01-05",
         3.3,
         "2024-11-10",
         "2024-11-13T21:44:41.834+0000"
        ],
        [
         "CUST049",
         "2023-02-11",
         3.67,
         "2024-11-10",
         "2024-11-13T21:44:41.834+0000"
        ],
        [
         "CUST049",
         "2023-01-01",
         3.72,
         "2024-11-10",
         "2024-11-13T21:44:41.834+0000"
        ],
        [
         "CUST049",
         "2023-03-12",
         1.29,
         "2024-11-10",
         "2024-11-13T21:44:41.834+0000"
        ],
        [
         "CUST049",
         "2023-02-05",
         1.51,
         "2024-11-10",
         "2024-11-13T21:44:41.834+0000"
        ],
        [
         "CUST049",
         "2023-07-26",
         1.56,
         "2024-11-10",
         "2024-11-13T21:44:41.834+0000"
        ],
        [
         "CUST050",
         "2023-12-06",
         3.57,
         "2024-11-10",
         "2024-11-13T21:44:41.834+0000"
        ]
       ],
       "datasetInfos": [],
       "dbfsResultPath": null,
       "isJsonSchema": true,
       "metadata": {},
       "overflow": false,
       "plotOptions": {
        "customPlotOptions": {},
        "displayType": "table",
        "pivotAggregation": null,
        "pivotColumns": null,
        "xColumns": null,
        "yColumns": null
       },
       "removedWidgets": [],
       "schema": [
        {
         "metadata": "{}",
         "name": "customer_id",
         "type": "\"string\""
        },
        {
         "metadata": "{}",
         "name": "transaction_date",
         "type": "\"date\""
        },
        {
         "metadata": "{}",
         "name": "DiscountAmount",
         "type": "\"double\""
        },
        {
         "metadata": "{}",
         "name": "file_date",
         "type": "\"string\""
        },
        {
         "metadata": "{}",
         "name": "ingestion_date",
         "type": "\"timestamp\""
        }
       ],
       "type": "table"
      }
     },
     "output_type": "display_data"
    }
   ],
   "source": [
    "display(discounts_data_final_df )"
   ]
  },
  {
   "cell_type": "markdown",
   "metadata": {
    "application/vnd.databricks.v1+cell": {
     "cellMetadata": {
      "byteLimit": 2048000,
      "rowLimit": 10000
     },
     "inputWidgets": {},
     "nuid": "103e7215-ca53-4fc2-ab1d-867bd623a110",
     "showTitle": false,
     "tableResultSettingsMap": {},
     "title": ""
    }
   },
   "source": [
    "# Save the table to the silver folder"
   ]
  },
  {
   "cell_type": "code",
   "execution_count": 0,
   "metadata": {
    "application/vnd.databricks.v1+cell": {
     "cellMetadata": {
      "byteLimit": 2048000,
      "rowLimit": 10000
     },
     "inputWidgets": {},
     "nuid": "edbe004b-1392-4dec-87f2-371fa5f2e86a",
     "showTitle": false,
     "tableResultSettingsMap": {},
     "title": ""
    }
   },
   "outputs": [],
   "source": [
    "spark.conf.set(\"spark.databricks.optimizer.dynamicPartitionPruning\", \"true\")\n",
    "\n",
    "from delta.tables import DeltaTable\n",
    "\n",
    "# Check if the table exists in the catalog\n",
    "if spark._jsparkSession.catalog().tableExists(\"clv_silver.discounts_data\"):\n",
    "    # Load the existing Delta table\n",
    "    deltaTable = DeltaTable.forPath(spark, \"/mnt/clvprojectadls/silver/discounts_data\")\n",
    "    \n",
    "    # Perform the merge operation\n",
    "    deltaTable.alias(\"tgt\").merge(discounts_data_final_df.alias(\"src\"), \"tgt.customer_id = src.customer_id\") \\\n",
    "        .whenMatchedUpdateAll() \\\n",
    "        .whenNotMatchedInsertAll() \\\n",
    "        .execute()\n",
    "else:\n",
    "    # Write the DataFrame as a new Delta table with partitioning by customer_id\n",
    "    discounts_data_final_df .write \\\n",
    "        .mode('overwrite') \\\n",
    "        .partitionBy('customer_id') \\\n",
    "        .format('delta') \\\n",
    "        .saveAsTable(\"clv_silver.discounts_data\")"
   ]
  },
  {
   "cell_type": "code",
   "execution_count": 0,
   "metadata": {
    "application/vnd.databricks.v1+cell": {
     "cellMetadata": {
      "byteLimit": 2048000,
      "implicitDf": true,
      "rowLimit": 10000
     },
     "inputWidgets": {},
     "nuid": "f8d3eb8e-a8d4-4481-b54f-fc77360c3103",
     "showTitle": false,
     "tableResultSettingsMap": {},
     "title": ""
    }
   },
   "outputs": [
    {
     "output_type": "display_data",
     "data": {
      "text/html": [
       "<style scoped>\n",
       "  .table-result-container {\n",
       "    max-height: 300px;\n",
       "    overflow: auto;\n",
       "  }\n",
       "  table, th, td {\n",
       "    border: 1px solid black;\n",
       "    border-collapse: collapse;\n",
       "  }\n",
       "  th, td {\n",
       "    padding: 5px;\n",
       "  }\n",
       "  th {\n",
       "    text-align: left;\n",
       "  }\n",
       "</style><div class='table-result-container'><table class='table-result'><thead style='background-color: white'><tr><th>customer_id</th><th>transaction_date</th><th>DiscountAmount</th><th>file_date</th><th>ingestion_date</th></tr></thead><tbody><tr><td>CUST001</td><td>2023-06-18</td><td>3.69</td><td>2024-11-01</td><td>2024-11-13T21:44:10.679+0000</td></tr><tr><td>CUST002</td><td>2023-01-05</td><td>1.62</td><td>2024-11-01</td><td>2024-11-13T21:44:10.679+0000</td></tr><tr><td>CUST003</td><td>2023-09-01</td><td>1.66</td><td>2024-11-05</td><td>2024-11-13T21:44:24.151+0000</td></tr><tr><td>CUST003</td><td>2023-10-20</td><td>3.88</td><td>2024-11-05</td><td>2024-11-13T21:44:24.151+0000</td></tr><tr><td>CUST004</td><td>2023-11-07</td><td>1.38</td><td>2024-11-05</td><td>2024-11-13T21:44:24.151+0000</td></tr><tr><td>CUST004</td><td>2023-02-06</td><td>4.76</td><td>2024-11-05</td><td>2024-11-13T21:44:24.151+0000</td></tr><tr><td>CUST004</td><td>2023-10-24</td><td>4.67</td><td>2024-11-05</td><td>2024-11-13T21:44:24.151+0000</td></tr><tr><td>CUST005</td><td>2023-05-26</td><td>4.42</td><td>2024-11-05</td><td>2024-11-13T21:44:24.151+0000</td></tr><tr><td>CUST006</td><td>2023-08-15</td><td>4.05</td><td>2024-11-05</td><td>2024-11-13T21:44:24.151+0000</td></tr><tr><td>CUST006</td><td>2023-12-15</td><td>4.15</td><td>2024-11-05</td><td>2024-11-13T21:44:24.151+0000</td></tr><tr><td>CUST007</td><td>2023-07-19</td><td>1.47</td><td>2024-11-05</td><td>2024-11-13T21:44:24.151+0000</td></tr><tr><td>CUST008</td><td>2023-10-04</td><td>1.01</td><td>2024-11-05</td><td>2024-11-13T21:44:24.151+0000</td></tr><tr><td>CUST009</td><td>2023-02-02</td><td>4.96</td><td>2024-11-05</td><td>2024-11-13T21:44:24.151+0000</td></tr><tr><td>CUST009</td><td>2023-01-20</td><td>3.09</td><td>2024-11-05</td><td>2024-11-13T21:44:24.151+0000</td></tr><tr><td>CUST010</td><td>2023-09-29</td><td>3.29</td><td>2024-11-05</td><td>2024-11-13T21:44:24.151+0000</td></tr><tr><td>CUST010</td><td>2023-11-10</td><td>3.76</td><td>2024-11-05</td><td>2024-11-13T21:44:24.151+0000</td></tr><tr><td>CUST010</td><td>2023-08-31</td><td>2.84</td><td>2024-11-05</td><td>2024-11-13T21:44:24.151+0000</td></tr><tr><td>CUST010</td><td>2023-02-05</td><td>4.56</td><td>2024-11-05</td><td>2024-11-13T21:44:24.151+0000</td></tr><tr><td>CUST011</td><td>2023-02-05</td><td>4.27</td><td>2024-11-05</td><td>2024-11-13T21:44:24.151+0000</td></tr><tr><td>CUST011</td><td>2023-05-08</td><td>4.94</td><td>2024-11-05</td><td>2024-11-13T21:44:24.151+0000</td></tr><tr><td>CUST012</td><td>2023-01-01</td><td>3.44</td><td>2024-11-05</td><td>2024-11-13T21:44:24.151+0000</td></tr><tr><td>CUST012</td><td>2023-04-25</td><td>1.95</td><td>2024-11-05</td><td>2024-11-13T21:44:24.151+0000</td></tr><tr><td>CUST012</td><td>2023-06-18</td><td>3.37</td><td>2024-11-05</td><td>2024-11-13T21:44:24.151+0000</td></tr><tr><td>CUST013</td><td>2023-12-09</td><td>2.45</td><td>2024-11-05</td><td>2024-11-13T21:44:24.151+0000</td></tr><tr><td>CUST013</td><td>2023-12-04</td><td>2.77</td><td>2024-11-05</td><td>2024-11-13T21:44:24.151+0000</td></tr><tr><td>CUST013</td><td>2023-03-09</td><td>1.09</td><td>2024-11-05</td><td>2024-11-13T21:44:24.151+0000</td></tr><tr><td>CUST013</td><td>2023-11-15</td><td>1.96</td><td>2024-11-05</td><td>2024-11-13T21:44:24.151+0000</td></tr><tr><td>CUST014</td><td>2023-10-24</td><td>4.03</td><td>2024-11-05</td><td>2024-11-13T21:44:24.151+0000</td></tr><tr><td>CUST014</td><td>2023-12-07</td><td>1.22</td><td>2024-11-05</td><td>2024-11-13T21:44:24.151+0000</td></tr><tr><td>CUST014</td><td>2023-11-14</td><td>2.66</td><td>2024-11-05</td><td>2024-11-13T21:44:24.151+0000</td></tr><tr><td>CUST014</td><td>2023-09-01</td><td>2.23</td><td>2024-11-05</td><td>2024-11-13T21:44:24.151+0000</td></tr><tr><td>CUST014</td><td>2023-08-20</td><td>4.94</td><td>2024-11-05</td><td>2024-11-13T21:44:24.151+0000</td></tr><tr><td>CUST014</td><td>2023-01-13</td><td>4.34</td><td>2024-11-05</td><td>2024-11-13T21:44:24.151+0000</td></tr><tr><td>CUST015</td><td>2023-05-16</td><td>4.69</td><td>2024-11-05</td><td>2024-11-13T21:44:24.151+0000</td></tr><tr><td>CUST015</td><td>2023-03-13</td><td>2.52</td><td>2024-11-05</td><td>2024-11-13T21:44:24.151+0000</td></tr><tr><td>CUST015</td><td>2023-06-04</td><td>3.38</td><td>2024-11-05</td><td>2024-11-13T21:44:24.151+0000</td></tr><tr><td>CUST016</td><td>2023-10-03</td><td>3.74</td><td>2024-11-05</td><td>2024-11-13T21:44:24.151+0000</td></tr><tr><td>CUST016</td><td>2023-08-08</td><td>3.81</td><td>2024-11-05</td><td>2024-11-13T21:44:24.151+0000</td></tr><tr><td>CUST016</td><td>2023-09-18</td><td>3.8</td><td>2024-11-05</td><td>2024-11-13T21:44:24.151+0000</td></tr><tr><td>CUST016</td><td>2023-08-24</td><td>2.15</td><td>2024-11-05</td><td>2024-11-13T21:44:24.151+0000</td></tr><tr><td>CUST016</td><td>2023-03-05</td><td>4.49</td><td>2024-11-05</td><td>2024-11-13T21:44:24.151+0000</td></tr><tr><td>CUST017</td><td>2023-08-09</td><td>4.65</td><td>2024-11-05</td><td>2024-11-13T21:44:24.151+0000</td></tr><tr><td>CUST017</td><td>2023-05-04</td><td>1.32</td><td>2024-11-05</td><td>2024-11-13T21:44:24.151+0000</td></tr><tr><td>CUST017</td><td>2023-12-18</td><td>1.75</td><td>2024-11-05</td><td>2024-11-13T21:44:24.151+0000</td></tr><tr><td>CUST017</td><td>2023-06-24</td><td>4.1</td><td>2024-11-05</td><td>2024-11-13T21:44:24.151+0000</td></tr><tr><td>CUST018</td><td>2023-12-15</td><td>1.45</td><td>2024-11-05</td><td>2024-11-13T21:44:24.151+0000</td></tr><tr><td>CUST019</td><td>2023-03-13</td><td>3.92</td><td>2024-11-05</td><td>2024-11-13T21:44:24.151+0000</td></tr><tr><td>CUST019</td><td>2023-12-28</td><td>4.74</td><td>2024-11-05</td><td>2024-11-13T21:44:24.151+0000</td></tr><tr><td>CUST020</td><td>2023-03-18</td><td>2.05</td><td>2024-11-05</td><td>2024-11-13T21:44:24.151+0000</td></tr><tr><td>CUST020</td><td>2023-06-19</td><td>4.55</td><td>2024-11-05</td><td>2024-11-13T21:44:24.151+0000</td></tr><tr><td>CUST020</td><td>2023-03-26</td><td>3.24</td><td>2024-11-05</td><td>2024-11-13T21:44:24.151+0000</td></tr><tr><td>CUST020</td><td>2023-08-09</td><td>2.51</td><td>2024-11-05</td><td>2024-11-13T21:44:24.151+0000</td></tr><tr><td>CUST021</td><td>2023-06-20</td><td>2.79</td><td>2024-11-10</td><td>2024-11-13T21:44:42.229+0000</td></tr><tr><td>CUST021</td><td>2023-03-05</td><td>1.54</td><td>2024-11-10</td><td>2024-11-13T21:44:42.229+0000</td></tr><tr><td>CUST021</td><td>2023-12-06</td><td>4.91</td><td>2024-11-10</td><td>2024-11-13T21:44:42.229+0000</td></tr><tr><td>CUST021</td><td>2023-03-07</td><td>4.91</td><td>2024-11-10</td><td>2024-11-13T21:44:42.229+0000</td></tr><tr><td>CUST022</td><td>2023-02-07</td><td>4.21</td><td>2024-11-10</td><td>2024-11-13T21:44:42.229+0000</td></tr><tr><td>CUST022</td><td>2023-02-08</td><td>3.26</td><td>2024-11-10</td><td>2024-11-13T21:44:42.229+0000</td></tr><tr><td>CUST022</td><td>2023-05-14</td><td>1.27</td><td>2024-11-10</td><td>2024-11-13T21:44:42.229+0000</td></tr><tr><td>CUST022</td><td>2023-07-17</td><td>4.02</td><td>2024-11-10</td><td>2024-11-13T21:44:42.229+0000</td></tr><tr><td>CUST023</td><td>2023-04-12</td><td>4.93</td><td>2024-11-10</td><td>2024-11-13T21:44:42.229+0000</td></tr><tr><td>CUST023</td><td>2023-12-13</td><td>4.67</td><td>2024-11-10</td><td>2024-11-13T21:44:42.229+0000</td></tr><tr><td>CUST023</td><td>2023-04-13</td><td>4.51</td><td>2024-11-10</td><td>2024-11-13T21:44:42.229+0000</td></tr><tr><td>CUST024</td><td>2023-10-26</td><td>3.38</td><td>2024-11-10</td><td>2024-11-13T21:44:42.229+0000</td></tr><tr><td>CUST024</td><td>2023-09-21</td><td>4.86</td><td>2024-11-10</td><td>2024-11-13T21:44:42.229+0000</td></tr><tr><td>CUST024</td><td>2023-05-06</td><td>4.02</td><td>2024-11-10</td><td>2024-11-13T21:44:42.229+0000</td></tr><tr><td>CUST025</td><td>2023-03-09</td><td>1.03</td><td>2024-11-10</td><td>2024-11-13T21:44:42.229+0000</td></tr><tr><td>CUST025</td><td>2023-02-06</td><td>2.44</td><td>2024-11-10</td><td>2024-11-13T21:44:42.229+0000</td></tr><tr><td>CUST025</td><td>2023-01-11</td><td>2.49</td><td>2024-11-10</td><td>2024-11-13T21:44:42.229+0000</td></tr><tr><td>CUST025</td><td>2023-07-03</td><td>4.32</td><td>2024-11-10</td><td>2024-11-13T21:44:42.229+0000</td></tr><tr><td>CUST025</td><td>2023-08-27</td><td>4.86</td><td>2024-11-10</td><td>2024-11-13T21:44:42.229+0000</td></tr><tr><td>CUST025</td><td>2023-11-21</td><td>2.79</td><td>2024-11-10</td><td>2024-11-13T21:44:42.229+0000</td></tr><tr><td>CUST026</td><td>2023-04-20</td><td>2.89</td><td>2024-11-10</td><td>2024-11-13T21:44:42.229+0000</td></tr><tr><td>CUST027</td><td>2023-03-13</td><td>2.32</td><td>2024-11-10</td><td>2024-11-13T21:44:42.229+0000</td></tr><tr><td>CUST027</td><td>2023-08-31</td><td>3.33</td><td>2024-11-10</td><td>2024-11-13T21:44:42.229+0000</td></tr><tr><td>CUST027</td><td>2023-05-17</td><td>1.88</td><td>2024-11-10</td><td>2024-11-13T21:44:42.229+0000</td></tr><tr><td>CUST027</td><td>2023-02-17</td><td>4.83</td><td>2024-11-10</td><td>2024-11-13T21:44:42.229+0000</td></tr><tr><td>CUST027</td><td>2023-03-28</td><td>2.85</td><td>2024-11-10</td><td>2024-11-13T21:44:42.229+0000</td></tr><tr><td>CUST027</td><td>2023-02-05</td><td>3.46</td><td>2024-11-10</td><td>2024-11-13T21:44:42.229+0000</td></tr><tr><td>CUST028</td><td>2023-08-18</td><td>2.71</td><td>2024-11-10</td><td>2024-11-13T21:44:42.229+0000</td></tr><tr><td>CUST029</td><td>2023-03-03</td><td>3.72</td><td>2024-11-10</td><td>2024-11-13T21:44:42.229+0000</td></tr><tr><td>CUST030</td><td>2023-07-28</td><td>3.55</td><td>2024-11-10</td><td>2024-11-13T21:44:42.229+0000</td></tr><tr><td>CUST030</td><td>2023-04-20</td><td>2.5</td><td>2024-11-10</td><td>2024-11-13T21:44:42.229+0000</td></tr><tr><td>CUST030</td><td>2023-08-09</td><td>4.44</td><td>2024-11-10</td><td>2024-11-13T21:44:42.229+0000</td></tr><tr><td>CUST030</td><td>2023-12-09</td><td>4.09</td><td>2024-11-10</td><td>2024-11-13T21:44:42.229+0000</td></tr><tr><td>CUST031</td><td>2023-05-16</td><td>1.64</td><td>2024-11-10</td><td>2024-11-13T21:44:42.229+0000</td></tr><tr><td>CUST031</td><td>2023-01-21</td><td>1.53</td><td>2024-11-10</td><td>2024-11-13T21:44:42.229+0000</td></tr><tr><td>CUST031</td><td>2023-11-07</td><td>2.69</td><td>2024-11-10</td><td>2024-11-13T21:44:42.229+0000</td></tr><tr><td>CUST031</td><td>2023-04-15</td><td>2.57</td><td>2024-11-10</td><td>2024-11-13T21:44:42.229+0000</td></tr><tr><td>CUST032</td><td>2023-12-14</td><td>2.6</td><td>2024-11-10</td><td>2024-11-13T21:44:42.229+0000</td></tr><tr><td>CUST032</td><td>2023-05-16</td><td>1.53</td><td>2024-11-10</td><td>2024-11-13T21:44:42.229+0000</td></tr><tr><td>CUST032</td><td>2023-07-22</td><td>1.98</td><td>2024-11-10</td><td>2024-11-13T21:44:42.229+0000</td></tr><tr><td>CUST032</td><td>2023-09-08</td><td>4.97</td><td>2024-11-10</td><td>2024-11-13T21:44:42.229+0000</td></tr><tr><td>CUST032</td><td>2023-02-06</td><td>3.31</td><td>2024-11-10</td><td>2024-11-13T21:44:42.229+0000</td></tr><tr><td>CUST032</td><td>2023-06-07</td><td>3.23</td><td>2024-11-10</td><td>2024-11-13T21:44:42.229+0000</td></tr><tr><td>CUST033</td><td>2023-12-12</td><td>4.5</td><td>2024-11-10</td><td>2024-11-13T21:44:42.229+0000</td></tr><tr><td>CUST034</td><td>2023-03-17</td><td>2.53</td><td>2024-11-10</td><td>2024-11-13T21:44:42.229+0000</td></tr><tr><td>CUST034</td><td>2023-10-11</td><td>2.82</td><td>2024-11-10</td><td>2024-11-13T21:44:42.229+0000</td></tr><tr><td>CUST035</td><td>2023-12-20</td><td>2.86</td><td>2024-11-10</td><td>2024-11-13T21:44:42.229+0000</td></tr><tr><td>CUST035</td><td>2023-09-07</td><td>3.1</td><td>2024-11-10</td><td>2024-11-13T21:44:42.229+0000</td></tr><tr><td>CUST035</td><td>2023-01-30</td><td>4.57</td><td>2024-11-10</td><td>2024-11-13T21:44:42.229+0000</td></tr><tr><td>CUST035</td><td>2023-01-05</td><td>2.1</td><td>2024-11-10</td><td>2024-11-13T21:44:42.229+0000</td></tr><tr><td>CUST036</td><td>2023-04-12</td><td>2.31</td><td>2024-11-10</td><td>2024-11-13T21:44:42.229+0000</td></tr><tr><td>CUST036</td><td>2023-06-02</td><td>2.47</td><td>2024-11-10</td><td>2024-11-13T21:44:42.229+0000</td></tr><tr><td>CUST036</td><td>2023-06-29</td><td>2.91</td><td>2024-11-10</td><td>2024-11-13T21:44:42.229+0000</td></tr><tr><td>CUST036</td><td>2023-07-14</td><td>2.78</td><td>2024-11-10</td><td>2024-11-13T21:44:42.229+0000</td></tr><tr><td>CUST036</td><td>2023-03-23</td><td>1.72</td><td>2024-11-10</td><td>2024-11-13T21:44:42.229+0000</td></tr><tr><td>CUST036</td><td>2023-10-02</td><td>4.5</td><td>2024-11-10</td><td>2024-11-13T21:44:42.229+0000</td></tr><tr><td>CUST036</td><td>2023-10-19</td><td>1.18</td><td>2024-11-10</td><td>2024-11-13T21:44:42.229+0000</td></tr><tr><td>CUST037</td><td>2023-08-04</td><td>2.7</td><td>2024-11-10</td><td>2024-11-13T21:44:42.229+0000</td></tr><tr><td>CUST037</td><td>2023-02-24</td><td>3.69</td><td>2024-11-10</td><td>2024-11-13T21:44:42.229+0000</td></tr><tr><td>CUST038</td><td>2023-12-23</td><td>3.87</td><td>2024-11-10</td><td>2024-11-13T21:44:42.229+0000</td></tr><tr><td>CUST038</td><td>2023-12-04</td><td>4.06</td><td>2024-11-10</td><td>2024-11-13T21:44:42.229+0000</td></tr><tr><td>CUST038</td><td>2023-02-25</td><td>1.13</td><td>2024-11-10</td><td>2024-11-13T21:44:42.229+0000</td></tr><tr><td>CUST039</td><td>2023-06-02</td><td>1.81</td><td>2024-11-10</td><td>2024-11-13T21:44:42.229+0000</td></tr><tr><td>CUST039</td><td>2023-04-28</td><td>3.15</td><td>2024-11-10</td><td>2024-11-13T21:44:42.229+0000</td></tr><tr><td>CUST039</td><td>2023-02-08</td><td>1.24</td><td>2024-11-10</td><td>2024-11-13T21:44:42.229+0000</td></tr><tr><td>CUST041</td><td>2023-01-02</td><td>3.55</td><td>2024-11-10</td><td>2024-11-13T21:44:42.229+0000</td></tr><tr><td>CUST042</td><td>2023-10-20</td><td>2.91</td><td>2024-11-10</td><td>2024-11-13T21:44:42.229+0000</td></tr><tr><td>CUST042</td><td>2023-07-11</td><td>4.3</td><td>2024-11-10</td><td>2024-11-13T21:44:42.229+0000</td></tr><tr><td>CUST042</td><td>2023-04-08</td><td>2.79</td><td>2024-11-10</td><td>2024-11-13T21:44:42.229+0000</td></tr><tr><td>CUST042</td><td>2023-02-06</td><td>2.76</td><td>2024-11-10</td><td>2024-11-13T21:44:42.229+0000</td></tr><tr><td>CUST042</td><td>2023-02-04</td><td>4.67</td><td>2024-11-10</td><td>2024-11-13T21:44:42.229+0000</td></tr><tr><td>CUST043</td><td>2023-10-15</td><td>4.74</td><td>2024-11-10</td><td>2024-11-13T21:44:42.229+0000</td></tr><tr><td>CUST043</td><td>2023-09-21</td><td>4.6</td><td>2024-11-10</td><td>2024-11-13T21:44:42.229+0000</td></tr><tr><td>CUST044</td><td>2023-12-29</td><td>2.62</td><td>2024-11-10</td><td>2024-11-13T21:44:42.229+0000</td></tr><tr><td>CUST044</td><td>2023-07-24</td><td>4.61</td><td>2024-11-10</td><td>2024-11-13T21:44:42.229+0000</td></tr><tr><td>CUST044</td><td>2023-03-07</td><td>3.16</td><td>2024-11-10</td><td>2024-11-13T21:44:42.229+0000</td></tr><tr><td>CUST045</td><td>2023-08-05</td><td>2.07</td><td>2024-11-10</td><td>2024-11-13T21:44:42.229+0000</td></tr><tr><td>CUST045</td><td>2023-11-02</td><td>3.16</td><td>2024-11-10</td><td>2024-11-13T21:44:42.229+0000</td></tr><tr><td>CUST046</td><td>2023-05-26</td><td>4.08</td><td>2024-11-10</td><td>2024-11-13T21:44:42.229+0000</td></tr><tr><td>CUST046</td><td>2023-06-03</td><td>4.58</td><td>2024-11-10</td><td>2024-11-13T21:44:42.229+0000</td></tr><tr><td>CUST047</td><td>2023-07-26</td><td>3.11</td><td>2024-11-10</td><td>2024-11-13T21:44:42.229+0000</td></tr><tr><td>CUST047</td><td>2023-12-20</td><td>2.96</td><td>2024-11-10</td><td>2024-11-13T21:44:42.229+0000</td></tr><tr><td>CUST047</td><td>2023-05-16</td><td>4.97</td><td>2024-11-10</td><td>2024-11-13T21:44:42.229+0000</td></tr><tr><td>CUST047</td><td>2023-04-20</td><td>3.64</td><td>2024-11-10</td><td>2024-11-13T21:44:42.229+0000</td></tr><tr><td>CUST047</td><td>2023-01-20</td><td>1.94</td><td>2024-11-10</td><td>2024-11-13T21:44:42.229+0000</td></tr><tr><td>CUST047</td><td>2023-02-03</td><td>1.95</td><td>2024-11-10</td><td>2024-11-13T21:44:42.229+0000</td></tr><tr><td>CUST047</td><td>2023-05-05</td><td>2.65</td><td>2024-11-10</td><td>2024-11-13T21:44:42.229+0000</td></tr><tr><td>CUST048</td><td>2023-07-28</td><td>1.77</td><td>2024-11-10</td><td>2024-11-13T21:44:42.229+0000</td></tr><tr><td>CUST048</td><td>2023-12-11</td><td>2.02</td><td>2024-11-10</td><td>2024-11-13T21:44:42.229+0000</td></tr><tr><td>CUST048</td><td>2023-10-15</td><td>1.87</td><td>2024-11-10</td><td>2024-11-13T21:44:42.229+0000</td></tr><tr><td>CUST048</td><td>2023-06-11</td><td>1.92</td><td>2024-11-10</td><td>2024-11-13T21:44:42.229+0000</td></tr><tr><td>CUST048</td><td>2023-01-05</td><td>3.3</td><td>2024-11-10</td><td>2024-11-13T21:44:42.229+0000</td></tr><tr><td>CUST049</td><td>2023-02-11</td><td>3.67</td><td>2024-11-10</td><td>2024-11-13T21:44:42.229+0000</td></tr><tr><td>CUST049</td><td>2023-01-01</td><td>3.72</td><td>2024-11-10</td><td>2024-11-13T21:44:42.229+0000</td></tr><tr><td>CUST049</td><td>2023-03-12</td><td>1.29</td><td>2024-11-10</td><td>2024-11-13T21:44:42.229+0000</td></tr><tr><td>CUST049</td><td>2023-02-05</td><td>1.51</td><td>2024-11-10</td><td>2024-11-13T21:44:42.229+0000</td></tr><tr><td>CUST049</td><td>2023-07-26</td><td>1.56</td><td>2024-11-10</td><td>2024-11-13T21:44:42.229+0000</td></tr><tr><td>CUST050</td><td>2023-12-06</td><td>3.57</td><td>2024-11-10</td><td>2024-11-13T21:44:42.229+0000</td></tr></tbody></table></div>"
      ]
     },
     "metadata": {
      "application/vnd.databricks.v1+output": {
       "addedWidgets": {},
       "aggData": [],
       "aggError": "",
       "aggOverflow": false,
       "aggSchema": [],
       "aggSeriesLimitReached": false,
       "aggType": "",
       "arguments": {},
       "columnCustomDisplayInfos": {},
       "data": [
        [
         "CUST001",
         "2023-06-18",
         3.69,
         "2024-11-01",
         "2024-11-13T21:44:10.679+0000"
        ],
        [
         "CUST002",
         "2023-01-05",
         1.62,
         "2024-11-01",
         "2024-11-13T21:44:10.679+0000"
        ],
        [
         "CUST003",
         "2023-09-01",
         1.66,
         "2024-11-05",
         "2024-11-13T21:44:24.151+0000"
        ],
        [
         "CUST003",
         "2023-10-20",
         3.88,
         "2024-11-05",
         "2024-11-13T21:44:24.151+0000"
        ],
        [
         "CUST004",
         "2023-11-07",
         1.38,
         "2024-11-05",
         "2024-11-13T21:44:24.151+0000"
        ],
        [
         "CUST004",
         "2023-02-06",
         4.76,
         "2024-11-05",
         "2024-11-13T21:44:24.151+0000"
        ],
        [
         "CUST004",
         "2023-10-24",
         4.67,
         "2024-11-05",
         "2024-11-13T21:44:24.151+0000"
        ],
        [
         "CUST005",
         "2023-05-26",
         4.42,
         "2024-11-05",
         "2024-11-13T21:44:24.151+0000"
        ],
        [
         "CUST006",
         "2023-08-15",
         4.05,
         "2024-11-05",
         "2024-11-13T21:44:24.151+0000"
        ],
        [
         "CUST006",
         "2023-12-15",
         4.15,
         "2024-11-05",
         "2024-11-13T21:44:24.151+0000"
        ],
        [
         "CUST007",
         "2023-07-19",
         1.47,
         "2024-11-05",
         "2024-11-13T21:44:24.151+0000"
        ],
        [
         "CUST008",
         "2023-10-04",
         1.01,
         "2024-11-05",
         "2024-11-13T21:44:24.151+0000"
        ],
        [
         "CUST009",
         "2023-02-02",
         4.96,
         "2024-11-05",
         "2024-11-13T21:44:24.151+0000"
        ],
        [
         "CUST009",
         "2023-01-20",
         3.09,
         "2024-11-05",
         "2024-11-13T21:44:24.151+0000"
        ],
        [
         "CUST010",
         "2023-09-29",
         3.29,
         "2024-11-05",
         "2024-11-13T21:44:24.151+0000"
        ],
        [
         "CUST010",
         "2023-11-10",
         3.76,
         "2024-11-05",
         "2024-11-13T21:44:24.151+0000"
        ],
        [
         "CUST010",
         "2023-08-31",
         2.84,
         "2024-11-05",
         "2024-11-13T21:44:24.151+0000"
        ],
        [
         "CUST010",
         "2023-02-05",
         4.56,
         "2024-11-05",
         "2024-11-13T21:44:24.151+0000"
        ],
        [
         "CUST011",
         "2023-02-05",
         4.27,
         "2024-11-05",
         "2024-11-13T21:44:24.151+0000"
        ],
        [
         "CUST011",
         "2023-05-08",
         4.94,
         "2024-11-05",
         "2024-11-13T21:44:24.151+0000"
        ],
        [
         "CUST012",
         "2023-01-01",
         3.44,
         "2024-11-05",
         "2024-11-13T21:44:24.151+0000"
        ],
        [
         "CUST012",
         "2023-04-25",
         1.95,
         "2024-11-05",
         "2024-11-13T21:44:24.151+0000"
        ],
        [
         "CUST012",
         "2023-06-18",
         3.37,
         "2024-11-05",
         "2024-11-13T21:44:24.151+0000"
        ],
        [
         "CUST013",
         "2023-12-09",
         2.45,
         "2024-11-05",
         "2024-11-13T21:44:24.151+0000"
        ],
        [
         "CUST013",
         "2023-12-04",
         2.77,
         "2024-11-05",
         "2024-11-13T21:44:24.151+0000"
        ],
        [
         "CUST013",
         "2023-03-09",
         1.09,
         "2024-11-05",
         "2024-11-13T21:44:24.151+0000"
        ],
        [
         "CUST013",
         "2023-11-15",
         1.96,
         "2024-11-05",
         "2024-11-13T21:44:24.151+0000"
        ],
        [
         "CUST014",
         "2023-10-24",
         4.03,
         "2024-11-05",
         "2024-11-13T21:44:24.151+0000"
        ],
        [
         "CUST014",
         "2023-12-07",
         1.22,
         "2024-11-05",
         "2024-11-13T21:44:24.151+0000"
        ],
        [
         "CUST014",
         "2023-11-14",
         2.66,
         "2024-11-05",
         "2024-11-13T21:44:24.151+0000"
        ],
        [
         "CUST014",
         "2023-09-01",
         2.23,
         "2024-11-05",
         "2024-11-13T21:44:24.151+0000"
        ],
        [
         "CUST014",
         "2023-08-20",
         4.94,
         "2024-11-05",
         "2024-11-13T21:44:24.151+0000"
        ],
        [
         "CUST014",
         "2023-01-13",
         4.34,
         "2024-11-05",
         "2024-11-13T21:44:24.151+0000"
        ],
        [
         "CUST015",
         "2023-05-16",
         4.69,
         "2024-11-05",
         "2024-11-13T21:44:24.151+0000"
        ],
        [
         "CUST015",
         "2023-03-13",
         2.52,
         "2024-11-05",
         "2024-11-13T21:44:24.151+0000"
        ],
        [
         "CUST015",
         "2023-06-04",
         3.38,
         "2024-11-05",
         "2024-11-13T21:44:24.151+0000"
        ],
        [
         "CUST016",
         "2023-10-03",
         3.74,
         "2024-11-05",
         "2024-11-13T21:44:24.151+0000"
        ],
        [
         "CUST016",
         "2023-08-08",
         3.81,
         "2024-11-05",
         "2024-11-13T21:44:24.151+0000"
        ],
        [
         "CUST016",
         "2023-09-18",
         3.8,
         "2024-11-05",
         "2024-11-13T21:44:24.151+0000"
        ],
        [
         "CUST016",
         "2023-08-24",
         2.15,
         "2024-11-05",
         "2024-11-13T21:44:24.151+0000"
        ],
        [
         "CUST016",
         "2023-03-05",
         4.49,
         "2024-11-05",
         "2024-11-13T21:44:24.151+0000"
        ],
        [
         "CUST017",
         "2023-08-09",
         4.65,
         "2024-11-05",
         "2024-11-13T21:44:24.151+0000"
        ],
        [
         "CUST017",
         "2023-05-04",
         1.32,
         "2024-11-05",
         "2024-11-13T21:44:24.151+0000"
        ],
        [
         "CUST017",
         "2023-12-18",
         1.75,
         "2024-11-05",
         "2024-11-13T21:44:24.151+0000"
        ],
        [
         "CUST017",
         "2023-06-24",
         4.1,
         "2024-11-05",
         "2024-11-13T21:44:24.151+0000"
        ],
        [
         "CUST018",
         "2023-12-15",
         1.45,
         "2024-11-05",
         "2024-11-13T21:44:24.151+0000"
        ],
        [
         "CUST019",
         "2023-03-13",
         3.92,
         "2024-11-05",
         "2024-11-13T21:44:24.151+0000"
        ],
        [
         "CUST019",
         "2023-12-28",
         4.74,
         "2024-11-05",
         "2024-11-13T21:44:24.151+0000"
        ],
        [
         "CUST020",
         "2023-03-18",
         2.05,
         "2024-11-05",
         "2024-11-13T21:44:24.151+0000"
        ],
        [
         "CUST020",
         "2023-06-19",
         4.55,
         "2024-11-05",
         "2024-11-13T21:44:24.151+0000"
        ],
        [
         "CUST020",
         "2023-03-26",
         3.24,
         "2024-11-05",
         "2024-11-13T21:44:24.151+0000"
        ],
        [
         "CUST020",
         "2023-08-09",
         2.51,
         "2024-11-05",
         "2024-11-13T21:44:24.151+0000"
        ],
        [
         "CUST021",
         "2023-06-20",
         2.79,
         "2024-11-10",
         "2024-11-13T21:44:42.229+0000"
        ],
        [
         "CUST021",
         "2023-03-05",
         1.54,
         "2024-11-10",
         "2024-11-13T21:44:42.229+0000"
        ],
        [
         "CUST021",
         "2023-12-06",
         4.91,
         "2024-11-10",
         "2024-11-13T21:44:42.229+0000"
        ],
        [
         "CUST021",
         "2023-03-07",
         4.91,
         "2024-11-10",
         "2024-11-13T21:44:42.229+0000"
        ],
        [
         "CUST022",
         "2023-02-07",
         4.21,
         "2024-11-10",
         "2024-11-13T21:44:42.229+0000"
        ],
        [
         "CUST022",
         "2023-02-08",
         3.26,
         "2024-11-10",
         "2024-11-13T21:44:42.229+0000"
        ],
        [
         "CUST022",
         "2023-05-14",
         1.27,
         "2024-11-10",
         "2024-11-13T21:44:42.229+0000"
        ],
        [
         "CUST022",
         "2023-07-17",
         4.02,
         "2024-11-10",
         "2024-11-13T21:44:42.229+0000"
        ],
        [
         "CUST023",
         "2023-04-12",
         4.93,
         "2024-11-10",
         "2024-11-13T21:44:42.229+0000"
        ],
        [
         "CUST023",
         "2023-12-13",
         4.67,
         "2024-11-10",
         "2024-11-13T21:44:42.229+0000"
        ],
        [
         "CUST023",
         "2023-04-13",
         4.51,
         "2024-11-10",
         "2024-11-13T21:44:42.229+0000"
        ],
        [
         "CUST024",
         "2023-10-26",
         3.38,
         "2024-11-10",
         "2024-11-13T21:44:42.229+0000"
        ],
        [
         "CUST024",
         "2023-09-21",
         4.86,
         "2024-11-10",
         "2024-11-13T21:44:42.229+0000"
        ],
        [
         "CUST024",
         "2023-05-06",
         4.02,
         "2024-11-10",
         "2024-11-13T21:44:42.229+0000"
        ],
        [
         "CUST025",
         "2023-03-09",
         1.03,
         "2024-11-10",
         "2024-11-13T21:44:42.229+0000"
        ],
        [
         "CUST025",
         "2023-02-06",
         2.44,
         "2024-11-10",
         "2024-11-13T21:44:42.229+0000"
        ],
        [
         "CUST025",
         "2023-01-11",
         2.49,
         "2024-11-10",
         "2024-11-13T21:44:42.229+0000"
        ],
        [
         "CUST025",
         "2023-07-03",
         4.32,
         "2024-11-10",
         "2024-11-13T21:44:42.229+0000"
        ],
        [
         "CUST025",
         "2023-08-27",
         4.86,
         "2024-11-10",
         "2024-11-13T21:44:42.229+0000"
        ],
        [
         "CUST025",
         "2023-11-21",
         2.79,
         "2024-11-10",
         "2024-11-13T21:44:42.229+0000"
        ],
        [
         "CUST026",
         "2023-04-20",
         2.89,
         "2024-11-10",
         "2024-11-13T21:44:42.229+0000"
        ],
        [
         "CUST027",
         "2023-03-13",
         2.32,
         "2024-11-10",
         "2024-11-13T21:44:42.229+0000"
        ],
        [
         "CUST027",
         "2023-08-31",
         3.33,
         "2024-11-10",
         "2024-11-13T21:44:42.229+0000"
        ],
        [
         "CUST027",
         "2023-05-17",
         1.88,
         "2024-11-10",
         "2024-11-13T21:44:42.229+0000"
        ],
        [
         "CUST027",
         "2023-02-17",
         4.83,
         "2024-11-10",
         "2024-11-13T21:44:42.229+0000"
        ],
        [
         "CUST027",
         "2023-03-28",
         2.85,
         "2024-11-10",
         "2024-11-13T21:44:42.229+0000"
        ],
        [
         "CUST027",
         "2023-02-05",
         3.46,
         "2024-11-10",
         "2024-11-13T21:44:42.229+0000"
        ],
        [
         "CUST028",
         "2023-08-18",
         2.71,
         "2024-11-10",
         "2024-11-13T21:44:42.229+0000"
        ],
        [
         "CUST029",
         "2023-03-03",
         3.72,
         "2024-11-10",
         "2024-11-13T21:44:42.229+0000"
        ],
        [
         "CUST030",
         "2023-07-28",
         3.55,
         "2024-11-10",
         "2024-11-13T21:44:42.229+0000"
        ],
        [
         "CUST030",
         "2023-04-20",
         2.5,
         "2024-11-10",
         "2024-11-13T21:44:42.229+0000"
        ],
        [
         "CUST030",
         "2023-08-09",
         4.44,
         "2024-11-10",
         "2024-11-13T21:44:42.229+0000"
        ],
        [
         "CUST030",
         "2023-12-09",
         4.09,
         "2024-11-10",
         "2024-11-13T21:44:42.229+0000"
        ],
        [
         "CUST031",
         "2023-05-16",
         1.64,
         "2024-11-10",
         "2024-11-13T21:44:42.229+0000"
        ],
        [
         "CUST031",
         "2023-01-21",
         1.53,
         "2024-11-10",
         "2024-11-13T21:44:42.229+0000"
        ],
        [
         "CUST031",
         "2023-11-07",
         2.69,
         "2024-11-10",
         "2024-11-13T21:44:42.229+0000"
        ],
        [
         "CUST031",
         "2023-04-15",
         2.57,
         "2024-11-10",
         "2024-11-13T21:44:42.229+0000"
        ],
        [
         "CUST032",
         "2023-12-14",
         2.6,
         "2024-11-10",
         "2024-11-13T21:44:42.229+0000"
        ],
        [
         "CUST032",
         "2023-05-16",
         1.53,
         "2024-11-10",
         "2024-11-13T21:44:42.229+0000"
        ],
        [
         "CUST032",
         "2023-07-22",
         1.98,
         "2024-11-10",
         "2024-11-13T21:44:42.229+0000"
        ],
        [
         "CUST032",
         "2023-09-08",
         4.97,
         "2024-11-10",
         "2024-11-13T21:44:42.229+0000"
        ],
        [
         "CUST032",
         "2023-02-06",
         3.31,
         "2024-11-10",
         "2024-11-13T21:44:42.229+0000"
        ],
        [
         "CUST032",
         "2023-06-07",
         3.23,
         "2024-11-10",
         "2024-11-13T21:44:42.229+0000"
        ],
        [
         "CUST033",
         "2023-12-12",
         4.5,
         "2024-11-10",
         "2024-11-13T21:44:42.229+0000"
        ],
        [
         "CUST034",
         "2023-03-17",
         2.53,
         "2024-11-10",
         "2024-11-13T21:44:42.229+0000"
        ],
        [
         "CUST034",
         "2023-10-11",
         2.82,
         "2024-11-10",
         "2024-11-13T21:44:42.229+0000"
        ],
        [
         "CUST035",
         "2023-12-20",
         2.86,
         "2024-11-10",
         "2024-11-13T21:44:42.229+0000"
        ],
        [
         "CUST035",
         "2023-09-07",
         3.1,
         "2024-11-10",
         "2024-11-13T21:44:42.229+0000"
        ],
        [
         "CUST035",
         "2023-01-30",
         4.57,
         "2024-11-10",
         "2024-11-13T21:44:42.229+0000"
        ],
        [
         "CUST035",
         "2023-01-05",
         2.1,
         "2024-11-10",
         "2024-11-13T21:44:42.229+0000"
        ],
        [
         "CUST036",
         "2023-04-12",
         2.31,
         "2024-11-10",
         "2024-11-13T21:44:42.229+0000"
        ],
        [
         "CUST036",
         "2023-06-02",
         2.47,
         "2024-11-10",
         "2024-11-13T21:44:42.229+0000"
        ],
        [
         "CUST036",
         "2023-06-29",
         2.91,
         "2024-11-10",
         "2024-11-13T21:44:42.229+0000"
        ],
        [
         "CUST036",
         "2023-07-14",
         2.78,
         "2024-11-10",
         "2024-11-13T21:44:42.229+0000"
        ],
        [
         "CUST036",
         "2023-03-23",
         1.72,
         "2024-11-10",
         "2024-11-13T21:44:42.229+0000"
        ],
        [
         "CUST036",
         "2023-10-02",
         4.5,
         "2024-11-10",
         "2024-11-13T21:44:42.229+0000"
        ],
        [
         "CUST036",
         "2023-10-19",
         1.18,
         "2024-11-10",
         "2024-11-13T21:44:42.229+0000"
        ],
        [
         "CUST037",
         "2023-08-04",
         2.7,
         "2024-11-10",
         "2024-11-13T21:44:42.229+0000"
        ],
        [
         "CUST037",
         "2023-02-24",
         3.69,
         "2024-11-10",
         "2024-11-13T21:44:42.229+0000"
        ],
        [
         "CUST038",
         "2023-12-23",
         3.87,
         "2024-11-10",
         "2024-11-13T21:44:42.229+0000"
        ],
        [
         "CUST038",
         "2023-12-04",
         4.06,
         "2024-11-10",
         "2024-11-13T21:44:42.229+0000"
        ],
        [
         "CUST038",
         "2023-02-25",
         1.13,
         "2024-11-10",
         "2024-11-13T21:44:42.229+0000"
        ],
        [
         "CUST039",
         "2023-06-02",
         1.81,
         "2024-11-10",
         "2024-11-13T21:44:42.229+0000"
        ],
        [
         "CUST039",
         "2023-04-28",
         3.15,
         "2024-11-10",
         "2024-11-13T21:44:42.229+0000"
        ],
        [
         "CUST039",
         "2023-02-08",
         1.24,
         "2024-11-10",
         "2024-11-13T21:44:42.229+0000"
        ],
        [
         "CUST041",
         "2023-01-02",
         3.55,
         "2024-11-10",
         "2024-11-13T21:44:42.229+0000"
        ],
        [
         "CUST042",
         "2023-10-20",
         2.91,
         "2024-11-10",
         "2024-11-13T21:44:42.229+0000"
        ],
        [
         "CUST042",
         "2023-07-11",
         4.3,
         "2024-11-10",
         "2024-11-13T21:44:42.229+0000"
        ],
        [
         "CUST042",
         "2023-04-08",
         2.79,
         "2024-11-10",
         "2024-11-13T21:44:42.229+0000"
        ],
        [
         "CUST042",
         "2023-02-06",
         2.76,
         "2024-11-10",
         "2024-11-13T21:44:42.229+0000"
        ],
        [
         "CUST042",
         "2023-02-04",
         4.67,
         "2024-11-10",
         "2024-11-13T21:44:42.229+0000"
        ],
        [
         "CUST043",
         "2023-10-15",
         4.74,
         "2024-11-10",
         "2024-11-13T21:44:42.229+0000"
        ],
        [
         "CUST043",
         "2023-09-21",
         4.6,
         "2024-11-10",
         "2024-11-13T21:44:42.229+0000"
        ],
        [
         "CUST044",
         "2023-12-29",
         2.62,
         "2024-11-10",
         "2024-11-13T21:44:42.229+0000"
        ],
        [
         "CUST044",
         "2023-07-24",
         4.61,
         "2024-11-10",
         "2024-11-13T21:44:42.229+0000"
        ],
        [
         "CUST044",
         "2023-03-07",
         3.16,
         "2024-11-10",
         "2024-11-13T21:44:42.229+0000"
        ],
        [
         "CUST045",
         "2023-08-05",
         2.07,
         "2024-11-10",
         "2024-11-13T21:44:42.229+0000"
        ],
        [
         "CUST045",
         "2023-11-02",
         3.16,
         "2024-11-10",
         "2024-11-13T21:44:42.229+0000"
        ],
        [
         "CUST046",
         "2023-05-26",
         4.08,
         "2024-11-10",
         "2024-11-13T21:44:42.229+0000"
        ],
        [
         "CUST046",
         "2023-06-03",
         4.58,
         "2024-11-10",
         "2024-11-13T21:44:42.229+0000"
        ],
        [
         "CUST047",
         "2023-07-26",
         3.11,
         "2024-11-10",
         "2024-11-13T21:44:42.229+0000"
        ],
        [
         "CUST047",
         "2023-12-20",
         2.96,
         "2024-11-10",
         "2024-11-13T21:44:42.229+0000"
        ],
        [
         "CUST047",
         "2023-05-16",
         4.97,
         "2024-11-10",
         "2024-11-13T21:44:42.229+0000"
        ],
        [
         "CUST047",
         "2023-04-20",
         3.64,
         "2024-11-10",
         "2024-11-13T21:44:42.229+0000"
        ],
        [
         "CUST047",
         "2023-01-20",
         1.94,
         "2024-11-10",
         "2024-11-13T21:44:42.229+0000"
        ],
        [
         "CUST047",
         "2023-02-03",
         1.95,
         "2024-11-10",
         "2024-11-13T21:44:42.229+0000"
        ],
        [
         "CUST047",
         "2023-05-05",
         2.65,
         "2024-11-10",
         "2024-11-13T21:44:42.229+0000"
        ],
        [
         "CUST048",
         "2023-07-28",
         1.77,
         "2024-11-10",
         "2024-11-13T21:44:42.229+0000"
        ],
        [
         "CUST048",
         "2023-12-11",
         2.02,
         "2024-11-10",
         "2024-11-13T21:44:42.229+0000"
        ],
        [
         "CUST048",
         "2023-10-15",
         1.87,
         "2024-11-10",
         "2024-11-13T21:44:42.229+0000"
        ],
        [
         "CUST048",
         "2023-06-11",
         1.92,
         "2024-11-10",
         "2024-11-13T21:44:42.229+0000"
        ],
        [
         "CUST048",
         "2023-01-05",
         3.3,
         "2024-11-10",
         "2024-11-13T21:44:42.229+0000"
        ],
        [
         "CUST049",
         "2023-02-11",
         3.67,
         "2024-11-10",
         "2024-11-13T21:44:42.229+0000"
        ],
        [
         "CUST049",
         "2023-01-01",
         3.72,
         "2024-11-10",
         "2024-11-13T21:44:42.229+0000"
        ],
        [
         "CUST049",
         "2023-03-12",
         1.29,
         "2024-11-10",
         "2024-11-13T21:44:42.229+0000"
        ],
        [
         "CUST049",
         "2023-02-05",
         1.51,
         "2024-11-10",
         "2024-11-13T21:44:42.229+0000"
        ],
        [
         "CUST049",
         "2023-07-26",
         1.56,
         "2024-11-10",
         "2024-11-13T21:44:42.229+0000"
        ],
        [
         "CUST050",
         "2023-12-06",
         3.57,
         "2024-11-10",
         "2024-11-13T21:44:42.229+0000"
        ]
       ],
       "datasetInfos": [],
       "dbfsResultPath": null,
       "isJsonSchema": true,
       "metadata": {},
       "overflow": false,
       "plotOptions": {
        "customPlotOptions": {},
        "displayType": "table",
        "pivotAggregation": null,
        "pivotColumns": null,
        "xColumns": null,
        "yColumns": null
       },
       "removedWidgets": [],
       "schema": [
        {
         "metadata": "{}",
         "name": "customer_id",
         "type": "\"string\""
        },
        {
         "metadata": "{}",
         "name": "transaction_date",
         "type": "\"date\""
        },
        {
         "metadata": "{}",
         "name": "DiscountAmount",
         "type": "\"double\""
        },
        {
         "metadata": "{}",
         "name": "file_date",
         "type": "\"string\""
        },
        {
         "metadata": "{}",
         "name": "ingestion_date",
         "type": "\"timestamp\""
        }
       ],
       "type": "table"
      }
     },
     "output_type": "display_data"
    }
   ],
   "source": [
    "%sql\n",
    "SELECT *\n",
    "FROM clv_silver.discounts_data\n",
    "ORDER BY customer_id"
   ]
  }
 ],
 "metadata": {
  "application/vnd.databricks.v1+notebook": {
   "dashboards": [],
   "environmentMetadata": {
    "base_environment": "",
    "client": "1"
   },
   "language": "python",
   "notebookMetadata": {
    "mostRecentlyExecutedCommandWithImplicitDF": {
     "commandId": 1616572586022623,
     "dataframes": [
      "_sqldf"
     ]
    },
    "pythonIndentUnit": 2
   },
   "notebookName": "2. ingest_discounts_data",
   "widgets": {
    "p_file_date": {
     "currentValue": "2024-11-10",
     "nuid": "82c85a25-59f5-4fa5-8054-1938f82e87da",
     "typedWidgetInfo": {
      "autoCreated": false,
      "defaultValue": "2024-11-01",
      "label": null,
      "name": "p_file_date",
      "options": {
       "widgetDisplayType": "Text",
       "validationRegex": null
      },
      "parameterDataType": "String"
     },
     "widgetInfo": {
      "widgetType": "text",
      "defaultValue": "2024-11-01",
      "label": null,
      "name": "p_file_date",
      "options": {
       "widgetType": "text",
       "autoCreated": null,
       "validationRegex": null
      }
     }
    }
   }
  },
  "language_info": {
   "name": "python"
  }
 },
 "nbformat": 4,
 "nbformat_minor": 0
}