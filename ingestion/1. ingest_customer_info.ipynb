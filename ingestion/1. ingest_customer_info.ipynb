{
 "cells": [
  {
   "cell_type": "code",
   "execution_count": 0,
   "metadata": {
    "application/vnd.databricks.v1+cell": {
     "cellMetadata": {
      "byteLimit": 2048000,
      "rowLimit": 10000
     },
     "inputWidgets": {},
     "nuid": "0ca1f7ee-69ab-4d22-b7ca-d03246eaf5c7",
     "showTitle": false,
     "tableResultSettingsMap": {},
     "title": ""
    }
   },
   "outputs": [],
   "source": [
    "dbutils.widgets.text(\"p_file_date\", \"2024-11-01\")\n",
    "v_file_date = dbutils.widgets.get(\"p_file_date\")\n"
   ]
  },
  {
   "cell_type": "code",
   "execution_count": 0,
   "metadata": {
    "application/vnd.databricks.v1+cell": {
     "cellMetadata": {
      "byteLimit": 2048000,
      "rowLimit": 10000
     },
     "inputWidgets": {},
     "nuid": "0f14f657-0cc7-4aa7-a217-a06e97dae554",
     "showTitle": false,
     "tableResultSettingsMap": {},
     "title": ""
    }
   },
   "outputs": [],
   "source": [
    "%run ../includes/configurations"
   ]
  },
  {
   "cell_type": "code",
   "execution_count": 0,
   "metadata": {
    "application/vnd.databricks.v1+cell": {
     "cellMetadata": {
      "byteLimit": 2048000,
      "rowLimit": 10000
     },
     "inputWidgets": {},
     "nuid": "7d1f7f64-1c95-4d36-b763-1d7938d50472",
     "showTitle": false,
     "tableResultSettingsMap": {},
     "title": ""
    }
   },
   "outputs": [
    {
     "output_type": "stream",
     "name": "stdout",
     "output_type": "stream",
     "text": [
      "Out[92]: '/mnt/clvprojectadls/bronze'"
     ]
    }
   ],
   "source": [
    "bronze_folder_path"
   ]
  },
  {
   "cell_type": "code",
   "execution_count": 0,
   "metadata": {
    "application/vnd.databricks.v1+cell": {
     "cellMetadata": {
      "byteLimit": 2048000,
      "rowLimit": 10000
     },
     "inputWidgets": {},
     "nuid": "ef304f3d-9ac2-4706-8cc9-f094c5d3b59a",
     "showTitle": false,
     "tableResultSettingsMap": {},
     "title": ""
    }
   },
   "outputs": [
    {
     "output_type": "stream",
     "name": "stdout",
     "output_type": "stream",
     "text": [
      "Out[93]: '/mnt/clvprojectadls/silver'"
     ]
    }
   ],
   "source": [
    "silver_folder_path"
   ]
  },
  {
   "cell_type": "markdown",
   "metadata": {
    "application/vnd.databricks.v1+cell": {
     "cellMetadata": {
      "byteLimit": 2048000,
      "rowLimit": 10000
     },
     "inputWidgets": {},
     "nuid": "900cc412-c061-4c4c-a3e3-3e4dd342ea50",
     "showTitle": false,
     "tableResultSettingsMap": {},
     "title": ""
    }
   },
   "source": [
    "#Ingest file date\n"
   ]
  },
  {
   "cell_type": "code",
   "execution_count": 0,
   "metadata": {
    "application/vnd.databricks.v1+cell": {
     "cellMetadata": {
      "byteLimit": 2048000,
      "rowLimit": 10000
     },
     "inputWidgets": {},
     "nuid": "4c0f245e-5b74-41f5-9344-3881fefd1a81",
     "showTitle": false,
     "tableResultSettingsMap": {},
     "title": ""
    }
   },
   "outputs": [
    {
     "output_type": "stream",
     "name": "stdout",
     "output_type": "stream",
     "text": [
      "Out[95]: '2024-11-10'"
     ]
    }
   ],
   "source": [
    "v_file_date"
   ]
  },
  {
   "cell_type": "markdown",
   "metadata": {
    "application/vnd.databricks.v1+cell": {
     "cellMetadata": {
      "byteLimit": 2048000,
      "rowLimit": 10000
     },
     "inputWidgets": {},
     "nuid": "d41fe019-872b-46b7-9cea-e99e39cab0f6",
     "showTitle": false,
     "tableResultSettingsMap": {},
     "title": ""
    }
   },
   "source": [
    "#This notebook reads data from the customer_info file"
   ]
  },
  {
   "cell_type": "markdown",
   "metadata": {
    "application/vnd.databricks.v1+cell": {
     "cellMetadata": {
      "byteLimit": 2048000,
      "rowLimit": 10000
     },
     "inputWidgets": {},
     "nuid": "7ae73244-c097-409f-bd19-47f1b399215f",
     "showTitle": false,
     "tableResultSettingsMap": {},
     "title": ""
    }
   },
   "source": [
    "#Specifying the schema  "
   ]
  },
  {
   "cell_type": "code",
   "execution_count": 0,
   "metadata": {
    "application/vnd.databricks.v1+cell": {
     "cellMetadata": {
      "byteLimit": 2048000,
      "rowLimit": 10000
     },
     "inputWidgets": {},
     "nuid": "a6b050b1-e2e3-4699-8cbc-4935e5536b72",
     "showTitle": false,
     "tableResultSettingsMap": {},
     "title": ""
    }
   },
   "outputs": [],
   "source": [
    "from pyspark.sql.types import StructType, StructField, IntegerType, StringType, DoubleType,DateType"
   ]
  },
  {
   "cell_type": "code",
   "execution_count": 0,
   "metadata": {
    "application/vnd.databricks.v1+cell": {
     "cellMetadata": {
      "byteLimit": 2048000,
      "rowLimit": 10000
     },
     "inputWidgets": {},
     "nuid": "f6570964-d336-48ed-a885-0b931a53d951",
     "showTitle": false,
     "tableResultSettingsMap": {},
     "title": ""
    }
   },
   "outputs": [],
   "source": [
    "from pyspark.sql.functions import current_timestamp,lit"
   ]
  },
  {
   "cell_type": "code",
   "execution_count": 0,
   "metadata": {
    "application/vnd.databricks.v1+cell": {
     "cellMetadata": {
      "byteLimit": 2048000,
      "rowLimit": 10000
     },
     "inputWidgets": {},
     "nuid": "c404db26-9fe0-4ef9-bc9a-ebea1e6963da",
     "showTitle": false,
     "tableResultSettingsMap": {},
     "title": ""
    }
   },
   "outputs": [],
   "source": [
    "customer_info_schema = StructType(fields = [StructField('CustomerId', StringType(),False),\n",
    "                                            StructField(\"SignupDate\", DateType(), True),\n",
    "                                            StructField('LoyaltyStatus',StringType(),True)])"
   ]
  },
  {
   "cell_type": "markdown",
   "metadata": {
    "application/vnd.databricks.v1+cell": {
     "cellMetadata": {
      "byteLimit": 2048000,
      "rowLimit": 10000
     },
     "inputWidgets": {},
     "nuid": "76ea7b48-7dc5-41f2-a673-644a6b270bfa",
     "showTitle": false,
     "tableResultSettingsMap": {},
     "title": ""
    }
   },
   "source": [
    "# Read the customer_info file"
   ]
  },
  {
   "cell_type": "code",
   "execution_count": 0,
   "metadata": {
    "application/vnd.databricks.v1+cell": {
     "cellMetadata": {
      "byteLimit": 2048000,
      "rowLimit": 10000
     },
     "inputWidgets": {},
     "nuid": "244f29cd-3017-4057-9f2e-d558ae8f197f",
     "showTitle": false,
     "tableResultSettingsMap": {},
     "title": ""
    }
   },
   "outputs": [],
   "source": [
    "customer_info_df = spark.read\\\n",
    "                   .option('header',True)\\\n",
    "                   .schema(customer_info_schema)\\\n",
    "                   .csv(f\"{bronze_folder_path}/{v_file_date}/customer_info.csv\")"
   ]
  },
  {
   "cell_type": "code",
   "execution_count": 0,
   "metadata": {
    "application/vnd.databricks.v1+cell": {
     "cellMetadata": {
      "byteLimit": 2048000,
      "rowLimit": 10000
     },
     "inputWidgets": {},
     "nuid": "ccd11dbc-1499-4481-a0fa-c7c387734367",
     "showTitle": false,
     "tableResultSettingsMap": {},
     "title": ""
    }
   },
   "outputs": [
    {
     "output_type": "display_data",
     "data": {
      "text/html": [
       "<style scoped>\n",
       "  .table-result-container {\n",
       "    max-height: 300px;\n",
       "    overflow: auto;\n",
       "  }\n",
       "  table, th, td {\n",
       "    border: 1px solid black;\n",
       "    border-collapse: collapse;\n",
       "  }\n",
       "  th, td {\n",
       "    padding: 5px;\n",
       "  }\n",
       "  th {\n",
       "    text-align: left;\n",
       "  }\n",
       "</style><div class='table-result-container'><table class='table-result'><thead style='background-color: white'><tr><th>CustomerId</th><th>SignupDate</th><th>LoyaltyStatus</th></tr></thead><tbody><tr><td>CUST021</td><td>2023-01-14</td><td>Inactive</td></tr><tr><td>CUST022</td><td>2023-10-15</td><td>Inactive</td></tr><tr><td>CUST023</td><td>2023-04-12</td><td>Inactive</td></tr><tr><td>CUST024</td><td>2023-11-29</td><td>None</td></tr><tr><td>CUST025</td><td>2023-12-26</td><td>Inactive</td></tr><tr><td>CUST026</td><td>2023-10-07</td><td>Active</td></tr><tr><td>CUST027</td><td>2023-08-03</td><td>Inactive</td></tr><tr><td>CUST028</td><td>2023-04-23</td><td>Inactive</td></tr><tr><td>CUST029</td><td>2023-08-18</td><td>Active</td></tr><tr><td>CUST030</td><td>2023-10-29</td><td>None</td></tr><tr><td>CUST031</td><td>2023-05-23</td><td>Inactive</td></tr><tr><td>CUST032</td><td>2023-01-04</td><td>None</td></tr><tr><td>CUST033</td><td>2023-03-23</td><td>None</td></tr><tr><td>CUST034</td><td>2023-12-24</td><td>None</td></tr><tr><td>CUST035</td><td>2023-08-05</td><td>Active</td></tr><tr><td>CUST036</td><td>2023-06-24</td><td>None</td></tr><tr><td>CUST037</td><td>2023-05-23</td><td>None</td></tr><tr><td>CUST038</td><td>2023-03-21</td><td>Active</td></tr><tr><td>CUST039</td><td>2023-04-21</td><td>None</td></tr><tr><td>CUST040</td><td>2023-06-22</td><td>None</td></tr><tr><td>CUST041</td><td>2023-02-22</td><td>Active</td></tr><tr><td>CUST042</td><td>2023-02-17</td><td>Active</td></tr><tr><td>CUST043</td><td>2023-07-14</td><td>Inactive</td></tr><tr><td>CUST044</td><td>2023-02-19</td><td>Inactive</td></tr><tr><td>CUST045</td><td>2023-07-03</td><td>Inactive</td></tr><tr><td>CUST046</td><td>2023-06-26</td><td>None</td></tr><tr><td>CUST047</td><td>2023-11-06</td><td>None</td></tr><tr><td>CUST048</td><td>2023-05-16</td><td>None</td></tr><tr><td>CUST049</td><td>2023-01-23</td><td>Active</td></tr><tr><td>CUST050</td><td>2023-08-24</td><td>None</td></tr></tbody></table></div>"
      ]
     },
     "metadata": {
      "application/vnd.databricks.v1+output": {
       "addedWidgets": {},
       "aggData": [],
       "aggError": "",
       "aggOverflow": false,
       "aggSchema": [],
       "aggSeriesLimitReached": false,
       "aggType": "",
       "arguments": {},
       "columnCustomDisplayInfos": {},
       "data": [
        [
         "CUST021",
         "2023-01-14",
         "Inactive"
        ],
        [
         "CUST022",
         "2023-10-15",
         "Inactive"
        ],
        [
         "CUST023",
         "2023-04-12",
         "Inactive"
        ],
        [
         "CUST024",
         "2023-11-29",
         "None"
        ],
        [
         "CUST025",
         "2023-12-26",
         "Inactive"
        ],
        [
         "CUST026",
         "2023-10-07",
         "Active"
        ],
        [
         "CUST027",
         "2023-08-03",
         "Inactive"
        ],
        [
         "CUST028",
         "2023-04-23",
         "Inactive"
        ],
        [
         "CUST029",
         "2023-08-18",
         "Active"
        ],
        [
         "CUST030",
         "2023-10-29",
         "None"
        ],
        [
         "CUST031",
         "2023-05-23",
         "Inactive"
        ],
        [
         "CUST032",
         "2023-01-04",
         "None"
        ],
        [
         "CUST033",
         "2023-03-23",
         "None"
        ],
        [
         "CUST034",
         "2023-12-24",
         "None"
        ],
        [
         "CUST035",
         "2023-08-05",
         "Active"
        ],
        [
         "CUST036",
         "2023-06-24",
         "None"
        ],
        [
         "CUST037",
         "2023-05-23",
         "None"
        ],
        [
         "CUST038",
         "2023-03-21",
         "Active"
        ],
        [
         "CUST039",
         "2023-04-21",
         "None"
        ],
        [
         "CUST040",
         "2023-06-22",
         "None"
        ],
        [
         "CUST041",
         "2023-02-22",
         "Active"
        ],
        [
         "CUST042",
         "2023-02-17",
         "Active"
        ],
        [
         "CUST043",
         "2023-07-14",
         "Inactive"
        ],
        [
         "CUST044",
         "2023-02-19",
         "Inactive"
        ],
        [
         "CUST045",
         "2023-07-03",
         "Inactive"
        ],
        [
         "CUST046",
         "2023-06-26",
         "None"
        ],
        [
         "CUST047",
         "2023-11-06",
         "None"
        ],
        [
         "CUST048",
         "2023-05-16",
         "None"
        ],
        [
         "CUST049",
         "2023-01-23",
         "Active"
        ],
        [
         "CUST050",
         "2023-08-24",
         "None"
        ]
       ],
       "datasetInfos": [],
       "dbfsResultPath": null,
       "isJsonSchema": true,
       "metadata": {},
       "overflow": false,
       "plotOptions": {
        "customPlotOptions": {},
        "displayType": "table",
        "pivotAggregation": null,
        "pivotColumns": null,
        "xColumns": null,
        "yColumns": null
       },
       "removedWidgets": [],
       "schema": [
        {
         "metadata": "{}",
         "name": "CustomerId",
         "type": "\"string\""
        },
        {
         "metadata": "{}",
         "name": "SignupDate",
         "type": "\"date\""
        },
        {
         "metadata": "{}",
         "name": "LoyaltyStatus",
         "type": "\"string\""
        }
       ],
       "type": "table"
      }
     },
     "output_type": "display_data"
    }
   ],
   "source": [
    "display(customer_info_df)"
   ]
  },
  {
   "cell_type": "markdown",
   "metadata": {
    "application/vnd.databricks.v1+cell": {
     "cellMetadata": {
      "byteLimit": 2048000,
      "rowLimit": 10000
     },
     "inputWidgets": {},
     "nuid": "8dd8dcbf-e101-4c36-bf78-490c9c16a023",
     "showTitle": false,
     "tableResultSettingsMap": {},
     "title": ""
    }
   },
   "source": [
    "# Rename the column\n"
   ]
  },
  {
   "cell_type": "code",
   "execution_count": 0,
   "metadata": {
    "application/vnd.databricks.v1+cell": {
     "cellMetadata": {
      "byteLimit": 2048000,
      "rowLimit": 10000
     },
     "inputWidgets": {},
     "nuid": "7f8a0820-ca67-4d96-8be4-af0eb5f60af8",
     "showTitle": false,
     "tableResultSettingsMap": {},
     "title": ""
    }
   },
   "outputs": [],
   "source": [
    "customer_info_renamed_df = customer_info_df.withColumnRenamed(\"CustomerId\",\"customer_id\")\\\n",
    "                          .withColumnRenamed(\"SignupDate\",\"signup_date\")\\\n",
    "                            .withColumnRenamed(\"LoyaltyStatus\",\"loyal_status\")\\\n",
    "                            .withColumn(\"file_date\", lit(v_file_date))"
   ]
  },
  {
   "cell_type": "code",
   "execution_count": 0,
   "metadata": {
    "application/vnd.databricks.v1+cell": {
     "cellMetadata": {
      "byteLimit": 2048000,
      "rowLimit": 10000
     },
     "inputWidgets": {},
     "nuid": "6aeb1256-6d4c-4879-93fb-96add7d93a43",
     "showTitle": false,
     "tableResultSettingsMap": {},
     "title": ""
    }
   },
   "outputs": [
    {
     "output_type": "display_data",
     "data": {
      "text/html": [
       "<style scoped>\n",
       "  .table-result-container {\n",
       "    max-height: 300px;\n",
       "    overflow: auto;\n",
       "  }\n",
       "  table, th, td {\n",
       "    border: 1px solid black;\n",
       "    border-collapse: collapse;\n",
       "  }\n",
       "  th, td {\n",
       "    padding: 5px;\n",
       "  }\n",
       "  th {\n",
       "    text-align: left;\n",
       "  }\n",
       "</style><div class='table-result-container'><table class='table-result'><thead style='background-color: white'><tr><th>customer_id</th><th>signup_date</th><th>loyal_status</th><th>file_date</th></tr></thead><tbody><tr><td>CUST021</td><td>2023-01-14</td><td>Inactive</td><td>2024-11-10</td></tr><tr><td>CUST022</td><td>2023-10-15</td><td>Inactive</td><td>2024-11-10</td></tr><tr><td>CUST023</td><td>2023-04-12</td><td>Inactive</td><td>2024-11-10</td></tr><tr><td>CUST024</td><td>2023-11-29</td><td>None</td><td>2024-11-10</td></tr><tr><td>CUST025</td><td>2023-12-26</td><td>Inactive</td><td>2024-11-10</td></tr><tr><td>CUST026</td><td>2023-10-07</td><td>Active</td><td>2024-11-10</td></tr><tr><td>CUST027</td><td>2023-08-03</td><td>Inactive</td><td>2024-11-10</td></tr><tr><td>CUST028</td><td>2023-04-23</td><td>Inactive</td><td>2024-11-10</td></tr><tr><td>CUST029</td><td>2023-08-18</td><td>Active</td><td>2024-11-10</td></tr><tr><td>CUST030</td><td>2023-10-29</td><td>None</td><td>2024-11-10</td></tr><tr><td>CUST031</td><td>2023-05-23</td><td>Inactive</td><td>2024-11-10</td></tr><tr><td>CUST032</td><td>2023-01-04</td><td>None</td><td>2024-11-10</td></tr><tr><td>CUST033</td><td>2023-03-23</td><td>None</td><td>2024-11-10</td></tr><tr><td>CUST034</td><td>2023-12-24</td><td>None</td><td>2024-11-10</td></tr><tr><td>CUST035</td><td>2023-08-05</td><td>Active</td><td>2024-11-10</td></tr><tr><td>CUST036</td><td>2023-06-24</td><td>None</td><td>2024-11-10</td></tr><tr><td>CUST037</td><td>2023-05-23</td><td>None</td><td>2024-11-10</td></tr><tr><td>CUST038</td><td>2023-03-21</td><td>Active</td><td>2024-11-10</td></tr><tr><td>CUST039</td><td>2023-04-21</td><td>None</td><td>2024-11-10</td></tr><tr><td>CUST040</td><td>2023-06-22</td><td>None</td><td>2024-11-10</td></tr><tr><td>CUST041</td><td>2023-02-22</td><td>Active</td><td>2024-11-10</td></tr><tr><td>CUST042</td><td>2023-02-17</td><td>Active</td><td>2024-11-10</td></tr><tr><td>CUST043</td><td>2023-07-14</td><td>Inactive</td><td>2024-11-10</td></tr><tr><td>CUST044</td><td>2023-02-19</td><td>Inactive</td><td>2024-11-10</td></tr><tr><td>CUST045</td><td>2023-07-03</td><td>Inactive</td><td>2024-11-10</td></tr><tr><td>CUST046</td><td>2023-06-26</td><td>None</td><td>2024-11-10</td></tr><tr><td>CUST047</td><td>2023-11-06</td><td>None</td><td>2024-11-10</td></tr><tr><td>CUST048</td><td>2023-05-16</td><td>None</td><td>2024-11-10</td></tr><tr><td>CUST049</td><td>2023-01-23</td><td>Active</td><td>2024-11-10</td></tr><tr><td>CUST050</td><td>2023-08-24</td><td>None</td><td>2024-11-10</td></tr></tbody></table></div>"
      ]
     },
     "metadata": {
      "application/vnd.databricks.v1+output": {
       "addedWidgets": {},
       "aggData": [],
       "aggError": "",
       "aggOverflow": false,
       "aggSchema": [],
       "aggSeriesLimitReached": false,
       "aggType": "",
       "arguments": {},
       "columnCustomDisplayInfos": {},
       "data": [
        [
         "CUST021",
         "2023-01-14",
         "Inactive",
         "2024-11-10"
        ],
        [
         "CUST022",
         "2023-10-15",
         "Inactive",
         "2024-11-10"
        ],
        [
         "CUST023",
         "2023-04-12",
         "Inactive",
         "2024-11-10"
        ],
        [
         "CUST024",
         "2023-11-29",
         "None",
         "2024-11-10"
        ],
        [
         "CUST025",
         "2023-12-26",
         "Inactive",
         "2024-11-10"
        ],
        [
         "CUST026",
         "2023-10-07",
         "Active",
         "2024-11-10"
        ],
        [
         "CUST027",
         "2023-08-03",
         "Inactive",
         "2024-11-10"
        ],
        [
         "CUST028",
         "2023-04-23",
         "Inactive",
         "2024-11-10"
        ],
        [
         "CUST029",
         "2023-08-18",
         "Active",
         "2024-11-10"
        ],
        [
         "CUST030",
         "2023-10-29",
         "None",
         "2024-11-10"
        ],
        [
         "CUST031",
         "2023-05-23",
         "Inactive",
         "2024-11-10"
        ],
        [
         "CUST032",
         "2023-01-04",
         "None",
         "2024-11-10"
        ],
        [
         "CUST033",
         "2023-03-23",
         "None",
         "2024-11-10"
        ],
        [
         "CUST034",
         "2023-12-24",
         "None",
         "2024-11-10"
        ],
        [
         "CUST035",
         "2023-08-05",
         "Active",
         "2024-11-10"
        ],
        [
         "CUST036",
         "2023-06-24",
         "None",
         "2024-11-10"
        ],
        [
         "CUST037",
         "2023-05-23",
         "None",
         "2024-11-10"
        ],
        [
         "CUST038",
         "2023-03-21",
         "Active",
         "2024-11-10"
        ],
        [
         "CUST039",
         "2023-04-21",
         "None",
         "2024-11-10"
        ],
        [
         "CUST040",
         "2023-06-22",
         "None",
         "2024-11-10"
        ],
        [
         "CUST041",
         "2023-02-22",
         "Active",
         "2024-11-10"
        ],
        [
         "CUST042",
         "2023-02-17",
         "Active",
         "2024-11-10"
        ],
        [
         "CUST043",
         "2023-07-14",
         "Inactive",
         "2024-11-10"
        ],
        [
         "CUST044",
         "2023-02-19",
         "Inactive",
         "2024-11-10"
        ],
        [
         "CUST045",
         "2023-07-03",
         "Inactive",
         "2024-11-10"
        ],
        [
         "CUST046",
         "2023-06-26",
         "None",
         "2024-11-10"
        ],
        [
         "CUST047",
         "2023-11-06",
         "None",
         "2024-11-10"
        ],
        [
         "CUST048",
         "2023-05-16",
         "None",
         "2024-11-10"
        ],
        [
         "CUST049",
         "2023-01-23",
         "Active",
         "2024-11-10"
        ],
        [
         "CUST050",
         "2023-08-24",
         "None",
         "2024-11-10"
        ]
       ],
       "datasetInfos": [],
       "dbfsResultPath": null,
       "isJsonSchema": true,
       "metadata": {},
       "overflow": false,
       "plotOptions": {
        "customPlotOptions": {},
        "displayType": "table",
        "pivotAggregation": null,
        "pivotColumns": null,
        "xColumns": null,
        "yColumns": null
       },
       "removedWidgets": [],
       "schema": [
        {
         "metadata": "{}",
         "name": "customer_id",
         "type": "\"string\""
        },
        {
         "metadata": "{}",
         "name": "signup_date",
         "type": "\"date\""
        },
        {
         "metadata": "{}",
         "name": "loyal_status",
         "type": "\"string\""
        },
        {
         "metadata": "{}",
         "name": "file_date",
         "type": "\"string\""
        }
       ],
       "type": "table"
      }
     },
     "output_type": "display_data"
    }
   ],
   "source": [
    "display(customer_info_renamed_df)"
   ]
  },
  {
   "cell_type": "markdown",
   "metadata": {
    "application/vnd.databricks.v1+cell": {
     "cellMetadata": {
      "byteLimit": 2048000,
      "rowLimit": 10000
     },
     "inputWidgets": {},
     "nuid": "f251aafe-24a8-4206-9209-bd7217903585",
     "showTitle": false,
     "tableResultSettingsMap": {},
     "title": ""
    }
   },
   "source": [
    "# Add a column called ingestion date"
   ]
  },
  {
   "cell_type": "code",
   "execution_count": 0,
   "metadata": {
    "application/vnd.databricks.v1+cell": {
     "cellMetadata": {
      "byteLimit": 2048000,
      "rowLimit": 10000
     },
     "inputWidgets": {},
     "nuid": "47d56124-85f4-40a6-b264-fb2d22b9380f",
     "showTitle": false,
     "tableResultSettingsMap": {},
     "title": ""
    }
   },
   "outputs": [],
   "source": [
    "customer_info_final_df = customer_info_renamed_df.withColumn('ingestion_date', current_timestamp())"
   ]
  },
  {
   "cell_type": "code",
   "execution_count": 0,
   "metadata": {
    "application/vnd.databricks.v1+cell": {
     "cellMetadata": {
      "byteLimit": 2048000,
      "rowLimit": 10000
     },
     "inputWidgets": {},
     "nuid": "cda191fb-f96f-4f4c-99ae-da8927342810",
     "showTitle": false,
     "tableResultSettingsMap": {},
     "title": ""
    }
   },
   "outputs": [
    {
     "output_type": "display_data",
     "data": {
      "text/html": [
       "<style scoped>\n",
       "  .table-result-container {\n",
       "    max-height: 300px;\n",
       "    overflow: auto;\n",
       "  }\n",
       "  table, th, td {\n",
       "    border: 1px solid black;\n",
       "    border-collapse: collapse;\n",
       "  }\n",
       "  th, td {\n",
       "    padding: 5px;\n",
       "  }\n",
       "  th {\n",
       "    text-align: left;\n",
       "  }\n",
       "</style><div class='table-result-container'><table class='table-result'><thead style='background-color: white'><tr><th>customer_id</th><th>signup_date</th><th>loyal_status</th><th>file_date</th><th>ingestion_date</th></tr></thead><tbody><tr><td>CUST021</td><td>2023-01-14</td><td>Inactive</td><td>2024-11-10</td><td>2024-11-13T21:43:22.194+0000</td></tr><tr><td>CUST022</td><td>2023-10-15</td><td>Inactive</td><td>2024-11-10</td><td>2024-11-13T21:43:22.194+0000</td></tr><tr><td>CUST023</td><td>2023-04-12</td><td>Inactive</td><td>2024-11-10</td><td>2024-11-13T21:43:22.194+0000</td></tr><tr><td>CUST024</td><td>2023-11-29</td><td>None</td><td>2024-11-10</td><td>2024-11-13T21:43:22.194+0000</td></tr><tr><td>CUST025</td><td>2023-12-26</td><td>Inactive</td><td>2024-11-10</td><td>2024-11-13T21:43:22.194+0000</td></tr><tr><td>CUST026</td><td>2023-10-07</td><td>Active</td><td>2024-11-10</td><td>2024-11-13T21:43:22.194+0000</td></tr><tr><td>CUST027</td><td>2023-08-03</td><td>Inactive</td><td>2024-11-10</td><td>2024-11-13T21:43:22.194+0000</td></tr><tr><td>CUST028</td><td>2023-04-23</td><td>Inactive</td><td>2024-11-10</td><td>2024-11-13T21:43:22.194+0000</td></tr><tr><td>CUST029</td><td>2023-08-18</td><td>Active</td><td>2024-11-10</td><td>2024-11-13T21:43:22.194+0000</td></tr><tr><td>CUST030</td><td>2023-10-29</td><td>None</td><td>2024-11-10</td><td>2024-11-13T21:43:22.194+0000</td></tr><tr><td>CUST031</td><td>2023-05-23</td><td>Inactive</td><td>2024-11-10</td><td>2024-11-13T21:43:22.194+0000</td></tr><tr><td>CUST032</td><td>2023-01-04</td><td>None</td><td>2024-11-10</td><td>2024-11-13T21:43:22.194+0000</td></tr><tr><td>CUST033</td><td>2023-03-23</td><td>None</td><td>2024-11-10</td><td>2024-11-13T21:43:22.194+0000</td></tr><tr><td>CUST034</td><td>2023-12-24</td><td>None</td><td>2024-11-10</td><td>2024-11-13T21:43:22.194+0000</td></tr><tr><td>CUST035</td><td>2023-08-05</td><td>Active</td><td>2024-11-10</td><td>2024-11-13T21:43:22.194+0000</td></tr><tr><td>CUST036</td><td>2023-06-24</td><td>None</td><td>2024-11-10</td><td>2024-11-13T21:43:22.194+0000</td></tr><tr><td>CUST037</td><td>2023-05-23</td><td>None</td><td>2024-11-10</td><td>2024-11-13T21:43:22.194+0000</td></tr><tr><td>CUST038</td><td>2023-03-21</td><td>Active</td><td>2024-11-10</td><td>2024-11-13T21:43:22.194+0000</td></tr><tr><td>CUST039</td><td>2023-04-21</td><td>None</td><td>2024-11-10</td><td>2024-11-13T21:43:22.194+0000</td></tr><tr><td>CUST040</td><td>2023-06-22</td><td>None</td><td>2024-11-10</td><td>2024-11-13T21:43:22.194+0000</td></tr><tr><td>CUST041</td><td>2023-02-22</td><td>Active</td><td>2024-11-10</td><td>2024-11-13T21:43:22.194+0000</td></tr><tr><td>CUST042</td><td>2023-02-17</td><td>Active</td><td>2024-11-10</td><td>2024-11-13T21:43:22.194+0000</td></tr><tr><td>CUST043</td><td>2023-07-14</td><td>Inactive</td><td>2024-11-10</td><td>2024-11-13T21:43:22.194+0000</td></tr><tr><td>CUST044</td><td>2023-02-19</td><td>Inactive</td><td>2024-11-10</td><td>2024-11-13T21:43:22.194+0000</td></tr><tr><td>CUST045</td><td>2023-07-03</td><td>Inactive</td><td>2024-11-10</td><td>2024-11-13T21:43:22.194+0000</td></tr><tr><td>CUST046</td><td>2023-06-26</td><td>None</td><td>2024-11-10</td><td>2024-11-13T21:43:22.194+0000</td></tr><tr><td>CUST047</td><td>2023-11-06</td><td>None</td><td>2024-11-10</td><td>2024-11-13T21:43:22.194+0000</td></tr><tr><td>CUST048</td><td>2023-05-16</td><td>None</td><td>2024-11-10</td><td>2024-11-13T21:43:22.194+0000</td></tr><tr><td>CUST049</td><td>2023-01-23</td><td>Active</td><td>2024-11-10</td><td>2024-11-13T21:43:22.194+0000</td></tr><tr><td>CUST050</td><td>2023-08-24</td><td>None</td><td>2024-11-10</td><td>2024-11-13T21:43:22.194+0000</td></tr></tbody></table></div>"
      ]
     },
     "metadata": {
      "application/vnd.databricks.v1+output": {
       "addedWidgets": {},
       "aggData": [],
       "aggError": "",
       "aggOverflow": false,
       "aggSchema": [],
       "aggSeriesLimitReached": false,
       "aggType": "",
       "arguments": {},
       "columnCustomDisplayInfos": {},
       "data": [
        [
         "CUST021",
         "2023-01-14",
         "Inactive",
         "2024-11-10",
         "2024-11-13T21:43:22.194+0000"
        ],
        [
         "CUST022",
         "2023-10-15",
         "Inactive",
         "2024-11-10",
         "2024-11-13T21:43:22.194+0000"
        ],
        [
         "CUST023",
         "2023-04-12",
         "Inactive",
         "2024-11-10",
         "2024-11-13T21:43:22.194+0000"
        ],
        [
         "CUST024",
         "2023-11-29",
         "None",
         "2024-11-10",
         "2024-11-13T21:43:22.194+0000"
        ],
        [
         "CUST025",
         "2023-12-26",
         "Inactive",
         "2024-11-10",
         "2024-11-13T21:43:22.194+0000"
        ],
        [
         "CUST026",
         "2023-10-07",
         "Active",
         "2024-11-10",
         "2024-11-13T21:43:22.194+0000"
        ],
        [
         "CUST027",
         "2023-08-03",
         "Inactive",
         "2024-11-10",
         "2024-11-13T21:43:22.194+0000"
        ],
        [
         "CUST028",
         "2023-04-23",
         "Inactive",
         "2024-11-10",
         "2024-11-13T21:43:22.194+0000"
        ],
        [
         "CUST029",
         "2023-08-18",
         "Active",
         "2024-11-10",
         "2024-11-13T21:43:22.194+0000"
        ],
        [
         "CUST030",
         "2023-10-29",
         "None",
         "2024-11-10",
         "2024-11-13T21:43:22.194+0000"
        ],
        [
         "CUST031",
         "2023-05-23",
         "Inactive",
         "2024-11-10",
         "2024-11-13T21:43:22.194+0000"
        ],
        [
         "CUST032",
         "2023-01-04",
         "None",
         "2024-11-10",
         "2024-11-13T21:43:22.194+0000"
        ],
        [
         "CUST033",
         "2023-03-23",
         "None",
         "2024-11-10",
         "2024-11-13T21:43:22.194+0000"
        ],
        [
         "CUST034",
         "2023-12-24",
         "None",
         "2024-11-10",
         "2024-11-13T21:43:22.194+0000"
        ],
        [
         "CUST035",
         "2023-08-05",
         "Active",
         "2024-11-10",
         "2024-11-13T21:43:22.194+0000"
        ],
        [
         "CUST036",
         "2023-06-24",
         "None",
         "2024-11-10",
         "2024-11-13T21:43:22.194+0000"
        ],
        [
         "CUST037",
         "2023-05-23",
         "None",
         "2024-11-10",
         "2024-11-13T21:43:22.194+0000"
        ],
        [
         "CUST038",
         "2023-03-21",
         "Active",
         "2024-11-10",
         "2024-11-13T21:43:22.194+0000"
        ],
        [
         "CUST039",
         "2023-04-21",
         "None",
         "2024-11-10",
         "2024-11-13T21:43:22.194+0000"
        ],
        [
         "CUST040",
         "2023-06-22",
         "None",
         "2024-11-10",
         "2024-11-13T21:43:22.194+0000"
        ],
        [
         "CUST041",
         "2023-02-22",
         "Active",
         "2024-11-10",
         "2024-11-13T21:43:22.194+0000"
        ],
        [
         "CUST042",
         "2023-02-17",
         "Active",
         "2024-11-10",
         "2024-11-13T21:43:22.194+0000"
        ],
        [
         "CUST043",
         "2023-07-14",
         "Inactive",
         "2024-11-10",
         "2024-11-13T21:43:22.194+0000"
        ],
        [
         "CUST044",
         "2023-02-19",
         "Inactive",
         "2024-11-10",
         "2024-11-13T21:43:22.194+0000"
        ],
        [
         "CUST045",
         "2023-07-03",
         "Inactive",
         "2024-11-10",
         "2024-11-13T21:43:22.194+0000"
        ],
        [
         "CUST046",
         "2023-06-26",
         "None",
         "2024-11-10",
         "2024-11-13T21:43:22.194+0000"
        ],
        [
         "CUST047",
         "2023-11-06",
         "None",
         "2024-11-10",
         "2024-11-13T21:43:22.194+0000"
        ],
        [
         "CUST048",
         "2023-05-16",
         "None",
         "2024-11-10",
         "2024-11-13T21:43:22.194+0000"
        ],
        [
         "CUST049",
         "2023-01-23",
         "Active",
         "2024-11-10",
         "2024-11-13T21:43:22.194+0000"
        ],
        [
         "CUST050",
         "2023-08-24",
         "None",
         "2024-11-10",
         "2024-11-13T21:43:22.194+0000"
        ]
       ],
       "datasetInfos": [],
       "dbfsResultPath": null,
       "isJsonSchema": true,
       "metadata": {},
       "overflow": false,
       "plotOptions": {
        "customPlotOptions": {},
        "displayType": "table",
        "pivotAggregation": null,
        "pivotColumns": null,
        "xColumns": null,
        "yColumns": null
       },
       "removedWidgets": [],
       "schema": [
        {
         "metadata": "{}",
         "name": "customer_id",
         "type": "\"string\""
        },
        {
         "metadata": "{}",
         "name": "signup_date",
         "type": "\"date\""
        },
        {
         "metadata": "{}",
         "name": "loyal_status",
         "type": "\"string\""
        },
        {
         "metadata": "{}",
         "name": "file_date",
         "type": "\"string\""
        },
        {
         "metadata": "{}",
         "name": "ingestion_date",
         "type": "\"timestamp\""
        }
       ],
       "type": "table"
      }
     },
     "output_type": "display_data"
    }
   ],
   "source": [
    "display(customer_info_final_df)"
   ]
  },
  {
   "cell_type": "markdown",
   "metadata": {
    "application/vnd.databricks.v1+cell": {
     "cellMetadata": {
      "byteLimit": 2048000,
      "rowLimit": 10000
     },
     "inputWidgets": {},
     "nuid": "103e7215-ca53-4fc2-ab1d-867bd623a110",
     "showTitle": false,
     "tableResultSettingsMap": {},
     "title": ""
    }
   },
   "source": [
    "# Save the table to the silver folder"
   ]
  },
  {
   "cell_type": "code",
   "execution_count": 0,
   "metadata": {
    "application/vnd.databricks.v1+cell": {
     "cellMetadata": {
      "byteLimit": 2048000,
      "rowLimit": 10000
     },
     "inputWidgets": {},
     "nuid": "e59f5e02-283c-4cdf-9652-de71cb5b93fc",
     "showTitle": false,
     "tableResultSettingsMap": {},
     "title": ""
    }
   },
   "outputs": [
    {
     "output_type": "stream",
     "name": "stdout",
     "output_type": "stream",
     "text": [
      "Out[105]: True"
     ]
    }
   ],
   "source": [
    "spark._jsparkSession.catalog().tableExists(\"clv_silver.customer_info\")"
   ]
  },
  {
   "cell_type": "code",
   "execution_count": 0,
   "metadata": {
    "application/vnd.databricks.v1+cell": {
     "cellMetadata": {
      "byteLimit": 2048000,
      "rowLimit": 10000
     },
     "inputWidgets": {},
     "nuid": "b7e473b3-d746-48df-b313-a07a5541ebe8",
     "showTitle": false,
     "tableResultSettingsMap": {},
     "title": ""
    }
   },
   "outputs": [],
   "source": [
    "spark.conf.set(\"spark.databricks.optimizer.dynamicPartitionPruning\", \"true\")\n",
    "\n",
    "from delta.tables import DeltaTable\n",
    "\n",
    "# Check if the table exists in the catalog\n",
    "if spark._jsparkSession.catalog().tableExists(\"clv_silver.customer_info\"):\n",
    "    # Load the existing Delta table\n",
    "    deltaTable = DeltaTable.forPath(spark, \"/mnt/clvprojectadls/silver/customer_info\")\n",
    "    \n",
    "    # Perform the merge operation\n",
    "    deltaTable.alias(\"tgt\").merge(customer_info_final_df.alias(\"src\"), \"tgt.customer_id = src.customer_id\") \\\n",
    "        .whenMatchedUpdateAll() \\\n",
    "        .whenNotMatchedInsertAll() \\\n",
    "        .execute()\n",
    "else:\n",
    "    # Write the DataFrame as a new Delta table with partitioning by customer_id\n",
    "    customer_info_final_df.write \\\n",
    "        .mode('overwrite') \\\n",
    "        .partitionBy('customer_id') \\\n",
    "        .format('delta') \\\n",
    "        .saveAsTable(\"clv_silver.customer_info\")\n"
   ]
  },
  {
   "cell_type": "code",
   "execution_count": 0,
   "metadata": {
    "application/vnd.databricks.v1+cell": {
     "cellMetadata": {
      "byteLimit": 2048000,
      "implicitDf": true,
      "rowLimit": 10000
     },
     "inputWidgets": {},
     "nuid": "bbccff6b-a8f1-414b-bbb1-c45f3867d982",
     "showTitle": false,
     "tableResultSettingsMap": {},
     "title": ""
    }
   },
   "outputs": [
    {
     "output_type": "display_data",
     "data": {
      "text/html": [
       "<style scoped>\n",
       "  .table-result-container {\n",
       "    max-height: 300px;\n",
       "    overflow: auto;\n",
       "  }\n",
       "  table, th, td {\n",
       "    border: 1px solid black;\n",
       "    border-collapse: collapse;\n",
       "  }\n",
       "  th, td {\n",
       "    padding: 5px;\n",
       "  }\n",
       "  th {\n",
       "    text-align: left;\n",
       "  }\n",
       "</style><div class='table-result-container'><table class='table-result'><thead style='background-color: white'><tr><th>customer_id</th><th>signup_date</th><th>loyal_status</th><th>file_date</th><th>ingestion_date</th></tr></thead><tbody><tr><td>CUST001</td><td>2024-01-01</td><td>active</td><td>2024-11-01</td><td>2024-11-13T21:42:48.955+0000</td></tr><tr><td>CUST002</td><td>2024-03-15</td><td>inactive</td><td>2024-11-01</td><td>2024-11-13T21:42:48.955+0000</td></tr><tr><td>CUST003</td><td>2023-01-13</td><td>Inactive</td><td>2024-11-05</td><td>2024-11-13T21:43:06.703+0000</td></tr><tr><td>CUST004</td><td>2023-05-21</td><td>Active</td><td>2024-11-05</td><td>2024-11-13T21:43:06.703+0000</td></tr><tr><td>CUST005</td><td>2023-05-06</td><td>None</td><td>2024-11-05</td><td>2024-11-13T21:43:06.703+0000</td></tr><tr><td>CUST006</td><td>2023-04-25</td><td>Inactive</td><td>2024-11-05</td><td>2024-11-13T21:43:06.703+0000</td></tr><tr><td>CUST007</td><td>2023-03-13</td><td>None</td><td>2024-11-05</td><td>2024-11-13T21:43:06.703+0000</td></tr><tr><td>CUST008</td><td>2023-02-22</td><td>None</td><td>2024-11-05</td><td>2024-11-13T21:43:06.703+0000</td></tr><tr><td>CUST009</td><td>2023-12-13</td><td>Inactive</td><td>2024-11-05</td><td>2024-11-13T21:43:06.703+0000</td></tr><tr><td>CUST010</td><td>2023-10-07</td><td>None</td><td>2024-11-05</td><td>2024-11-13T21:43:06.703+0000</td></tr><tr><td>CUST011</td><td>2023-02-14</td><td>Active</td><td>2024-11-05</td><td>2024-11-13T21:43:06.703+0000</td></tr><tr><td>CUST012</td><td>2023-10-30</td><td>None</td><td>2024-11-05</td><td>2024-11-13T21:43:06.703+0000</td></tr><tr><td>CUST013</td><td>2023-08-05</td><td>Active</td><td>2024-11-05</td><td>2024-11-13T21:43:06.703+0000</td></tr><tr><td>CUST014</td><td>2023-01-17</td><td>Active</td><td>2024-11-05</td><td>2024-11-13T21:43:06.703+0000</td></tr><tr><td>CUST015</td><td>2023-01-16</td><td>None</td><td>2024-11-05</td><td>2024-11-13T21:43:06.703+0000</td></tr><tr><td>CUST016</td><td>2023-02-17</td><td>Active</td><td>2024-11-05</td><td>2024-11-13T21:43:06.703+0000</td></tr><tr><td>CUST017</td><td>2023-04-22</td><td>Inactive</td><td>2024-11-05</td><td>2024-11-13T21:43:06.703+0000</td></tr><tr><td>CUST018</td><td>2023-04-30</td><td>Active</td><td>2024-11-05</td><td>2024-11-13T21:43:06.703+0000</td></tr><tr><td>CUST019</td><td>2023-09-16</td><td>Active</td><td>2024-11-05</td><td>2024-11-13T21:43:06.703+0000</td></tr><tr><td>CUST020</td><td>2023-11-05</td><td>Active</td><td>2024-11-05</td><td>2024-11-13T21:43:06.703+0000</td></tr><tr><td>CUST021</td><td>2023-01-14</td><td>Inactive</td><td>2024-11-10</td><td>2024-11-13T21:43:22.830+0000</td></tr><tr><td>CUST022</td><td>2023-10-15</td><td>Inactive</td><td>2024-11-10</td><td>2024-11-13T21:43:22.830+0000</td></tr><tr><td>CUST023</td><td>2023-04-12</td><td>Inactive</td><td>2024-11-10</td><td>2024-11-13T21:43:22.830+0000</td></tr><tr><td>CUST024</td><td>2023-11-29</td><td>None</td><td>2024-11-10</td><td>2024-11-13T21:43:22.830+0000</td></tr><tr><td>CUST025</td><td>2023-12-26</td><td>Inactive</td><td>2024-11-10</td><td>2024-11-13T21:43:22.830+0000</td></tr><tr><td>CUST026</td><td>2023-10-07</td><td>Active</td><td>2024-11-10</td><td>2024-11-13T21:43:22.830+0000</td></tr><tr><td>CUST027</td><td>2023-08-03</td><td>Inactive</td><td>2024-11-10</td><td>2024-11-13T21:43:22.830+0000</td></tr><tr><td>CUST028</td><td>2023-04-23</td><td>Inactive</td><td>2024-11-10</td><td>2024-11-13T21:43:22.830+0000</td></tr><tr><td>CUST029</td><td>2023-08-18</td><td>Active</td><td>2024-11-10</td><td>2024-11-13T21:43:22.830+0000</td></tr><tr><td>CUST030</td><td>2023-10-29</td><td>None</td><td>2024-11-10</td><td>2024-11-13T21:43:22.830+0000</td></tr><tr><td>CUST031</td><td>2023-05-23</td><td>Inactive</td><td>2024-11-10</td><td>2024-11-13T21:43:22.830+0000</td></tr><tr><td>CUST032</td><td>2023-01-04</td><td>None</td><td>2024-11-10</td><td>2024-11-13T21:43:22.830+0000</td></tr><tr><td>CUST033</td><td>2023-03-23</td><td>None</td><td>2024-11-10</td><td>2024-11-13T21:43:22.830+0000</td></tr><tr><td>CUST034</td><td>2023-12-24</td><td>None</td><td>2024-11-10</td><td>2024-11-13T21:43:22.830+0000</td></tr><tr><td>CUST035</td><td>2023-08-05</td><td>Active</td><td>2024-11-10</td><td>2024-11-13T21:43:22.830+0000</td></tr><tr><td>CUST036</td><td>2023-06-24</td><td>None</td><td>2024-11-10</td><td>2024-11-13T21:43:22.830+0000</td></tr><tr><td>CUST037</td><td>2023-05-23</td><td>None</td><td>2024-11-10</td><td>2024-11-13T21:43:22.830+0000</td></tr><tr><td>CUST038</td><td>2023-03-21</td><td>Active</td><td>2024-11-10</td><td>2024-11-13T21:43:22.830+0000</td></tr><tr><td>CUST039</td><td>2023-04-21</td><td>None</td><td>2024-11-10</td><td>2024-11-13T21:43:22.830+0000</td></tr><tr><td>CUST040</td><td>2023-06-22</td><td>None</td><td>2024-11-10</td><td>2024-11-13T21:43:22.830+0000</td></tr><tr><td>CUST041</td><td>2023-02-22</td><td>Active</td><td>2024-11-10</td><td>2024-11-13T21:43:22.830+0000</td></tr><tr><td>CUST042</td><td>2023-02-17</td><td>Active</td><td>2024-11-10</td><td>2024-11-13T21:43:22.830+0000</td></tr><tr><td>CUST043</td><td>2023-07-14</td><td>Inactive</td><td>2024-11-10</td><td>2024-11-13T21:43:22.830+0000</td></tr><tr><td>CUST044</td><td>2023-02-19</td><td>Inactive</td><td>2024-11-10</td><td>2024-11-13T21:43:22.830+0000</td></tr><tr><td>CUST045</td><td>2023-07-03</td><td>Inactive</td><td>2024-11-10</td><td>2024-11-13T21:43:22.830+0000</td></tr><tr><td>CUST046</td><td>2023-06-26</td><td>None</td><td>2024-11-10</td><td>2024-11-13T21:43:22.830+0000</td></tr><tr><td>CUST047</td><td>2023-11-06</td><td>None</td><td>2024-11-10</td><td>2024-11-13T21:43:22.830+0000</td></tr><tr><td>CUST048</td><td>2023-05-16</td><td>None</td><td>2024-11-10</td><td>2024-11-13T21:43:22.830+0000</td></tr><tr><td>CUST049</td><td>2023-01-23</td><td>Active</td><td>2024-11-10</td><td>2024-11-13T21:43:22.830+0000</td></tr><tr><td>CUST050</td><td>2023-08-24</td><td>None</td><td>2024-11-10</td><td>2024-11-13T21:43:22.830+0000</td></tr></tbody></table></div>"
      ]
     },
     "metadata": {
      "application/vnd.databricks.v1+output": {
       "addedWidgets": {},
       "aggData": [],
       "aggError": "",
       "aggOverflow": false,
       "aggSchema": [],
       "aggSeriesLimitReached": false,
       "aggType": "",
       "arguments": {},
       "columnCustomDisplayInfos": {},
       "data": [
        [
         "CUST001",
         "2024-01-01",
         "active",
         "2024-11-01",
         "2024-11-13T21:42:48.955+0000"
        ],
        [
         "CUST002",
         "2024-03-15",
         "inactive",
         "2024-11-01",
         "2024-11-13T21:42:48.955+0000"
        ],
        [
         "CUST003",
         "2023-01-13",
         "Inactive",
         "2024-11-05",
         "2024-11-13T21:43:06.703+0000"
        ],
        [
         "CUST004",
         "2023-05-21",
         "Active",
         "2024-11-05",
         "2024-11-13T21:43:06.703+0000"
        ],
        [
         "CUST005",
         "2023-05-06",
         "None",
         "2024-11-05",
         "2024-11-13T21:43:06.703+0000"
        ],
        [
         "CUST006",
         "2023-04-25",
         "Inactive",
         "2024-11-05",
         "2024-11-13T21:43:06.703+0000"
        ],
        [
         "CUST007",
         "2023-03-13",
         "None",
         "2024-11-05",
         "2024-11-13T21:43:06.703+0000"
        ],
        [
         "CUST008",
         "2023-02-22",
         "None",
         "2024-11-05",
         "2024-11-13T21:43:06.703+0000"
        ],
        [
         "CUST009",
         "2023-12-13",
         "Inactive",
         "2024-11-05",
         "2024-11-13T21:43:06.703+0000"
        ],
        [
         "CUST010",
         "2023-10-07",
         "None",
         "2024-11-05",
         "2024-11-13T21:43:06.703+0000"
        ],
        [
         "CUST011",
         "2023-02-14",
         "Active",
         "2024-11-05",
         "2024-11-13T21:43:06.703+0000"
        ],
        [
         "CUST012",
         "2023-10-30",
         "None",
         "2024-11-05",
         "2024-11-13T21:43:06.703+0000"
        ],
        [
         "CUST013",
         "2023-08-05",
         "Active",
         "2024-11-05",
         "2024-11-13T21:43:06.703+0000"
        ],
        [
         "CUST014",
         "2023-01-17",
         "Active",
         "2024-11-05",
         "2024-11-13T21:43:06.703+0000"
        ],
        [
         "CUST015",
         "2023-01-16",
         "None",
         "2024-11-05",
         "2024-11-13T21:43:06.703+0000"
        ],
        [
         "CUST016",
         "2023-02-17",
         "Active",
         "2024-11-05",
         "2024-11-13T21:43:06.703+0000"
        ],
        [
         "CUST017",
         "2023-04-22",
         "Inactive",
         "2024-11-05",
         "2024-11-13T21:43:06.703+0000"
        ],
        [
         "CUST018",
         "2023-04-30",
         "Active",
         "2024-11-05",
         "2024-11-13T21:43:06.703+0000"
        ],
        [
         "CUST019",
         "2023-09-16",
         "Active",
         "2024-11-05",
         "2024-11-13T21:43:06.703+0000"
        ],
        [
         "CUST020",
         "2023-11-05",
         "Active",
         "2024-11-05",
         "2024-11-13T21:43:06.703+0000"
        ],
        [
         "CUST021",
         "2023-01-14",
         "Inactive",
         "2024-11-10",
         "2024-11-13T21:43:22.830+0000"
        ],
        [
         "CUST022",
         "2023-10-15",
         "Inactive",
         "2024-11-10",
         "2024-11-13T21:43:22.830+0000"
        ],
        [
         "CUST023",
         "2023-04-12",
         "Inactive",
         "2024-11-10",
         "2024-11-13T21:43:22.830+0000"
        ],
        [
         "CUST024",
         "2023-11-29",
         "None",
         "2024-11-10",
         "2024-11-13T21:43:22.830+0000"
        ],
        [
         "CUST025",
         "2023-12-26",
         "Inactive",
         "2024-11-10",
         "2024-11-13T21:43:22.830+0000"
        ],
        [
         "CUST026",
         "2023-10-07",
         "Active",
         "2024-11-10",
         "2024-11-13T21:43:22.830+0000"
        ],
        [
         "CUST027",
         "2023-08-03",
         "Inactive",
         "2024-11-10",
         "2024-11-13T21:43:22.830+0000"
        ],
        [
         "CUST028",
         "2023-04-23",
         "Inactive",
         "2024-11-10",
         "2024-11-13T21:43:22.830+0000"
        ],
        [
         "CUST029",
         "2023-08-18",
         "Active",
         "2024-11-10",
         "2024-11-13T21:43:22.830+0000"
        ],
        [
         "CUST030",
         "2023-10-29",
         "None",
         "2024-11-10",
         "2024-11-13T21:43:22.830+0000"
        ],
        [
         "CUST031",
         "2023-05-23",
         "Inactive",
         "2024-11-10",
         "2024-11-13T21:43:22.830+0000"
        ],
        [
         "CUST032",
         "2023-01-04",
         "None",
         "2024-11-10",
         "2024-11-13T21:43:22.830+0000"
        ],
        [
         "CUST033",
         "2023-03-23",
         "None",
         "2024-11-10",
         "2024-11-13T21:43:22.830+0000"
        ],
        [
         "CUST034",
         "2023-12-24",
         "None",
         "2024-11-10",
         "2024-11-13T21:43:22.830+0000"
        ],
        [
         "CUST035",
         "2023-08-05",
         "Active",
         "2024-11-10",
         "2024-11-13T21:43:22.830+0000"
        ],
        [
         "CUST036",
         "2023-06-24",
         "None",
         "2024-11-10",
         "2024-11-13T21:43:22.830+0000"
        ],
        [
         "CUST037",
         "2023-05-23",
         "None",
         "2024-11-10",
         "2024-11-13T21:43:22.830+0000"
        ],
        [
         "CUST038",
         "2023-03-21",
         "Active",
         "2024-11-10",
         "2024-11-13T21:43:22.830+0000"
        ],
        [
         "CUST039",
         "2023-04-21",
         "None",
         "2024-11-10",
         "2024-11-13T21:43:22.830+0000"
        ],
        [
         "CUST040",
         "2023-06-22",
         "None",
         "2024-11-10",
         "2024-11-13T21:43:22.830+0000"
        ],
        [
         "CUST041",
         "2023-02-22",
         "Active",
         "2024-11-10",
         "2024-11-13T21:43:22.830+0000"
        ],
        [
         "CUST042",
         "2023-02-17",
         "Active",
         "2024-11-10",
         "2024-11-13T21:43:22.830+0000"
        ],
        [
         "CUST043",
         "2023-07-14",
         "Inactive",
         "2024-11-10",
         "2024-11-13T21:43:22.830+0000"
        ],
        [
         "CUST044",
         "2023-02-19",
         "Inactive",
         "2024-11-10",
         "2024-11-13T21:43:22.830+0000"
        ],
        [
         "CUST045",
         "2023-07-03",
         "Inactive",
         "2024-11-10",
         "2024-11-13T21:43:22.830+0000"
        ],
        [
         "CUST046",
         "2023-06-26",
         "None",
         "2024-11-10",
         "2024-11-13T21:43:22.830+0000"
        ],
        [
         "CUST047",
         "2023-11-06",
         "None",
         "2024-11-10",
         "2024-11-13T21:43:22.830+0000"
        ],
        [
         "CUST048",
         "2023-05-16",
         "None",
         "2024-11-10",
         "2024-11-13T21:43:22.830+0000"
        ],
        [
         "CUST049",
         "2023-01-23",
         "Active",
         "2024-11-10",
         "2024-11-13T21:43:22.830+0000"
        ],
        [
         "CUST050",
         "2023-08-24",
         "None",
         "2024-11-10",
         "2024-11-13T21:43:22.830+0000"
        ]
       ],
       "datasetInfos": [],
       "dbfsResultPath": null,
       "isJsonSchema": true,
       "metadata": {},
       "overflow": false,
       "plotOptions": {
        "customPlotOptions": {},
        "displayType": "table",
        "pivotAggregation": null,
        "pivotColumns": null,
        "xColumns": null,
        "yColumns": null
       },
       "removedWidgets": [],
       "schema": [
        {
         "metadata": "{}",
         "name": "customer_id",
         "type": "\"string\""
        },
        {
         "metadata": "{}",
         "name": "signup_date",
         "type": "\"date\""
        },
        {
         "metadata": "{}",
         "name": "loyal_status",
         "type": "\"string\""
        },
        {
         "metadata": "{}",
         "name": "file_date",
         "type": "\"string\""
        },
        {
         "metadata": "{}",
         "name": "ingestion_date",
         "type": "\"timestamp\""
        }
       ],
       "type": "table"
      }
     },
     "output_type": "display_data"
    }
   ],
   "source": [
    "%sql\n",
    "SELECT *\n",
    "FROM clv_silver.customer_info\n",
    "ORDER BY customer_id"
   ]
  }
 ],
 "metadata": {
  "application/vnd.databricks.v1+notebook": {
   "dashboards": [],
   "environmentMetadata": {
    "base_environment": "",
    "client": "1"
   },
   "language": "python",
   "notebookMetadata": {
    "mostRecentlyExecutedCommandWithImplicitDF": {
     "commandId": 1616572586022601,
     "dataframes": [
      "_sqldf"
     ]
    },
    "pythonIndentUnit": 2
   },
   "notebookName": "1. ingest_customer_info",
   "widgets": {
    "p_file_date": {
     "currentValue": "2024-11-10",
     "nuid": "b575f107-e1ad-455b-9731-2a70f5c55687",
     "typedWidgetInfo": {
      "autoCreated": false,
      "defaultValue": "2024-11-01",
      "label": null,
      "name": "p_file_date",
      "options": {
       "widgetDisplayType": "Text",
       "validationRegex": null
      },
      "parameterDataType": "String"
     },
     "widgetInfo": {
      "widgetType": "text",
      "defaultValue": "2024-11-01",
      "label": null,
      "name": "p_file_date",
      "options": {
       "widgetType": "text",
       "autoCreated": null,
       "validationRegex": null
      }
     }
    }
   }
  },
  "language_info": {
   "name": "python"
  }
 },
 "nbformat": 4,
 "nbformat_minor": 0
}