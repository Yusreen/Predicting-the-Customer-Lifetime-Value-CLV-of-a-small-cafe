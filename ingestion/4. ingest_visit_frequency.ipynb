{
 "cells": [
  {
   "cell_type": "code",
   "execution_count": 0,
   "metadata": {
    "application/vnd.databricks.v1+cell": {
     "cellMetadata": {
      "byteLimit": 2048000,
      "rowLimit": 10000
     },
     "inputWidgets": {},
     "nuid": "0f14f657-0cc7-4aa7-a217-a06e97dae554",
     "showTitle": false,
     "tableResultSettingsMap": {},
     "title": ""
    }
   },
   "outputs": [],
   "source": [
    "%run ../includes/configurations "
   ]
  },
  {
   "cell_type": "code",
   "execution_count": 0,
   "metadata": {
    "application/vnd.databricks.v1+cell": {
     "cellMetadata": {
      "byteLimit": 2048000,
      "rowLimit": 10000
     },
     "inputWidgets": {},
     "nuid": "7d1f7f64-1c95-4d36-b763-1d7938d50472",
     "showTitle": false,
     "tableResultSettingsMap": {},
     "title": ""
    }
   },
   "outputs": [
    {
     "output_type": "stream",
     "name": "stdout",
     "output_type": "stream",
     "text": [
      "Out[35]: '/mnt/clvprojectadls/bronze'"
     ]
    }
   ],
   "source": [
    "bronze_folder_path"
   ]
  },
  {
   "cell_type": "code",
   "execution_count": 0,
   "metadata": {
    "application/vnd.databricks.v1+cell": {
     "cellMetadata": {
      "byteLimit": 2048000,
      "rowLimit": 10000
     },
     "inputWidgets": {},
     "nuid": "ef304f3d-9ac2-4706-8cc9-f094c5d3b59a",
     "showTitle": false,
     "tableResultSettingsMap": {},
     "title": ""
    }
   },
   "outputs": [
    {
     "output_type": "stream",
     "name": "stdout",
     "output_type": "stream",
     "text": [
      "Out[36]: '/mnt/clvprojectadls/silver'"
     ]
    }
   ],
   "source": [
    "silver_folder_path"
   ]
  },
  {
   "cell_type": "code",
   "execution_count": 0,
   "metadata": {
    "application/vnd.databricks.v1+cell": {
     "cellMetadata": {
      "byteLimit": 2048000,
      "rowLimit": 10000
     },
     "inputWidgets": {},
     "nuid": "81240523-e4e8-4f31-b20c-0efc709159e1",
     "showTitle": false,
     "tableResultSettingsMap": {},
     "title": ""
    }
   },
   "outputs": [],
   "source": [
    "dbutils.widgets.text(\"p_file_date\", \"2024-11-01\")\n",
    "v_file_date = dbutils.widgets.get(\"p_file_date\")"
   ]
  },
  {
   "cell_type": "markdown",
   "metadata": {
    "application/vnd.databricks.v1+cell": {
     "cellMetadata": {
      "byteLimit": 2048000,
      "rowLimit": 10000
     },
     "inputWidgets": {},
     "nuid": "d41fe019-872b-46b7-9cea-e99e39cab0f6",
     "showTitle": false,
     "tableResultSettingsMap": {},
     "title": ""
    }
   },
   "source": [
    "#This notebook reads data from the visit_frequency file"
   ]
  },
  {
   "cell_type": "markdown",
   "metadata": {
    "application/vnd.databricks.v1+cell": {
     "cellMetadata": {
      "byteLimit": 2048000,
      "rowLimit": 10000
     },
     "inputWidgets": {},
     "nuid": "7ae73244-c097-409f-bd19-47f1b399215f",
     "showTitle": false,
     "tableResultSettingsMap": {},
     "title": ""
    }
   },
   "source": [
    "#Specifying the schema  "
   ]
  },
  {
   "cell_type": "code",
   "execution_count": 0,
   "metadata": {
    "application/vnd.databricks.v1+cell": {
     "cellMetadata": {
      "byteLimit": 2048000,
      "rowLimit": 10000
     },
     "inputWidgets": {},
     "nuid": "a6b050b1-e2e3-4699-8cbc-4935e5536b72",
     "showTitle": false,
     "tableResultSettingsMap": {},
     "title": ""
    }
   },
   "outputs": [],
   "source": [
    "from pyspark.sql.types import StructType, StructField, IntegerType, StringType, DoubleType,DateType"
   ]
  },
  {
   "cell_type": "code",
   "execution_count": 0,
   "metadata": {
    "application/vnd.databricks.v1+cell": {
     "cellMetadata": {
      "byteLimit": 2048000,
      "rowLimit": 10000
     },
     "inputWidgets": {},
     "nuid": "f6570964-d336-48ed-a885-0b931a53d951",
     "showTitle": false,
     "tableResultSettingsMap": {},
     "title": ""
    }
   },
   "outputs": [],
   "source": [
    "from pyspark.sql.functions import current_timestamp,lit"
   ]
  },
  {
   "cell_type": "code",
   "execution_count": 0,
   "metadata": {
    "application/vnd.databricks.v1+cell": {
     "cellMetadata": {
      "byteLimit": 2048000,
      "rowLimit": 10000
     },
     "inputWidgets": {},
     "nuid": "c404db26-9fe0-4ef9-bc9a-ebea1e6963da",
     "showTitle": false,
     "tableResultSettingsMap": {},
     "title": ""
    }
   },
   "outputs": [],
   "source": [
    "visit_frequency_schema = StructType(fields = [StructField('CustomerId', StringType(),False),\n",
    "                                            StructField(\"VisitCount\", IntegerType(), True)\n",
    "                                            ])"
   ]
  },
  {
   "cell_type": "markdown",
   "metadata": {
    "application/vnd.databricks.v1+cell": {
     "cellMetadata": {
      "byteLimit": 2048000,
      "rowLimit": 10000
     },
     "inputWidgets": {},
     "nuid": "76ea7b48-7dc5-41f2-a673-644a6b270bfa",
     "showTitle": false,
     "tableResultSettingsMap": {},
     "title": ""
    }
   },
   "source": [
    "# Read the customer_info file"
   ]
  },
  {
   "cell_type": "code",
   "execution_count": 0,
   "metadata": {
    "application/vnd.databricks.v1+cell": {
     "cellMetadata": {
      "byteLimit": 2048000,
      "rowLimit": 10000
     },
     "inputWidgets": {},
     "nuid": "244f29cd-3017-4057-9f2e-d558ae8f197f",
     "showTitle": false,
     "tableResultSettingsMap": {},
     "title": ""
    }
   },
   "outputs": [],
   "source": [
    "visit_frequency_df = spark.read\\\n",
    "                   .option('header',True)\\\n",
    "                   .schema(visit_frequency_schema)\\\n",
    "                   .csv(f\"{bronze_folder_path}/{v_file_date}/visit_frequency.csv\")"
   ]
  },
  {
   "cell_type": "code",
   "execution_count": 0,
   "metadata": {
    "application/vnd.databricks.v1+cell": {
     "cellMetadata": {
      "byteLimit": 2048000,
      "rowLimit": 10000
     },
     "inputWidgets": {},
     "nuid": "ccd11dbc-1499-4481-a0fa-c7c387734367",
     "showTitle": false,
     "tableResultSettingsMap": {},
     "title": ""
    }
   },
   "outputs": [
    {
     "output_type": "display_data",
     "data": {
      "text/html": [
       "<style scoped>\n",
       "  .table-result-container {\n",
       "    max-height: 300px;\n",
       "    overflow: auto;\n",
       "  }\n",
       "  table, th, td {\n",
       "    border: 1px solid black;\n",
       "    border-collapse: collapse;\n",
       "  }\n",
       "  th, td {\n",
       "    padding: 5px;\n",
       "  }\n",
       "  th {\n",
       "    text-align: left;\n",
       "  }\n",
       "</style><div class='table-result-container'><table class='table-result'><thead style='background-color: white'><tr><th>CustomerId</th><th>VisitCount</th></tr></thead><tbody><tr><td>CUST021</td><td>13</td></tr><tr><td>CUST022</td><td>11</td></tr><tr><td>CUST023</td><td>6</td></tr><tr><td>CUST024</td><td>15</td></tr><tr><td>CUST025</td><td>18</td></tr><tr><td>CUST026</td><td>11</td></tr><tr><td>CUST027</td><td>18</td></tr><tr><td>CUST028</td><td>12</td></tr><tr><td>CUST029</td><td>9</td></tr><tr><td>CUST030</td><td>20</td></tr><tr><td>CUST031</td><td>16</td></tr><tr><td>CUST032</td><td>7</td></tr><tr><td>CUST033</td><td>8</td></tr><tr><td>CUST034</td><td>9</td></tr><tr><td>CUST035</td><td>18</td></tr><tr><td>CUST036</td><td>10</td></tr><tr><td>CUST037</td><td>8</td></tr><tr><td>CUST038</td><td>10</td></tr><tr><td>CUST039</td><td>10</td></tr><tr><td>CUST040</td><td>7</td></tr><tr><td>CUST041</td><td>16</td></tr><tr><td>CUST042</td><td>11</td></tr><tr><td>CUST043</td><td>16</td></tr><tr><td>CUST044</td><td>12</td></tr><tr><td>CUST045</td><td>18</td></tr><tr><td>CUST046</td><td>9</td></tr><tr><td>CUST047</td><td>10</td></tr><tr><td>CUST048</td><td>4</td></tr><tr><td>CUST049</td><td>19</td></tr><tr><td>CUST050</td><td>18</td></tr></tbody></table></div>"
      ]
     },
     "metadata": {
      "application/vnd.databricks.v1+output": {
       "addedWidgets": {},
       "aggData": [],
       "aggError": "",
       "aggOverflow": false,
       "aggSchema": [],
       "aggSeriesLimitReached": false,
       "aggType": "",
       "arguments": {},
       "columnCustomDisplayInfos": {},
       "data": [
        [
         "CUST021",
         13
        ],
        [
         "CUST022",
         11
        ],
        [
         "CUST023",
         6
        ],
        [
         "CUST024",
         15
        ],
        [
         "CUST025",
         18
        ],
        [
         "CUST026",
         11
        ],
        [
         "CUST027",
         18
        ],
        [
         "CUST028",
         12
        ],
        [
         "CUST029",
         9
        ],
        [
         "CUST030",
         20
        ],
        [
         "CUST031",
         16
        ],
        [
         "CUST032",
         7
        ],
        [
         "CUST033",
         8
        ],
        [
         "CUST034",
         9
        ],
        [
         "CUST035",
         18
        ],
        [
         "CUST036",
         10
        ],
        [
         "CUST037",
         8
        ],
        [
         "CUST038",
         10
        ],
        [
         "CUST039",
         10
        ],
        [
         "CUST040",
         7
        ],
        [
         "CUST041",
         16
        ],
        [
         "CUST042",
         11
        ],
        [
         "CUST043",
         16
        ],
        [
         "CUST044",
         12
        ],
        [
         "CUST045",
         18
        ],
        [
         "CUST046",
         9
        ],
        [
         "CUST047",
         10
        ],
        [
         "CUST048",
         4
        ],
        [
         "CUST049",
         19
        ],
        [
         "CUST050",
         18
        ]
       ],
       "datasetInfos": [],
       "dbfsResultPath": null,
       "isJsonSchema": true,
       "metadata": {},
       "overflow": false,
       "plotOptions": {
        "customPlotOptions": {},
        "displayType": "table",
        "pivotAggregation": null,
        "pivotColumns": null,
        "xColumns": null,
        "yColumns": null
       },
       "removedWidgets": [],
       "schema": [
        {
         "metadata": "{}",
         "name": "CustomerId",
         "type": "\"string\""
        },
        {
         "metadata": "{}",
         "name": "VisitCount",
         "type": "\"integer\""
        }
       ],
       "type": "table"
      }
     },
     "output_type": "display_data"
    }
   ],
   "source": [
    "display(visit_frequency_df)"
   ]
  },
  {
   "cell_type": "markdown",
   "metadata": {
    "application/vnd.databricks.v1+cell": {
     "cellMetadata": {
      "byteLimit": 2048000,
      "rowLimit": 10000
     },
     "inputWidgets": {},
     "nuid": "8dd8dcbf-e101-4c36-bf78-490c9c16a023",
     "showTitle": false,
     "tableResultSettingsMap": {},
     "title": ""
    }
   },
   "source": [
    "# Rename the column\n"
   ]
  },
  {
   "cell_type": "code",
   "execution_count": 0,
   "metadata": {
    "application/vnd.databricks.v1+cell": {
     "cellMetadata": {
      "byteLimit": 2048000,
      "rowLimit": 10000
     },
     "inputWidgets": {},
     "nuid": "7f8a0820-ca67-4d96-8be4-af0eb5f60af8",
     "showTitle": false,
     "tableResultSettingsMap": {},
     "title": ""
    }
   },
   "outputs": [],
   "source": [
    "visit_frequency_renamed_df = visit_frequency_df.withColumnRenamed(\"CustomerId\",\"customer_id\")\\\n",
    "                                               .withColumnRenamed(\"VisitCount\",\"visit_count\")\\\n",
    "                                               .withColumn(\"file_date\", lit(v_file_date))\n",
    "                         \n"
   ]
  },
  {
   "cell_type": "code",
   "execution_count": 0,
   "metadata": {
    "application/vnd.databricks.v1+cell": {
     "cellMetadata": {
      "byteLimit": 2048000,
      "rowLimit": 10000
     },
     "inputWidgets": {},
     "nuid": "6aeb1256-6d4c-4879-93fb-96add7d93a43",
     "showTitle": false,
     "tableResultSettingsMap": {},
     "title": ""
    }
   },
   "outputs": [
    {
     "output_type": "display_data",
     "data": {
      "text/html": [
       "<style scoped>\n",
       "  .table-result-container {\n",
       "    max-height: 300px;\n",
       "    overflow: auto;\n",
       "  }\n",
       "  table, th, td {\n",
       "    border: 1px solid black;\n",
       "    border-collapse: collapse;\n",
       "  }\n",
       "  th, td {\n",
       "    padding: 5px;\n",
       "  }\n",
       "  th {\n",
       "    text-align: left;\n",
       "  }\n",
       "</style><div class='table-result-container'><table class='table-result'><thead style='background-color: white'><tr><th>customer_id</th><th>visit_count</th><th>file_date</th></tr></thead><tbody><tr><td>CUST021</td><td>13</td><td>2024-11-10</td></tr><tr><td>CUST022</td><td>11</td><td>2024-11-10</td></tr><tr><td>CUST023</td><td>6</td><td>2024-11-10</td></tr><tr><td>CUST024</td><td>15</td><td>2024-11-10</td></tr><tr><td>CUST025</td><td>18</td><td>2024-11-10</td></tr><tr><td>CUST026</td><td>11</td><td>2024-11-10</td></tr><tr><td>CUST027</td><td>18</td><td>2024-11-10</td></tr><tr><td>CUST028</td><td>12</td><td>2024-11-10</td></tr><tr><td>CUST029</td><td>9</td><td>2024-11-10</td></tr><tr><td>CUST030</td><td>20</td><td>2024-11-10</td></tr><tr><td>CUST031</td><td>16</td><td>2024-11-10</td></tr><tr><td>CUST032</td><td>7</td><td>2024-11-10</td></tr><tr><td>CUST033</td><td>8</td><td>2024-11-10</td></tr><tr><td>CUST034</td><td>9</td><td>2024-11-10</td></tr><tr><td>CUST035</td><td>18</td><td>2024-11-10</td></tr><tr><td>CUST036</td><td>10</td><td>2024-11-10</td></tr><tr><td>CUST037</td><td>8</td><td>2024-11-10</td></tr><tr><td>CUST038</td><td>10</td><td>2024-11-10</td></tr><tr><td>CUST039</td><td>10</td><td>2024-11-10</td></tr><tr><td>CUST040</td><td>7</td><td>2024-11-10</td></tr><tr><td>CUST041</td><td>16</td><td>2024-11-10</td></tr><tr><td>CUST042</td><td>11</td><td>2024-11-10</td></tr><tr><td>CUST043</td><td>16</td><td>2024-11-10</td></tr><tr><td>CUST044</td><td>12</td><td>2024-11-10</td></tr><tr><td>CUST045</td><td>18</td><td>2024-11-10</td></tr><tr><td>CUST046</td><td>9</td><td>2024-11-10</td></tr><tr><td>CUST047</td><td>10</td><td>2024-11-10</td></tr><tr><td>CUST048</td><td>4</td><td>2024-11-10</td></tr><tr><td>CUST049</td><td>19</td><td>2024-11-10</td></tr><tr><td>CUST050</td><td>18</td><td>2024-11-10</td></tr></tbody></table></div>"
      ]
     },
     "metadata": {
      "application/vnd.databricks.v1+output": {
       "addedWidgets": {},
       "aggData": [],
       "aggError": "",
       "aggOverflow": false,
       "aggSchema": [],
       "aggSeriesLimitReached": false,
       "aggType": "",
       "arguments": {},
       "columnCustomDisplayInfos": {},
       "data": [
        [
         "CUST021",
         13,
         "2024-11-10"
        ],
        [
         "CUST022",
         11,
         "2024-11-10"
        ],
        [
         "CUST023",
         6,
         "2024-11-10"
        ],
        [
         "CUST024",
         15,
         "2024-11-10"
        ],
        [
         "CUST025",
         18,
         "2024-11-10"
        ],
        [
         "CUST026",
         11,
         "2024-11-10"
        ],
        [
         "CUST027",
         18,
         "2024-11-10"
        ],
        [
         "CUST028",
         12,
         "2024-11-10"
        ],
        [
         "CUST029",
         9,
         "2024-11-10"
        ],
        [
         "CUST030",
         20,
         "2024-11-10"
        ],
        [
         "CUST031",
         16,
         "2024-11-10"
        ],
        [
         "CUST032",
         7,
         "2024-11-10"
        ],
        [
         "CUST033",
         8,
         "2024-11-10"
        ],
        [
         "CUST034",
         9,
         "2024-11-10"
        ],
        [
         "CUST035",
         18,
         "2024-11-10"
        ],
        [
         "CUST036",
         10,
         "2024-11-10"
        ],
        [
         "CUST037",
         8,
         "2024-11-10"
        ],
        [
         "CUST038",
         10,
         "2024-11-10"
        ],
        [
         "CUST039",
         10,
         "2024-11-10"
        ],
        [
         "CUST040",
         7,
         "2024-11-10"
        ],
        [
         "CUST041",
         16,
         "2024-11-10"
        ],
        [
         "CUST042",
         11,
         "2024-11-10"
        ],
        [
         "CUST043",
         16,
         "2024-11-10"
        ],
        [
         "CUST044",
         12,
         "2024-11-10"
        ],
        [
         "CUST045",
         18,
         "2024-11-10"
        ],
        [
         "CUST046",
         9,
         "2024-11-10"
        ],
        [
         "CUST047",
         10,
         "2024-11-10"
        ],
        [
         "CUST048",
         4,
         "2024-11-10"
        ],
        [
         "CUST049",
         19,
         "2024-11-10"
        ],
        [
         "CUST050",
         18,
         "2024-11-10"
        ]
       ],
       "datasetInfos": [],
       "dbfsResultPath": null,
       "isJsonSchema": true,
       "metadata": {},
       "overflow": false,
       "plotOptions": {
        "customPlotOptions": {},
        "displayType": "table",
        "pivotAggregation": null,
        "pivotColumns": null,
        "xColumns": null,
        "yColumns": null
       },
       "removedWidgets": [],
       "schema": [
        {
         "metadata": "{}",
         "name": "customer_id",
         "type": "\"string\""
        },
        {
         "metadata": "{}",
         "name": "visit_count",
         "type": "\"integer\""
        },
        {
         "metadata": "{}",
         "name": "file_date",
         "type": "\"string\""
        }
       ],
       "type": "table"
      }
     },
     "output_type": "display_data"
    }
   ],
   "source": [
    "display(visit_frequency_renamed_df)"
   ]
  },
  {
   "cell_type": "markdown",
   "metadata": {
    "application/vnd.databricks.v1+cell": {
     "cellMetadata": {
      "byteLimit": 2048000,
      "rowLimit": 10000
     },
     "inputWidgets": {},
     "nuid": "f251aafe-24a8-4206-9209-bd7217903585",
     "showTitle": false,
     "tableResultSettingsMap": {},
     "title": ""
    }
   },
   "source": [
    "# Add a column called ingestion date"
   ]
  },
  {
   "cell_type": "code",
   "execution_count": 0,
   "metadata": {
    "application/vnd.databricks.v1+cell": {
     "cellMetadata": {
      "byteLimit": 2048000,
      "rowLimit": 10000
     },
     "inputWidgets": {},
     "nuid": "47d56124-85f4-40a6-b264-fb2d22b9380f",
     "showTitle": false,
     "tableResultSettingsMap": {},
     "title": ""
    }
   },
   "outputs": [],
   "source": [
    "visit_frequency_final_df = visit_frequency_renamed_df.withColumn('ingestion_date', current_timestamp())"
   ]
  },
  {
   "cell_type": "code",
   "execution_count": 0,
   "metadata": {
    "application/vnd.databricks.v1+cell": {
     "cellMetadata": {
      "byteLimit": 2048000,
      "rowLimit": 10000
     },
     "inputWidgets": {},
     "nuid": "cda191fb-f96f-4f4c-99ae-da8927342810",
     "showTitle": false,
     "tableResultSettingsMap": {},
     "title": ""
    }
   },
   "outputs": [
    {
     "output_type": "display_data",
     "data": {
      "text/html": [
       "<style scoped>\n",
       "  .table-result-container {\n",
       "    max-height: 300px;\n",
       "    overflow: auto;\n",
       "  }\n",
       "  table, th, td {\n",
       "    border: 1px solid black;\n",
       "    border-collapse: collapse;\n",
       "  }\n",
       "  th, td {\n",
       "    padding: 5px;\n",
       "  }\n",
       "  th {\n",
       "    text-align: left;\n",
       "  }\n",
       "</style><div class='table-result-container'><table class='table-result'><thead style='background-color: white'><tr><th>customer_id</th><th>visit_count</th><th>file_date</th><th>ingestion_date</th></tr></thead><tbody><tr><td>CUST021</td><td>13</td><td>2024-11-10</td><td>2024-11-13T21:46:20.777+0000</td></tr><tr><td>CUST022</td><td>11</td><td>2024-11-10</td><td>2024-11-13T21:46:20.777+0000</td></tr><tr><td>CUST023</td><td>6</td><td>2024-11-10</td><td>2024-11-13T21:46:20.777+0000</td></tr><tr><td>CUST024</td><td>15</td><td>2024-11-10</td><td>2024-11-13T21:46:20.777+0000</td></tr><tr><td>CUST025</td><td>18</td><td>2024-11-10</td><td>2024-11-13T21:46:20.777+0000</td></tr><tr><td>CUST026</td><td>11</td><td>2024-11-10</td><td>2024-11-13T21:46:20.777+0000</td></tr><tr><td>CUST027</td><td>18</td><td>2024-11-10</td><td>2024-11-13T21:46:20.777+0000</td></tr><tr><td>CUST028</td><td>12</td><td>2024-11-10</td><td>2024-11-13T21:46:20.777+0000</td></tr><tr><td>CUST029</td><td>9</td><td>2024-11-10</td><td>2024-11-13T21:46:20.777+0000</td></tr><tr><td>CUST030</td><td>20</td><td>2024-11-10</td><td>2024-11-13T21:46:20.777+0000</td></tr><tr><td>CUST031</td><td>16</td><td>2024-11-10</td><td>2024-11-13T21:46:20.777+0000</td></tr><tr><td>CUST032</td><td>7</td><td>2024-11-10</td><td>2024-11-13T21:46:20.777+0000</td></tr><tr><td>CUST033</td><td>8</td><td>2024-11-10</td><td>2024-11-13T21:46:20.777+0000</td></tr><tr><td>CUST034</td><td>9</td><td>2024-11-10</td><td>2024-11-13T21:46:20.777+0000</td></tr><tr><td>CUST035</td><td>18</td><td>2024-11-10</td><td>2024-11-13T21:46:20.777+0000</td></tr><tr><td>CUST036</td><td>10</td><td>2024-11-10</td><td>2024-11-13T21:46:20.777+0000</td></tr><tr><td>CUST037</td><td>8</td><td>2024-11-10</td><td>2024-11-13T21:46:20.777+0000</td></tr><tr><td>CUST038</td><td>10</td><td>2024-11-10</td><td>2024-11-13T21:46:20.777+0000</td></tr><tr><td>CUST039</td><td>10</td><td>2024-11-10</td><td>2024-11-13T21:46:20.777+0000</td></tr><tr><td>CUST040</td><td>7</td><td>2024-11-10</td><td>2024-11-13T21:46:20.777+0000</td></tr><tr><td>CUST041</td><td>16</td><td>2024-11-10</td><td>2024-11-13T21:46:20.777+0000</td></tr><tr><td>CUST042</td><td>11</td><td>2024-11-10</td><td>2024-11-13T21:46:20.777+0000</td></tr><tr><td>CUST043</td><td>16</td><td>2024-11-10</td><td>2024-11-13T21:46:20.777+0000</td></tr><tr><td>CUST044</td><td>12</td><td>2024-11-10</td><td>2024-11-13T21:46:20.777+0000</td></tr><tr><td>CUST045</td><td>18</td><td>2024-11-10</td><td>2024-11-13T21:46:20.777+0000</td></tr><tr><td>CUST046</td><td>9</td><td>2024-11-10</td><td>2024-11-13T21:46:20.777+0000</td></tr><tr><td>CUST047</td><td>10</td><td>2024-11-10</td><td>2024-11-13T21:46:20.777+0000</td></tr><tr><td>CUST048</td><td>4</td><td>2024-11-10</td><td>2024-11-13T21:46:20.777+0000</td></tr><tr><td>CUST049</td><td>19</td><td>2024-11-10</td><td>2024-11-13T21:46:20.777+0000</td></tr><tr><td>CUST050</td><td>18</td><td>2024-11-10</td><td>2024-11-13T21:46:20.777+0000</td></tr></tbody></table></div>"
      ]
     },
     "metadata": {
      "application/vnd.databricks.v1+output": {
       "addedWidgets": {},
       "aggData": [],
       "aggError": "",
       "aggOverflow": false,
       "aggSchema": [],
       "aggSeriesLimitReached": false,
       "aggType": "",
       "arguments": {},
       "columnCustomDisplayInfos": {},
       "data": [
        [
         "CUST021",
         13,
         "2024-11-10",
         "2024-11-13T21:46:20.777+0000"
        ],
        [
         "CUST022",
         11,
         "2024-11-10",
         "2024-11-13T21:46:20.777+0000"
        ],
        [
         "CUST023",
         6,
         "2024-11-10",
         "2024-11-13T21:46:20.777+0000"
        ],
        [
         "CUST024",
         15,
         "2024-11-10",
         "2024-11-13T21:46:20.777+0000"
        ],
        [
         "CUST025",
         18,
         "2024-11-10",
         "2024-11-13T21:46:20.777+0000"
        ],
        [
         "CUST026",
         11,
         "2024-11-10",
         "2024-11-13T21:46:20.777+0000"
        ],
        [
         "CUST027",
         18,
         "2024-11-10",
         "2024-11-13T21:46:20.777+0000"
        ],
        [
         "CUST028",
         12,
         "2024-11-10",
         "2024-11-13T21:46:20.777+0000"
        ],
        [
         "CUST029",
         9,
         "2024-11-10",
         "2024-11-13T21:46:20.777+0000"
        ],
        [
         "CUST030",
         20,
         "2024-11-10",
         "2024-11-13T21:46:20.777+0000"
        ],
        [
         "CUST031",
         16,
         "2024-11-10",
         "2024-11-13T21:46:20.777+0000"
        ],
        [
         "CUST032",
         7,
         "2024-11-10",
         "2024-11-13T21:46:20.777+0000"
        ],
        [
         "CUST033",
         8,
         "2024-11-10",
         "2024-11-13T21:46:20.777+0000"
        ],
        [
         "CUST034",
         9,
         "2024-11-10",
         "2024-11-13T21:46:20.777+0000"
        ],
        [
         "CUST035",
         18,
         "2024-11-10",
         "2024-11-13T21:46:20.777+0000"
        ],
        [
         "CUST036",
         10,
         "2024-11-10",
         "2024-11-13T21:46:20.777+0000"
        ],
        [
         "CUST037",
         8,
         "2024-11-10",
         "2024-11-13T21:46:20.777+0000"
        ],
        [
         "CUST038",
         10,
         "2024-11-10",
         "2024-11-13T21:46:20.777+0000"
        ],
        [
         "CUST039",
         10,
         "2024-11-10",
         "2024-11-13T21:46:20.777+0000"
        ],
        [
         "CUST040",
         7,
         "2024-11-10",
         "2024-11-13T21:46:20.777+0000"
        ],
        [
         "CUST041",
         16,
         "2024-11-10",
         "2024-11-13T21:46:20.777+0000"
        ],
        [
         "CUST042",
         11,
         "2024-11-10",
         "2024-11-13T21:46:20.777+0000"
        ],
        [
         "CUST043",
         16,
         "2024-11-10",
         "2024-11-13T21:46:20.777+0000"
        ],
        [
         "CUST044",
         12,
         "2024-11-10",
         "2024-11-13T21:46:20.777+0000"
        ],
        [
         "CUST045",
         18,
         "2024-11-10",
         "2024-11-13T21:46:20.777+0000"
        ],
        [
         "CUST046",
         9,
         "2024-11-10",
         "2024-11-13T21:46:20.777+0000"
        ],
        [
         "CUST047",
         10,
         "2024-11-10",
         "2024-11-13T21:46:20.777+0000"
        ],
        [
         "CUST048",
         4,
         "2024-11-10",
         "2024-11-13T21:46:20.777+0000"
        ],
        [
         "CUST049",
         19,
         "2024-11-10",
         "2024-11-13T21:46:20.777+0000"
        ],
        [
         "CUST050",
         18,
         "2024-11-10",
         "2024-11-13T21:46:20.777+0000"
        ]
       ],
       "datasetInfos": [],
       "dbfsResultPath": null,
       "isJsonSchema": true,
       "metadata": {},
       "overflow": false,
       "plotOptions": {
        "customPlotOptions": {},
        "displayType": "table",
        "pivotAggregation": null,
        "pivotColumns": null,
        "xColumns": null,
        "yColumns": null
       },
       "removedWidgets": [],
       "schema": [
        {
         "metadata": "{}",
         "name": "customer_id",
         "type": "\"string\""
        },
        {
         "metadata": "{}",
         "name": "visit_count",
         "type": "\"integer\""
        },
        {
         "metadata": "{}",
         "name": "file_date",
         "type": "\"string\""
        },
        {
         "metadata": "{}",
         "name": "ingestion_date",
         "type": "\"timestamp\""
        }
       ],
       "type": "table"
      }
     },
     "output_type": "display_data"
    }
   ],
   "source": [
    "display(visit_frequency_final_df)"
   ]
  },
  {
   "cell_type": "markdown",
   "metadata": {
    "application/vnd.databricks.v1+cell": {
     "cellMetadata": {
      "byteLimit": 2048000,
      "rowLimit": 10000
     },
     "inputWidgets": {},
     "nuid": "103e7215-ca53-4fc2-ab1d-867bd623a110",
     "showTitle": false,
     "tableResultSettingsMap": {},
     "title": ""
    }
   },
   "source": [
    "# Save the table to the silver folder"
   ]
  },
  {
   "cell_type": "code",
   "execution_count": 0,
   "metadata": {
    "application/vnd.databricks.v1+cell": {
     "cellMetadata": {
      "byteLimit": 2048000,
      "rowLimit": 10000
     },
     "inputWidgets": {},
     "nuid": "5f81a048-c3cd-4360-a08b-871837c04122",
     "showTitle": false,
     "tableResultSettingsMap": {},
     "title": ""
    }
   },
   "outputs": [],
   "source": [
    "spark.conf.set(\"spark.databricks.optimizer.dynamicPartitionPruning\", \"true\")\n",
    "\n",
    "from delta.tables import DeltaTable\n",
    "\n",
    "# Check if the table exists in the catalog\n",
    "if spark._jsparkSession.catalog().tableExists(\"clv_silver.visit_frequency\"):\n",
    "    # Load the existing Delta table\n",
    "    deltaTable = DeltaTable.forPath(spark, \"/mnt/clvprojectadls/silver/visit_frequency\")\n",
    "    \n",
    "    # Perform the merge operation\n",
    "    deltaTable.alias(\"tgt\").merge(visit_frequency_final_df.alias(\"src\"), \"tgt.customer_id = src.customer_id\") \\\n",
    "        .whenMatchedUpdateAll() \\\n",
    "        .whenNotMatchedInsertAll() \\\n",
    "        .execute()\n",
    "else:\n",
    "    # Write the DataFrame as a new Delta table with partitioning by customer_id\n",
    "    visit_frequency_final_df.write \\\n",
    "        .mode('overwrite') \\\n",
    "        .partitionBy('customer_id') \\\n",
    "        .format('delta') \\\n",
    "        .saveAsTable(\"clv_silver.visit_frequency\")"
   ]
  },
  {
   "cell_type": "code",
   "execution_count": 0,
   "metadata": {
    "application/vnd.databricks.v1+cell": {
     "cellMetadata": {
      "byteLimit": 2048000,
      "rowLimit": 10000
     },
     "inputWidgets": {},
     "nuid": "56e3b990-f98e-4fcf-b31c-d5c6161ef788",
     "showTitle": false,
     "tableResultSettingsMap": {},
     "title": ""
    }
   },
   "outputs": [],
   "source": []
  },
  {
   "cell_type": "code",
   "execution_count": 0,
   "metadata": {
    "application/vnd.databricks.v1+cell": {
     "cellMetadata": {
      "byteLimit": 2048000,
      "implicitDf": true,
      "rowLimit": 10000
     },
     "inputWidgets": {},
     "nuid": "1660845b-f51c-4767-8736-f4e256c71aaf",
     "showTitle": false,
     "tableResultSettingsMap": {},
     "title": ""
    }
   },
   "outputs": [
    {
     "output_type": "display_data",
     "data": {
      "text/html": [
       "<style scoped>\n",
       "  .table-result-container {\n",
       "    max-height: 300px;\n",
       "    overflow: auto;\n",
       "  }\n",
       "  table, th, td {\n",
       "    border: 1px solid black;\n",
       "    border-collapse: collapse;\n",
       "  }\n",
       "  th, td {\n",
       "    padding: 5px;\n",
       "  }\n",
       "  th {\n",
       "    text-align: left;\n",
       "  }\n",
       "</style><div class='table-result-container'><table class='table-result'><thead style='background-color: white'><tr><th>customer_id</th><th>visit_count</th><th>file_date</th><th>ingestion_date</th></tr></thead><tbody><tr><td>CUST001</td><td>15</td><td>2024-11-01</td><td>2024-11-13T21:45:19.336+0000</td></tr><tr><td>CUST002</td><td>22</td><td>2024-11-01</td><td>2024-11-13T21:45:19.336+0000</td></tr><tr><td>CUST003</td><td>15</td><td>2024-11-05</td><td>2024-11-13T21:45:35.707+0000</td></tr><tr><td>CUST004</td><td>11</td><td>2024-11-05</td><td>2024-11-13T21:45:35.707+0000</td></tr><tr><td>CUST005</td><td>14</td><td>2024-11-05</td><td>2024-11-13T21:45:35.707+0000</td></tr><tr><td>CUST006</td><td>5</td><td>2024-11-05</td><td>2024-11-13T21:45:35.707+0000</td></tr><tr><td>CUST007</td><td>14</td><td>2024-11-05</td><td>2024-11-13T21:45:35.707+0000</td></tr><tr><td>CUST008</td><td>7</td><td>2024-11-05</td><td>2024-11-13T21:45:35.707+0000</td></tr><tr><td>CUST009</td><td>14</td><td>2024-11-05</td><td>2024-11-13T21:45:35.707+0000</td></tr><tr><td>CUST010</td><td>17</td><td>2024-11-05</td><td>2024-11-13T21:45:35.707+0000</td></tr><tr><td>CUST011</td><td>20</td><td>2024-11-05</td><td>2024-11-13T21:45:35.707+0000</td></tr><tr><td>CUST012</td><td>16</td><td>2024-11-05</td><td>2024-11-13T21:45:35.707+0000</td></tr><tr><td>CUST013</td><td>2</td><td>2024-11-05</td><td>2024-11-13T21:45:35.707+0000</td></tr><tr><td>CUST014</td><td>5</td><td>2024-11-05</td><td>2024-11-13T21:45:35.707+0000</td></tr><tr><td>CUST015</td><td>17</td><td>2024-11-05</td><td>2024-11-13T21:45:35.707+0000</td></tr><tr><td>CUST016</td><td>7</td><td>2024-11-05</td><td>2024-11-13T21:45:35.707+0000</td></tr><tr><td>CUST017</td><td>18</td><td>2024-11-05</td><td>2024-11-13T21:45:35.707+0000</td></tr><tr><td>CUST018</td><td>11</td><td>2024-11-05</td><td>2024-11-13T21:45:35.707+0000</td></tr><tr><td>CUST019</td><td>16</td><td>2024-11-05</td><td>2024-11-13T21:45:35.707+0000</td></tr><tr><td>CUST020</td><td>17</td><td>2024-11-05</td><td>2024-11-13T21:45:35.707+0000</td></tr><tr><td>CUST021</td><td>13</td><td>2024-11-10</td><td>2024-11-13T21:46:21.300+0000</td></tr><tr><td>CUST022</td><td>11</td><td>2024-11-10</td><td>2024-11-13T21:46:21.300+0000</td></tr><tr><td>CUST023</td><td>6</td><td>2024-11-10</td><td>2024-11-13T21:46:21.300+0000</td></tr><tr><td>CUST024</td><td>15</td><td>2024-11-10</td><td>2024-11-13T21:46:21.300+0000</td></tr><tr><td>CUST025</td><td>18</td><td>2024-11-10</td><td>2024-11-13T21:46:21.300+0000</td></tr><tr><td>CUST026</td><td>11</td><td>2024-11-10</td><td>2024-11-13T21:46:21.300+0000</td></tr><tr><td>CUST027</td><td>18</td><td>2024-11-10</td><td>2024-11-13T21:46:21.300+0000</td></tr><tr><td>CUST028</td><td>12</td><td>2024-11-10</td><td>2024-11-13T21:46:21.300+0000</td></tr><tr><td>CUST029</td><td>9</td><td>2024-11-10</td><td>2024-11-13T21:46:21.300+0000</td></tr><tr><td>CUST030</td><td>20</td><td>2024-11-10</td><td>2024-11-13T21:46:21.300+0000</td></tr><tr><td>CUST031</td><td>16</td><td>2024-11-10</td><td>2024-11-13T21:46:21.300+0000</td></tr><tr><td>CUST032</td><td>7</td><td>2024-11-10</td><td>2024-11-13T21:46:21.300+0000</td></tr><tr><td>CUST033</td><td>8</td><td>2024-11-10</td><td>2024-11-13T21:46:21.300+0000</td></tr><tr><td>CUST034</td><td>9</td><td>2024-11-10</td><td>2024-11-13T21:46:21.300+0000</td></tr><tr><td>CUST035</td><td>18</td><td>2024-11-10</td><td>2024-11-13T21:46:21.300+0000</td></tr><tr><td>CUST036</td><td>10</td><td>2024-11-10</td><td>2024-11-13T21:46:21.300+0000</td></tr><tr><td>CUST037</td><td>8</td><td>2024-11-10</td><td>2024-11-13T21:46:21.300+0000</td></tr><tr><td>CUST038</td><td>10</td><td>2024-11-10</td><td>2024-11-13T21:46:21.300+0000</td></tr><tr><td>CUST039</td><td>10</td><td>2024-11-10</td><td>2024-11-13T21:46:21.300+0000</td></tr><tr><td>CUST040</td><td>7</td><td>2024-11-10</td><td>2024-11-13T21:46:21.300+0000</td></tr><tr><td>CUST041</td><td>16</td><td>2024-11-10</td><td>2024-11-13T21:46:21.300+0000</td></tr><tr><td>CUST042</td><td>11</td><td>2024-11-10</td><td>2024-11-13T21:46:21.300+0000</td></tr><tr><td>CUST043</td><td>16</td><td>2024-11-10</td><td>2024-11-13T21:46:21.300+0000</td></tr><tr><td>CUST044</td><td>12</td><td>2024-11-10</td><td>2024-11-13T21:46:21.300+0000</td></tr><tr><td>CUST045</td><td>18</td><td>2024-11-10</td><td>2024-11-13T21:46:21.300+0000</td></tr><tr><td>CUST046</td><td>9</td><td>2024-11-10</td><td>2024-11-13T21:46:21.300+0000</td></tr><tr><td>CUST047</td><td>10</td><td>2024-11-10</td><td>2024-11-13T21:46:21.300+0000</td></tr><tr><td>CUST048</td><td>4</td><td>2024-11-10</td><td>2024-11-13T21:46:21.300+0000</td></tr><tr><td>CUST049</td><td>19</td><td>2024-11-10</td><td>2024-11-13T21:46:21.300+0000</td></tr><tr><td>CUST050</td><td>18</td><td>2024-11-10</td><td>2024-11-13T21:46:21.300+0000</td></tr></tbody></table></div>"
      ]
     },
     "metadata": {
      "application/vnd.databricks.v1+output": {
       "addedWidgets": {},
       "aggData": [],
       "aggError": "",
       "aggOverflow": false,
       "aggSchema": [],
       "aggSeriesLimitReached": false,
       "aggType": "",
       "arguments": {},
       "columnCustomDisplayInfos": {},
       "data": [
        [
         "CUST001",
         15,
         "2024-11-01",
         "2024-11-13T21:45:19.336+0000"
        ],
        [
         "CUST002",
         22,
         "2024-11-01",
         "2024-11-13T21:45:19.336+0000"
        ],
        [
         "CUST003",
         15,
         "2024-11-05",
         "2024-11-13T21:45:35.707+0000"
        ],
        [
         "CUST004",
         11,
         "2024-11-05",
         "2024-11-13T21:45:35.707+0000"
        ],
        [
         "CUST005",
         14,
         "2024-11-05",
         "2024-11-13T21:45:35.707+0000"
        ],
        [
         "CUST006",
         5,
         "2024-11-05",
         "2024-11-13T21:45:35.707+0000"
        ],
        [
         "CUST007",
         14,
         "2024-11-05",
         "2024-11-13T21:45:35.707+0000"
        ],
        [
         "CUST008",
         7,
         "2024-11-05",
         "2024-11-13T21:45:35.707+0000"
        ],
        [
         "CUST009",
         14,
         "2024-11-05",
         "2024-11-13T21:45:35.707+0000"
        ],
        [
         "CUST010",
         17,
         "2024-11-05",
         "2024-11-13T21:45:35.707+0000"
        ],
        [
         "CUST011",
         20,
         "2024-11-05",
         "2024-11-13T21:45:35.707+0000"
        ],
        [
         "CUST012",
         16,
         "2024-11-05",
         "2024-11-13T21:45:35.707+0000"
        ],
        [
         "CUST013",
         2,
         "2024-11-05",
         "2024-11-13T21:45:35.707+0000"
        ],
        [
         "CUST014",
         5,
         "2024-11-05",
         "2024-11-13T21:45:35.707+0000"
        ],
        [
         "CUST015",
         17,
         "2024-11-05",
         "2024-11-13T21:45:35.707+0000"
        ],
        [
         "CUST016",
         7,
         "2024-11-05",
         "2024-11-13T21:45:35.707+0000"
        ],
        [
         "CUST017",
         18,
         "2024-11-05",
         "2024-11-13T21:45:35.707+0000"
        ],
        [
         "CUST018",
         11,
         "2024-11-05",
         "2024-11-13T21:45:35.707+0000"
        ],
        [
         "CUST019",
         16,
         "2024-11-05",
         "2024-11-13T21:45:35.707+0000"
        ],
        [
         "CUST020",
         17,
         "2024-11-05",
         "2024-11-13T21:45:35.707+0000"
        ],
        [
         "CUST021",
         13,
         "2024-11-10",
         "2024-11-13T21:46:21.300+0000"
        ],
        [
         "CUST022",
         11,
         "2024-11-10",
         "2024-11-13T21:46:21.300+0000"
        ],
        [
         "CUST023",
         6,
         "2024-11-10",
         "2024-11-13T21:46:21.300+0000"
        ],
        [
         "CUST024",
         15,
         "2024-11-10",
         "2024-11-13T21:46:21.300+0000"
        ],
        [
         "CUST025",
         18,
         "2024-11-10",
         "2024-11-13T21:46:21.300+0000"
        ],
        [
         "CUST026",
         11,
         "2024-11-10",
         "2024-11-13T21:46:21.300+0000"
        ],
        [
         "CUST027",
         18,
         "2024-11-10",
         "2024-11-13T21:46:21.300+0000"
        ],
        [
         "CUST028",
         12,
         "2024-11-10",
         "2024-11-13T21:46:21.300+0000"
        ],
        [
         "CUST029",
         9,
         "2024-11-10",
         "2024-11-13T21:46:21.300+0000"
        ],
        [
         "CUST030",
         20,
         "2024-11-10",
         "2024-11-13T21:46:21.300+0000"
        ],
        [
         "CUST031",
         16,
         "2024-11-10",
         "2024-11-13T21:46:21.300+0000"
        ],
        [
         "CUST032",
         7,
         "2024-11-10",
         "2024-11-13T21:46:21.300+0000"
        ],
        [
         "CUST033",
         8,
         "2024-11-10",
         "2024-11-13T21:46:21.300+0000"
        ],
        [
         "CUST034",
         9,
         "2024-11-10",
         "2024-11-13T21:46:21.300+0000"
        ],
        [
         "CUST035",
         18,
         "2024-11-10",
         "2024-11-13T21:46:21.300+0000"
        ],
        [
         "CUST036",
         10,
         "2024-11-10",
         "2024-11-13T21:46:21.300+0000"
        ],
        [
         "CUST037",
         8,
         "2024-11-10",
         "2024-11-13T21:46:21.300+0000"
        ],
        [
         "CUST038",
         10,
         "2024-11-10",
         "2024-11-13T21:46:21.300+0000"
        ],
        [
         "CUST039",
         10,
         "2024-11-10",
         "2024-11-13T21:46:21.300+0000"
        ],
        [
         "CUST040",
         7,
         "2024-11-10",
         "2024-11-13T21:46:21.300+0000"
        ],
        [
         "CUST041",
         16,
         "2024-11-10",
         "2024-11-13T21:46:21.300+0000"
        ],
        [
         "CUST042",
         11,
         "2024-11-10",
         "2024-11-13T21:46:21.300+0000"
        ],
        [
         "CUST043",
         16,
         "2024-11-10",
         "2024-11-13T21:46:21.300+0000"
        ],
        [
         "CUST044",
         12,
         "2024-11-10",
         "2024-11-13T21:46:21.300+0000"
        ],
        [
         "CUST045",
         18,
         "2024-11-10",
         "2024-11-13T21:46:21.300+0000"
        ],
        [
         "CUST046",
         9,
         "2024-11-10",
         "2024-11-13T21:46:21.300+0000"
        ],
        [
         "CUST047",
         10,
         "2024-11-10",
         "2024-11-13T21:46:21.300+0000"
        ],
        [
         "CUST048",
         4,
         "2024-11-10",
         "2024-11-13T21:46:21.300+0000"
        ],
        [
         "CUST049",
         19,
         "2024-11-10",
         "2024-11-13T21:46:21.300+0000"
        ],
        [
         "CUST050",
         18,
         "2024-11-10",
         "2024-11-13T21:46:21.300+0000"
        ]
       ],
       "datasetInfos": [],
       "dbfsResultPath": null,
       "isJsonSchema": true,
       "metadata": {},
       "overflow": false,
       "plotOptions": {
        "customPlotOptions": {},
        "displayType": "table",
        "pivotAggregation": null,
        "pivotColumns": null,
        "xColumns": null,
        "yColumns": null
       },
       "removedWidgets": [],
       "schema": [
        {
         "metadata": "{}",
         "name": "customer_id",
         "type": "\"string\""
        },
        {
         "metadata": "{}",
         "name": "visit_count",
         "type": "\"integer\""
        },
        {
         "metadata": "{}",
         "name": "file_date",
         "type": "\"string\""
        },
        {
         "metadata": "{}",
         "name": "ingestion_date",
         "type": "\"timestamp\""
        }
       ],
       "type": "table"
      }
     },
     "output_type": "display_data"
    }
   ],
   "source": [
    "%sql\n",
    "SELECT *\n",
    "FROM clv_silver.visit_frequency\n",
    "ORDER BY customer_id"
   ]
  }
 ],
 "metadata": {
  "application/vnd.databricks.v1+notebook": {
   "dashboards": [],
   "environmentMetadata": {
    "base_environment": "",
    "client": "1"
   },
   "language": "python",
   "notebookMetadata": {
    "mostRecentlyExecutedCommandWithImplicitDF": {
     "commandId": 1616572586022633,
     "dataframes": [
      "_sqldf"
     ]
    },
    "pythonIndentUnit": 2
   },
   "notebookName": "4. ingest_visit_frequency",
   "widgets": {
    "p_file_date": {
     "currentValue": "2024-11-10",
     "nuid": "861ee6be-0471-47e5-a499-3b45a5248965",
     "typedWidgetInfo": {
      "autoCreated": false,
      "defaultValue": "2024-11-01",
      "label": null,
      "name": "p_file_date",
      "options": {
       "widgetDisplayType": "Text",
       "validationRegex": null
      },
      "parameterDataType": "String"
     },
     "widgetInfo": {
      "widgetType": "text",
      "defaultValue": "2024-11-01",
      "label": null,
      "name": "p_file_date",
      "options": {
       "widgetType": "text",
       "autoCreated": null,
       "validationRegex": null
      }
     }
    }
   }
  },
  "language_info": {
   "name": "python"
  }
 },
 "nbformat": 4,
 "nbformat_minor": 0
}