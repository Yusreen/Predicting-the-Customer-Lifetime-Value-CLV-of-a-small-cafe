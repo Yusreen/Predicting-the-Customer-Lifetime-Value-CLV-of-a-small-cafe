{
 "cells": [
  {
   "cell_type": "code",
   "execution_count": 0,
   "metadata": {
    "application/vnd.databricks.v1+cell": {
     "cellMetadata": {
      "byteLimit": 2048000,
      "implicitDf": true,
      "rowLimit": 10000
     },
     "inputWidgets": {},
     "nuid": "c19f1957-96e4-4d32-b4d7-c3e6f3c178f5",
     "showTitle": false,
     "tableResultSettingsMap": {},
     "title": ""
    }
   },
   "outputs": [],
   "source": [
    "dbutils.widgets.text(\"p_file_date\", \"2024-11-01\")\n",
    "v_file_date = dbutils.widgets.get(\"p_file_date\")"
   ]
  },
  {
   "cell_type": "markdown",
   "metadata": {
    "application/vnd.databricks.v1+cell": {
     "cellMetadata": {
      "byteLimit": 2048000,
      "rowLimit": 10000
     },
     "inputWidgets": {},
     "nuid": "480f0b55-7a0c-4a6a-8b7a-3ee5347ef033",
     "showTitle": false,
     "tableResultSettingsMap": {},
     "title": ""
    }
   },
   "source": [
    "Calculating average spending per customer"
   ]
  },
  {
   "cell_type": "code",
   "execution_count": 0,
   "metadata": {
    "application/vnd.databricks.v1+cell": {
     "cellMetadata": {
      "byteLimit": 2048000,
      "rowLimit": 10000
     },
     "inputWidgets": {},
     "nuid": "ecf86545-d257-4a8a-9dbd-5047e44d62c2",
     "showTitle": false,
     "tableResultSettingsMap": {},
     "title": ""
    }
   },
   "outputs": [
    {
     "output_type": "stream",
     "name": "stdout",
     "output_type": "stream",
     "text": [
      "Out[73]: DataFrame[]"
     ]
    }
   ],
   "source": [
    "spark.sql(\"\"\"\n",
    "    CREATE TABLE IF NOT EXISTS clv_gold.average_customer_spending (\n",
    "        customer_id STRING,\n",
    "        avg_spend_per_visit DECIMAL(10, 2),\n",
    "        created_date TIMESTAMP,\n",
    "        updated_date TIMESTAMP\n",
    "    )\n",
    "    USING DELTA\n",
    "\"\"\")\n"
   ]
  },
  {
   "cell_type": "code",
   "execution_count": 0,
   "metadata": {
    "application/vnd.databricks.v1+cell": {
     "cellMetadata": {
      "byteLimit": 2048000,
      "rowLimit": 10000
     },
     "inputWidgets": {},
     "nuid": "bec0c7ab-56b5-447e-9753-2a49c4950c77",
     "showTitle": false,
     "tableResultSettingsMap": {},
     "title": ""
    }
   },
   "outputs": [
    {
     "output_type": "stream",
     "name": "stdout",
     "output_type": "stream",
     "text": [
      "Out[84]: DataFrame[]"
     ]
    }
   ],
   "source": [
    "spark.sql(f\"\"\"\n",
    "    CREATE OR REPLACE TEMP VIEW average_customer_spending_updated\n",
    "    AS \n",
    "    SELECT \n",
    "        customer_id,\n",
    "        ROUND(AVG(transaction_amount), 2) AS avg_spend_per_visit\n",
    "    FROM \n",
    "        clv_silver.transaction_data\n",
    "    WHERE \n",
    "        file_date = '{v_file_date}'\n",
    "    GROUP BY        \n",
    "        customer_id\n",
    "\"\"\")"
   ]
  },
  {
   "cell_type": "code",
   "execution_count": 0,
   "metadata": {
    "application/vnd.databricks.v1+cell": {
     "cellMetadata": {
      "byteLimit": 2048000,
      "implicitDf": true,
      "rowLimit": 10000
     },
     "inputWidgets": {},
     "nuid": "c97ad01d-b204-4c9f-bfad-6a9542352f78",
     "showTitle": false,
     "tableResultSettingsMap": {},
     "title": ""
    }
   },
   "outputs": [
    {
     "output_type": "display_data",
     "data": {
      "text/html": [
       "<style scoped>\n",
       "  .table-result-container {\n",
       "    max-height: 300px;\n",
       "    overflow: auto;\n",
       "  }\n",
       "  table, th, td {\n",
       "    border: 1px solid black;\n",
       "    border-collapse: collapse;\n",
       "  }\n",
       "  th, td {\n",
       "    padding: 5px;\n",
       "  }\n",
       "  th {\n",
       "    text-align: left;\n",
       "  }\n",
       "</style><div class='table-result-container'><table class='table-result'><thead style='background-color: white'><tr><th>customer_id</th><th>avg_spend_per_visit</th></tr></thead><tbody><tr><td>1</td><td>20.5</td></tr><tr><td>2</td><td>30.75</td></tr></tbody></table></div>"
      ]
     },
     "metadata": {
      "application/vnd.databricks.v1+output": {
       "addedWidgets": {},
       "aggData": [],
       "aggError": "",
       "aggOverflow": false,
       "aggSchema": [],
       "aggSeriesLimitReached": false,
       "aggType": "",
       "arguments": {},
       "columnCustomDisplayInfos": {},
       "data": [
        [
         "1",
         20.5
        ],
        [
         "2",
         30.75
        ]
       ],
       "datasetInfos": [],
       "dbfsResultPath": null,
       "isJsonSchema": true,
       "metadata": {},
       "overflow": false,
       "plotOptions": {
        "customPlotOptions": {},
        "displayType": "table",
        "pivotAggregation": null,
        "pivotColumns": null,
        "xColumns": null,
        "yColumns": null
       },
       "removedWidgets": [],
       "schema": [
        {
         "metadata": "{}",
         "name": "customer_id",
         "type": "\"string\""
        },
        {
         "metadata": "{}",
         "name": "avg_spend_per_visit",
         "type": "\"double\""
        }
       ],
       "type": "table"
      }
     },
     "output_type": "display_data"
    }
   ],
   "source": [
    "%sql\n",
    "SELECT *\n",
    "FROM average_customer_spending_updates"
   ]
  },
  {
   "cell_type": "code",
   "execution_count": 0,
   "metadata": {
    "application/vnd.databricks.v1+cell": {
     "cellMetadata": {
      "byteLimit": 2048000,
      "implicitDf": true,
      "rowLimit": 10000
     },
     "inputWidgets": {},
     "nuid": "30d36c1b-bf04-410a-bc1e-6e396607c24a",
     "showTitle": false,
     "tableResultSettingsMap": {},
     "title": ""
    }
   },
   "outputs": [
    {
     "output_type": "display_data",
     "data": {
      "text/html": [
       "<style scoped>\n",
       "  .table-result-container {\n",
       "    max-height: 300px;\n",
       "    overflow: auto;\n",
       "  }\n",
       "  table, th, td {\n",
       "    border: 1px solid black;\n",
       "    border-collapse: collapse;\n",
       "  }\n",
       "  th, td {\n",
       "    padding: 5px;\n",
       "  }\n",
       "  th {\n",
       "    text-align: left;\n",
       "  }\n",
       "</style><div class='table-result-container'><table class='table-result'><thead style='background-color: white'><tr><th>num_affected_rows</th><th>num_inserted_rows</th></tr></thead><tbody></tbody></table></div>"
      ]
     },
     "metadata": {
      "application/vnd.databricks.v1+output": {
       "addedWidgets": {},
       "aggData": [],
       "aggError": "",
       "aggOverflow": false,
       "aggSchema": [],
       "aggSeriesLimitReached": false,
       "aggType": "",
       "arguments": {},
       "columnCustomDisplayInfos": {},
       "data": [],
       "datasetInfos": [],
       "dbfsResultPath": null,
       "isJsonSchema": true,
       "metadata": {},
       "overflow": false,
       "plotOptions": {
        "customPlotOptions": {},
        "displayType": "table",
        "pivotAggregation": null,
        "pivotColumns": null,
        "xColumns": null,
        "yColumns": null
       },
       "removedWidgets": [],
       "schema": [
        {
         "metadata": "{}",
         "name": "num_affected_rows",
         "type": "\"long\""
        },
        {
         "metadata": "{}",
         "name": "num_inserted_rows",
         "type": "\"long\""
        }
       ],
       "type": "table"
      }
     },
     "output_type": "display_data"
    }
   ],
   "source": [
    "%sql\n",
    "CREATE TABLE IF NOT EXISTS clv_gold.average_customer_spending\n",
    "USING DELTA\n",
    "AS \n",
    "SELECT \n",
    "    customer_id,\n",
    "    ROUND (AVG(transaction_amount),2) AS Avg_Spend_Per_Visit\n",
    "FROM \n",
    "    clv_silver.transaction_data\n",
    "GROUP BY        \n",
    "    customer_id"
   ]
  },
  {
   "cell_type": "code",
   "execution_count": 0,
   "metadata": {
    "application/vnd.databricks.v1+cell": {
     "cellMetadata": {
      "byteLimit": 2048000,
      "implicitDf": true,
      "rowLimit": 10000
     },
     "inputWidgets": {},
     "nuid": "eac68475-8b69-4640-9f0e-e232af9b1273",
     "showTitle": false,
     "tableResultSettingsMap": {},
     "title": ""
    }
   },
   "outputs": [
    {
     "output_type": "display_data",
     "data": {
      "text/html": [
       "<style scoped>\n",
       "  .table-result-container {\n",
       "    max-height: 300px;\n",
       "    overflow: auto;\n",
       "  }\n",
       "  table, th, td {\n",
       "    border: 1px solid black;\n",
       "    border-collapse: collapse;\n",
       "  }\n",
       "  th, td {\n",
       "    padding: 5px;\n",
       "  }\n",
       "  th {\n",
       "    text-align: left;\n",
       "  }\n",
       "</style><div class='table-result-container'><table class='table-result'><thead style='background-color: white'><tr><th>num_affected_rows</th><th>num_updated_rows</th><th>num_deleted_rows</th><th>num_inserted_rows</th></tr></thead><tbody><tr><td>30</td><td>30</td><td>0</td><td>0</td></tr></tbody></table></div>"
      ]
     },
     "metadata": {
      "application/vnd.databricks.v1+output": {
       "addedWidgets": {},
       "aggData": [],
       "aggError": "",
       "aggOverflow": false,
       "aggSchema": [],
       "aggSeriesLimitReached": false,
       "aggType": "",
       "arguments": {},
       "columnCustomDisplayInfos": {},
       "data": [
        [
         30,
         30,
         0,
         0
        ]
       ],
       "datasetInfos": [],
       "dbfsResultPath": null,
       "isJsonSchema": true,
       "metadata": {},
       "overflow": false,
       "plotOptions": {
        "customPlotOptions": {},
        "displayType": "table",
        "pivotAggregation": null,
        "pivotColumns": null,
        "xColumns": null,
        "yColumns": null
       },
       "removedWidgets": [],
       "schema": [
        {
         "metadata": "{}",
         "name": "num_affected_rows",
         "type": "\"long\""
        },
        {
         "metadata": "{}",
         "name": "num_updated_rows",
         "type": "\"long\""
        },
        {
         "metadata": "{}",
         "name": "num_deleted_rows",
         "type": "\"long\""
        },
        {
         "metadata": "{}",
         "name": "num_inserted_rows",
         "type": "\"long\""
        }
       ],
       "type": "table"
      }
     },
     "output_type": "display_data"
    }
   ],
   "source": [
    "%sql\n",
    "MERGE INTO clv_gold.average_customer_spending AS target\n",
    "USING average_customer_spending_updated AS source\n",
    "ON target.customer_id = source.customer_id\n",
    "WHEN MATCHED THEN\n",
    "    UPDATE SET\n",
    "        target.avg_spend_per_visit = source.avg_spend_per_visit,\n",
    "        target.updated_date = current_timestamp\n",
    "WHEN NOT MATCHED THEN\n",
    "    INSERT (customer_id, avg_spend_per_visit,created_date)\n",
    "    VALUES (source.customer_id, source.avg_spend_per_visit,current_timestamp)\n"
   ]
  },
  {
   "cell_type": "code",
   "execution_count": 0,
   "metadata": {
    "application/vnd.databricks.v1+cell": {
     "cellMetadata": {
      "byteLimit": 2048000,
      "implicitDf": true,
      "rowLimit": 10000
     },
     "inputWidgets": {},
     "nuid": "051aa024-37b6-4231-bf8f-36a7c16d7c58",
     "showTitle": false,
     "tableResultSettingsMap": {},
     "title": ""
    }
   },
   "outputs": [
    {
     "output_type": "display_data",
     "data": {
      "text/html": [
       "<style scoped>\n",
       "  .table-result-container {\n",
       "    max-height: 300px;\n",
       "    overflow: auto;\n",
       "  }\n",
       "  table, th, td {\n",
       "    border: 1px solid black;\n",
       "    border-collapse: collapse;\n",
       "  }\n",
       "  th, td {\n",
       "    padding: 5px;\n",
       "  }\n",
       "  th {\n",
       "    text-align: left;\n",
       "  }\n",
       "</style><div class='table-result-container'><table class='table-result'><thead style='background-color: white'><tr><th>customer_id</th><th>avg_spend_per_visit</th><th>created_date</th><th>updated_date</th></tr></thead><tbody><tr><td>CUST041</td><td>17.29</td><td>2024-11-13T21:57:54.781+0000</td><td>2024-11-13T22:01:33.704+0000</td></tr><tr><td>CUST021</td><td>17.47</td><td>2024-11-13T21:57:54.781+0000</td><td>2024-11-13T22:01:33.704+0000</td></tr><tr><td>CUST029</td><td>16.82</td><td>2024-11-13T21:57:54.781+0000</td><td>2024-11-13T22:01:33.704+0000</td></tr><tr><td>CUST024</td><td>16.72</td><td>2024-11-13T21:57:54.781+0000</td><td>2024-11-13T22:01:33.704+0000</td></tr><tr><td>CUST040</td><td>17.40</td><td>2024-11-13T21:57:54.781+0000</td><td>2024-11-13T22:01:33.704+0000</td></tr><tr><td>CUST026</td><td>19.71</td><td>2024-11-13T21:57:54.781+0000</td><td>2024-11-13T22:01:33.704+0000</td></tr><tr><td>CUST033</td><td>18.37</td><td>2024-11-13T21:57:54.781+0000</td><td>2024-11-13T22:01:33.704+0000</td></tr><tr><td>CUST050</td><td>19.53</td><td>2024-11-13T21:57:54.781+0000</td><td>2024-11-13T22:01:33.704+0000</td></tr><tr><td>CUST030</td><td>15.18</td><td>2024-11-13T21:57:54.781+0000</td><td>2024-11-13T22:01:33.704+0000</td></tr><tr><td>CUST037</td><td>16.33</td><td>2024-11-13T21:57:54.781+0000</td><td>2024-11-13T22:01:33.704+0000</td></tr><tr><td>CUST046</td><td>17.00</td><td>2024-11-13T21:57:54.781+0000</td><td>2024-11-13T22:01:33.704+0000</td></tr><tr><td>CUST042</td><td>22.55</td><td>2024-11-13T21:57:54.781+0000</td><td>2024-11-13T22:01:33.704+0000</td></tr><tr><td>CUST047</td><td>14.85</td><td>2024-11-13T21:57:54.781+0000</td><td>2024-11-13T22:01:33.704+0000</td></tr><tr><td>CUST032</td><td>18.81</td><td>2024-11-13T21:57:54.781+0000</td><td>2024-11-13T22:01:33.704+0000</td></tr><tr><td>CUST044</td><td>14.30</td><td>2024-11-13T21:57:54.781+0000</td><td>2024-11-13T22:01:33.704+0000</td></tr><tr><td>CUST036</td><td>14.47</td><td>2024-11-13T21:57:54.781+0000</td><td>2024-11-13T22:01:33.704+0000</td></tr><tr><td>CUST022</td><td>20.45</td><td>2024-11-13T21:57:54.781+0000</td><td>2024-11-13T22:01:33.704+0000</td></tr><tr><td>CUST035</td><td>15.36</td><td>2024-11-13T21:57:54.781+0000</td><td>2024-11-13T22:01:33.704+0000</td></tr><tr><td>CUST049</td><td>21.23</td><td>2024-11-13T21:57:54.781+0000</td><td>2024-11-13T22:01:33.704+0000</td></tr><tr><td>CUST031</td><td>19.88</td><td>2024-11-13T21:57:54.781+0000</td><td>2024-11-13T22:01:33.704+0000</td></tr><tr><td>CUST023</td><td>16.32</td><td>2024-11-13T21:57:54.781+0000</td><td>2024-11-13T22:01:33.704+0000</td></tr><tr><td>CUST039</td><td>22.08</td><td>2024-11-13T21:57:54.781+0000</td><td>2024-11-13T22:01:33.704+0000</td></tr><tr><td>CUST034</td><td>16.46</td><td>2024-11-13T21:57:54.781+0000</td><td>2024-11-13T22:01:33.704+0000</td></tr><tr><td>CUST038</td><td>21.36</td><td>2024-11-13T21:57:54.781+0000</td><td>2024-11-13T22:01:33.704+0000</td></tr><tr><td>CUST028</td><td>14.13</td><td>2024-11-13T21:57:54.781+0000</td><td>2024-11-13T22:01:33.704+0000</td></tr><tr><td>CUST045</td><td>18.12</td><td>2024-11-13T21:57:54.781+0000</td><td>2024-11-13T22:01:33.704+0000</td></tr><tr><td>CUST048</td><td>19.09</td><td>2024-11-13T21:57:54.781+0000</td><td>2024-11-13T22:01:33.704+0000</td></tr><tr><td>CUST043</td><td>12.07</td><td>2024-11-13T21:57:54.781+0000</td><td>2024-11-13T22:01:33.704+0000</td></tr><tr><td>CUST025</td><td>18.69</td><td>2024-11-13T21:57:54.781+0000</td><td>2024-11-13T22:01:33.704+0000</td></tr><tr><td>CUST027</td><td>19.36</td><td>2024-11-13T21:57:54.781+0000</td><td>2024-11-13T22:01:33.704+0000</td></tr><tr><td>CUST019</td><td>12.83</td><td>2024-11-13T21:56:02.367+0000</td><td>2024-11-13T21:57:06.419+0000</td></tr><tr><td>CUST009</td><td>20.51</td><td>2024-11-13T21:56:02.367+0000</td><td>2024-11-13T21:57:06.419+0000</td></tr><tr><td>CUST020</td><td>15.28</td><td>2024-11-13T21:56:02.367+0000</td><td>2024-11-13T21:57:06.419+0000</td></tr><tr><td>CUST005</td><td>15.37</td><td>2024-11-13T21:56:02.367+0000</td><td>2024-11-13T21:57:06.419+0000</td></tr><tr><td>CUST003</td><td>18.39</td><td>2024-11-13T21:56:02.367+0000</td><td>2024-11-13T21:57:06.419+0000</td></tr><tr><td>CUST004</td><td>19.75</td><td>2024-11-13T21:56:02.367+0000</td><td>2024-11-13T21:57:06.419+0000</td></tr><tr><td>CUST011</td><td>19.82</td><td>2024-11-13T21:56:02.367+0000</td><td>2024-11-13T21:57:06.419+0000</td></tr><tr><td>CUST013</td><td>18.48</td><td>2024-11-13T21:56:02.367+0000</td><td>2024-11-13T21:57:06.419+0000</td></tr><tr><td>CUST008</td><td>19.03</td><td>2024-11-13T21:56:02.367+0000</td><td>2024-11-13T21:57:06.419+0000</td></tr><tr><td>CUST016</td><td>18.67</td><td>2024-11-13T21:56:02.367+0000</td><td>2024-11-13T21:57:06.419+0000</td></tr><tr><td>CUST010</td><td>17.55</td><td>2024-11-13T21:56:02.367+0000</td><td>2024-11-13T21:57:06.419+0000</td></tr><tr><td>CUST006</td><td>16.59</td><td>2024-11-13T21:56:02.367+0000</td><td>2024-11-13T21:57:06.419+0000</td></tr><tr><td>CUST017</td><td>17.67</td><td>2024-11-13T21:56:02.367+0000</td><td>2024-11-13T21:57:06.419+0000</td></tr><tr><td>CUST012</td><td>18.75</td><td>2024-11-13T21:56:02.367+0000</td><td>2024-11-13T21:57:06.419+0000</td></tr><tr><td>CUST018</td><td>18.95</td><td>2024-11-13T21:56:02.367+0000</td><td>2024-11-13T21:57:06.419+0000</td></tr><tr><td>CUST007</td><td>20.59</td><td>2024-11-13T21:56:02.367+0000</td><td>2024-11-13T21:57:06.419+0000</td></tr><tr><td>CUST014</td><td>16.84</td><td>2024-11-13T21:56:02.367+0000</td><td>2024-11-13T21:57:06.419+0000</td></tr><tr><td>CUST015</td><td>20.46</td><td>2024-11-13T21:56:02.367+0000</td><td>2024-11-13T21:57:06.419+0000</td></tr><tr><td>CUST001</td><td>20.50</td><td>null</td><td>2024-11-13T21:55:37.291+0000</td></tr><tr><td>CUST002</td><td>30.75</td><td>null</td><td>2024-11-13T21:55:37.291+0000</td></tr></tbody></table></div>"
      ]
     },
     "metadata": {
      "application/vnd.databricks.v1+output": {
       "addedWidgets": {},
       "aggData": [],
       "aggError": "",
       "aggOverflow": false,
       "aggSchema": [],
       "aggSeriesLimitReached": false,
       "aggType": "",
       "arguments": {},
       "columnCustomDisplayInfos": {},
       "data": [
        [
         "CUST041",
         "17.29",
         "2024-11-13T21:57:54.781+0000",
         "2024-11-13T22:01:33.704+0000"
        ],
        [
         "CUST021",
         "17.47",
         "2024-11-13T21:57:54.781+0000",
         "2024-11-13T22:01:33.704+0000"
        ],
        [
         "CUST029",
         "16.82",
         "2024-11-13T21:57:54.781+0000",
         "2024-11-13T22:01:33.704+0000"
        ],
        [
         "CUST024",
         "16.72",
         "2024-11-13T21:57:54.781+0000",
         "2024-11-13T22:01:33.704+0000"
        ],
        [
         "CUST040",
         "17.40",
         "2024-11-13T21:57:54.781+0000",
         "2024-11-13T22:01:33.704+0000"
        ],
        [
         "CUST026",
         "19.71",
         "2024-11-13T21:57:54.781+0000",
         "2024-11-13T22:01:33.704+0000"
        ],
        [
         "CUST033",
         "18.37",
         "2024-11-13T21:57:54.781+0000",
         "2024-11-13T22:01:33.704+0000"
        ],
        [
         "CUST050",
         "19.53",
         "2024-11-13T21:57:54.781+0000",
         "2024-11-13T22:01:33.704+0000"
        ],
        [
         "CUST030",
         "15.18",
         "2024-11-13T21:57:54.781+0000",
         "2024-11-13T22:01:33.704+0000"
        ],
        [
         "CUST037",
         "16.33",
         "2024-11-13T21:57:54.781+0000",
         "2024-11-13T22:01:33.704+0000"
        ],
        [
         "CUST046",
         "17.00",
         "2024-11-13T21:57:54.781+0000",
         "2024-11-13T22:01:33.704+0000"
        ],
        [
         "CUST042",
         "22.55",
         "2024-11-13T21:57:54.781+0000",
         "2024-11-13T22:01:33.704+0000"
        ],
        [
         "CUST047",
         "14.85",
         "2024-11-13T21:57:54.781+0000",
         "2024-11-13T22:01:33.704+0000"
        ],
        [
         "CUST032",
         "18.81",
         "2024-11-13T21:57:54.781+0000",
         "2024-11-13T22:01:33.704+0000"
        ],
        [
         "CUST044",
         "14.30",
         "2024-11-13T21:57:54.781+0000",
         "2024-11-13T22:01:33.704+0000"
        ],
        [
         "CUST036",
         "14.47",
         "2024-11-13T21:57:54.781+0000",
         "2024-11-13T22:01:33.704+0000"
        ],
        [
         "CUST022",
         "20.45",
         "2024-11-13T21:57:54.781+0000",
         "2024-11-13T22:01:33.704+0000"
        ],
        [
         "CUST035",
         "15.36",
         "2024-11-13T21:57:54.781+0000",
         "2024-11-13T22:01:33.704+0000"
        ],
        [
         "CUST049",
         "21.23",
         "2024-11-13T21:57:54.781+0000",
         "2024-11-13T22:01:33.704+0000"
        ],
        [
         "CUST031",
         "19.88",
         "2024-11-13T21:57:54.781+0000",
         "2024-11-13T22:01:33.704+0000"
        ],
        [
         "CUST023",
         "16.32",
         "2024-11-13T21:57:54.781+0000",
         "2024-11-13T22:01:33.704+0000"
        ],
        [
         "CUST039",
         "22.08",
         "2024-11-13T21:57:54.781+0000",
         "2024-11-13T22:01:33.704+0000"
        ],
        [
         "CUST034",
         "16.46",
         "2024-11-13T21:57:54.781+0000",
         "2024-11-13T22:01:33.704+0000"
        ],
        [
         "CUST038",
         "21.36",
         "2024-11-13T21:57:54.781+0000",
         "2024-11-13T22:01:33.704+0000"
        ],
        [
         "CUST028",
         "14.13",
         "2024-11-13T21:57:54.781+0000",
         "2024-11-13T22:01:33.704+0000"
        ],
        [
         "CUST045",
         "18.12",
         "2024-11-13T21:57:54.781+0000",
         "2024-11-13T22:01:33.704+0000"
        ],
        [
         "CUST048",
         "19.09",
         "2024-11-13T21:57:54.781+0000",
         "2024-11-13T22:01:33.704+0000"
        ],
        [
         "CUST043",
         "12.07",
         "2024-11-13T21:57:54.781+0000",
         "2024-11-13T22:01:33.704+0000"
        ],
        [
         "CUST025",
         "18.69",
         "2024-11-13T21:57:54.781+0000",
         "2024-11-13T22:01:33.704+0000"
        ],
        [
         "CUST027",
         "19.36",
         "2024-11-13T21:57:54.781+0000",
         "2024-11-13T22:01:33.704+0000"
        ],
        [
         "CUST019",
         "12.83",
         "2024-11-13T21:56:02.367+0000",
         "2024-11-13T21:57:06.419+0000"
        ],
        [
         "CUST009",
         "20.51",
         "2024-11-13T21:56:02.367+0000",
         "2024-11-13T21:57:06.419+0000"
        ],
        [
         "CUST020",
         "15.28",
         "2024-11-13T21:56:02.367+0000",
         "2024-11-13T21:57:06.419+0000"
        ],
        [
         "CUST005",
         "15.37",
         "2024-11-13T21:56:02.367+0000",
         "2024-11-13T21:57:06.419+0000"
        ],
        [
         "CUST003",
         "18.39",
         "2024-11-13T21:56:02.367+0000",
         "2024-11-13T21:57:06.419+0000"
        ],
        [
         "CUST004",
         "19.75",
         "2024-11-13T21:56:02.367+0000",
         "2024-11-13T21:57:06.419+0000"
        ],
        [
         "CUST011",
         "19.82",
         "2024-11-13T21:56:02.367+0000",
         "2024-11-13T21:57:06.419+0000"
        ],
        [
         "CUST013",
         "18.48",
         "2024-11-13T21:56:02.367+0000",
         "2024-11-13T21:57:06.419+0000"
        ],
        [
         "CUST008",
         "19.03",
         "2024-11-13T21:56:02.367+0000",
         "2024-11-13T21:57:06.419+0000"
        ],
        [
         "CUST016",
         "18.67",
         "2024-11-13T21:56:02.367+0000",
         "2024-11-13T21:57:06.419+0000"
        ],
        [
         "CUST010",
         "17.55",
         "2024-11-13T21:56:02.367+0000",
         "2024-11-13T21:57:06.419+0000"
        ],
        [
         "CUST006",
         "16.59",
         "2024-11-13T21:56:02.367+0000",
         "2024-11-13T21:57:06.419+0000"
        ],
        [
         "CUST017",
         "17.67",
         "2024-11-13T21:56:02.367+0000",
         "2024-11-13T21:57:06.419+0000"
        ],
        [
         "CUST012",
         "18.75",
         "2024-11-13T21:56:02.367+0000",
         "2024-11-13T21:57:06.419+0000"
        ],
        [
         "CUST018",
         "18.95",
         "2024-11-13T21:56:02.367+0000",
         "2024-11-13T21:57:06.419+0000"
        ],
        [
         "CUST007",
         "20.59",
         "2024-11-13T21:56:02.367+0000",
         "2024-11-13T21:57:06.419+0000"
        ],
        [
         "CUST014",
         "16.84",
         "2024-11-13T21:56:02.367+0000",
         "2024-11-13T21:57:06.419+0000"
        ],
        [
         "CUST015",
         "20.46",
         "2024-11-13T21:56:02.367+0000",
         "2024-11-13T21:57:06.419+0000"
        ],
        [
         "CUST001",
         "20.50",
         null,
         "2024-11-13T21:55:37.291+0000"
        ],
        [
         "CUST002",
         "30.75",
         null,
         "2024-11-13T21:55:37.291+0000"
        ]
       ],
       "datasetInfos": [],
       "dbfsResultPath": null,
       "isJsonSchema": true,
       "metadata": {},
       "overflow": false,
       "plotOptions": {
        "customPlotOptions": {},
        "displayType": "table",
        "pivotAggregation": null,
        "pivotColumns": null,
        "xColumns": null,
        "yColumns": null
       },
       "removedWidgets": [],
       "schema": [
        {
         "metadata": "{}",
         "name": "customer_id",
         "type": "\"string\""
        },
        {
         "metadata": "{}",
         "name": "avg_spend_per_visit",
         "type": "\"decimal(10,2)\""
        },
        {
         "metadata": "{}",
         "name": "created_date",
         "type": "\"timestamp\""
        },
        {
         "metadata": "{}",
         "name": "updated_date",
         "type": "\"timestamp\""
        }
       ],
       "type": "table"
      }
     },
     "output_type": "display_data"
    }
   ],
   "source": [
    "%sql\n",
    "SELECT *\n",
    "FROM clv_gold.average_customer_spending"
   ]
  },
  {
   "cell_type": "markdown",
   "metadata": {
    "application/vnd.databricks.v1+cell": {
     "cellMetadata": {
      "byteLimit": 2048000,
      "rowLimit": 10000
     },
     "inputWidgets": {},
     "nuid": "31960ba6-2717-4038-9e3f-d08bfa83feaa",
     "showTitle": false,
     "tableResultSettingsMap": {},
     "title": ""
    }
   },
   "source": [
    "Spending Pattern"
   ]
  },
  {
   "cell_type": "markdown",
   "metadata": {
    "application/vnd.databricks.v1+cell": {
     "cellMetadata": {
      "byteLimit": 2048000,
      "rowLimit": 10000
     },
     "inputWidgets": {},
     "nuid": "266900b2-f8b8-4b06-a1d4-e3e895ec60ea",
     "showTitle": false,
     "tableResultSettingsMap": {},
     "title": ""
    }
   },
   "source": [
    "a. Spending by Day of the Week:"
   ]
  },
  {
   "cell_type": "code",
   "execution_count": 0,
   "metadata": {
    "application/vnd.databricks.v1+cell": {
     "cellMetadata": {
      "byteLimit": 2048000,
      "implicitDf": true,
      "rowLimit": 10000
     },
     "inputWidgets": {},
     "nuid": "37be230d-5867-4555-a7e9-b478a1a24a91",
     "showTitle": false,
     "tableResultSettingsMap": {},
     "title": ""
    }
   },
   "outputs": [
    {
     "output_type": "stream",
     "name": "stdout",
     "output_type": "stream",
     "text": [
      "Out[79]: '\\n%sql\\nCREATE TABLE IF NOT EXISTS clv_gold.spending_per_day\\nUSING DELTA\\nAS \\nSELECT \\n    DAYOFWEEK(transaction_date) AS Day_Of_Week,\\n    ROUND (AVG(transaction_amount),2) AS Avg_Spend_Per_Visit\\nFROM \\n    clv_silver.transaction_data\\nGROUP BY \\n    DAYOFWEEK(transaction_date)\\nORDER BY \\n    Day_Of_Week\\n  '"
     ]
    }
   ],
   "source": [
    "\"\"\"\n",
    "%sql\n",
    "CREATE TABLE IF NOT EXISTS clv_gold.spending_per_day\n",
    "USING DELTA\n",
    "AS \n",
    "SELECT \n",
    "    DAYOFWEEK(transaction_date) AS Day_Of_Week,\n",
    "    ROUND (AVG(transaction_amount),2) AS Avg_Spend_Per_Visit\n",
    "FROM \n",
    "    clv_silver.transaction_data\n",
    "GROUP BY \n",
    "    DAYOFWEEK(transaction_date)\n",
    "ORDER BY \n",
    "    Day_Of_Week\n",
    "  \"\"\""
   ]
  },
  {
   "cell_type": "markdown",
   "metadata": {
    "application/vnd.databricks.v1+cell": {
     "cellMetadata": {
      "byteLimit": 2048000,
      "rowLimit": 10000
     },
     "inputWidgets": {},
     "nuid": "ddbf0a4f-a2bc-4691-b302-c9b0c448e632",
     "showTitle": false,
     "tableResultSettingsMap": {},
     "title": ""
    }
   },
   "source": [
    "Spending based on loyalty status"
   ]
  },
  {
   "cell_type": "code",
   "execution_count": 0,
   "metadata": {
    "application/vnd.databricks.v1+cell": {
     "cellMetadata": {
      "byteLimit": 2048000,
      "implicitDf": true,
      "rowLimit": 10000
     },
     "inputWidgets": {},
     "nuid": "a919ca04-42f1-4d1b-8e1a-b6f12aa900ad",
     "showTitle": false,
     "tableResultSettingsMap": {},
     "title": ""
    }
   },
   "outputs": [
    {
     "output_type": "stream",
     "name": "stdout",
     "output_type": "stream",
     "text": [
      "Out[80]: '\\n%sql\\nCREATE TABLE IF NOT EXISTS clv_gold.spending_loyalty_status\\nUSING DELTA\\nAS \\nSELECT customer_info.loyal_status AS Loyalty, ROUND (AVG(transaction_amount),2) AS Avg_Spend\\nFROM clv_silver.transaction_data\\nJOIN clv_silver.customer_info WHERE customer_info.customer_id = clv_silver.transaction_data.customer_id\\nGROUP BY customer_info.loyal_status\\n'"
     ]
    }
   ],
   "source": [
    "\n",
    "\"\"\"\n",
    "%sql\n",
    "CREATE TABLE IF NOT EXISTS clv_gold.spending_loyalty_status\n",
    "USING DELTA\n",
    "AS \n",
    "SELECT customer_info.loyal_status AS Loyalty, ROUND (AVG(transaction_amount),2) AS Avg_Spend\n",
    "FROM clv_silver.transaction_data\n",
    "JOIN clv_silver.customer_info WHERE customer_info.customer_id = clv_silver.transaction_data.customer_id\n",
    "GROUP BY customer_info.loyal_status\n",
    "\"\"\""
   ]
  },
  {
   "cell_type": "markdown",
   "metadata": {
    "application/vnd.databricks.v1+cell": {
     "cellMetadata": {
      "byteLimit": 2048000,
      "rowLimit": 10000
     },
     "inputWidgets": {},
     "nuid": "90d8c49f-19da-47b1-9b37-3b4da7744342",
     "showTitle": false,
     "tableResultSettingsMap": {},
     "title": ""
    }
   },
   "source": [
    "Loyalty Program Impact"
   ]
  },
  {
   "cell_type": "markdown",
   "metadata": {
    "application/vnd.databricks.v1+cell": {
     "cellMetadata": {
      "byteLimit": 2048000,
      "rowLimit": 10000
     },
     "inputWidgets": {},
     "nuid": "97f212c3-8742-471d-ad9f-2af6a1199a55",
     "showTitle": false,
     "tableResultSettingsMap": {},
     "title": ""
    }
   },
   "source": [
    "a. Loyalty Program Spending vs. Non-Loyalty"
   ]
  },
  {
   "cell_type": "code",
   "execution_count": 0,
   "metadata": {
    "application/vnd.databricks.v1+cell": {
     "cellMetadata": {
      "byteLimit": 2048000,
      "implicitDf": true,
      "rowLimit": 10000
     },
     "inputWidgets": {},
     "nuid": "d3d4ee92-db79-4fed-8cd3-37a80c440910",
     "showTitle": false,
     "tableResultSettingsMap": {},
     "title": ""
    }
   },
   "outputs": [
    {
     "output_type": "stream",
     "name": "stdout",
     "output_type": "stream",
     "text": [
      "Out[81]: '\\n%sql\\nCREATE TABLE IF NOT EXISTS clv_gold.loyalty_spending\\nUSING DELTA\\nAS \\nSELECT \\n    c.loyal_status AS LoyaltyProgramStatus,\\n    ROUND (AVG(t.transaction_amount),2) AS Avg_Spend_Per_Visit,\\n    ROUND (AVG(v.visit_count),2) AS Avg_Visits_Per_Year\\nFROM \\n    clv_silver.transaction_data AS t\\nJOIN \\n    clv_silver.customer_info AS c ON t.customer_id = c.customer_id\\nJOIN \\n    clv_silver.visit_frequency AS v ON t.customer_id = v.customer_id\\nGROUP BY \\n    c.loyal_status\\n    '"
     ]
    }
   ],
   "source": [
    "\"\"\"\n",
    "%sql\n",
    "CREATE TABLE IF NOT EXISTS clv_gold.loyalty_spending\n",
    "USING DELTA\n",
    "AS \n",
    "SELECT \n",
    "    c.loyal_status AS LoyaltyProgramStatus,\n",
    "    ROUND (AVG(t.transaction_amount),2) AS Avg_Spend_Per_Visit,\n",
    "    ROUND (AVG(v.visit_count),2) AS Avg_Visits_Per_Year\n",
    "FROM \n",
    "    clv_silver.transaction_data AS t\n",
    "JOIN \n",
    "    clv_silver.customer_info AS c ON t.customer_id = c.customer_id\n",
    "JOIN \n",
    "    clv_silver.visit_frequency AS v ON t.customer_id = v.customer_id\n",
    "GROUP BY \n",
    "    c.loyal_status\n",
    "    \"\"\""
   ]
  },
  {
   "cell_type": "markdown",
   "metadata": {
    "application/vnd.databricks.v1+cell": {
     "cellMetadata": {
      "byteLimit": 2048000,
      "rowLimit": 10000
     },
     "inputWidgets": {},
     "nuid": "e3518f0c-d2b0-446e-badb-56740b4740b1",
     "showTitle": false,
     "tableResultSettingsMap": {},
     "title": ""
    }
   },
   "source": [
    "b. Signup Date Analysis"
   ]
  },
  {
   "cell_type": "code",
   "execution_count": 0,
   "metadata": {
    "application/vnd.databricks.v1+cell": {
     "cellMetadata": {
      "byteLimit": 2048000,
      "implicitDf": true,
      "rowLimit": 10000
     },
     "inputWidgets": {},
     "nuid": "a27d5209-dd96-4bb0-907f-9f644e353e39",
     "showTitle": false,
     "tableResultSettingsMap": {},
     "title": ""
    }
   },
   "outputs": [
    {
     "output_type": "stream",
     "name": "stdout",
     "output_type": "stream",
     "text": [
      "Out[82]: \"\\n%sql\\nCREATE TABLE IF NOT EXISTS clv_gold.signup_date_analysis\\nUSING DELTA\\nAS \\nSELECT \\n    t.customer_id,\\n    CASE \\n        WHEN t.transaction_date< c.signup_date THEN 'Before Signup'\\n        ELSE 'After Signup'\\n    END AS Period,\\n    Round(AVG(t.transaction_amount),2) AS Avg_Spend_Per_Period\\nFROM \\n    clv_silver.transaction_data AS t\\nJOIN \\n    clv_silver.customer_info AS c ON t.customer_id = c.customer_id\\nGROUP BY \\n    t.customer_id, Period\\nORDER BY t.customer_id\\n\""
     ]
    }
   ],
   "source": [
    "\"\"\"\n",
    "%sql\n",
    "CREATE TABLE IF NOT EXISTS clv_gold.signup_date_analysis\n",
    "USING DELTA\n",
    "AS \n",
    "SELECT \n",
    "    t.customer_id,\n",
    "    CASE \n",
    "        WHEN t.transaction_date< c.signup_date THEN 'Before Signup'\n",
    "        ELSE 'After Signup'\n",
    "    END AS Period,\n",
    "    Round(AVG(t.transaction_amount),2) AS Avg_Spend_Per_Period\n",
    "FROM \n",
    "    clv_silver.transaction_data AS t\n",
    "JOIN \n",
    "    clv_silver.customer_info AS c ON t.customer_id = c.customer_id\n",
    "GROUP BY \n",
    "    t.customer_id, Period\n",
    "ORDER BY t.customer_id\n",
    "\"\"\""
   ]
  },
  {
   "cell_type": "markdown",
   "metadata": {
    "application/vnd.databricks.v1+cell": {
     "cellMetadata": {
      "byteLimit": 2048000,
      "rowLimit": 10000
     },
     "inputWidgets": {},
     "nuid": "619ef97b-7fb8-40ac-9fd4-4a4fb34515ce",
     "showTitle": false,
     "tableResultSettingsMap": {},
     "title": ""
    }
   },
   "source": [
    "Item purchased\n"
   ]
  },
  {
   "cell_type": "code",
   "execution_count": 0,
   "metadata": {
    "application/vnd.databricks.v1+cell": {
     "cellMetadata": {
      "byteLimit": 2048000,
      "implicitDf": true,
      "rowLimit": 10000
     },
     "inputWidgets": {},
     "nuid": "f619612d-cbf9-4d04-871a-66ed1a187225",
     "showTitle": false,
     "tableResultSettingsMap": {},
     "title": ""
    }
   },
   "outputs": [
    {
     "output_type": "stream",
     "name": "stdout",
     "output_type": "stream",
     "text": [
      "Out[83]: '\\n%sql\\nCREATE TABLE IF NOT EXISTS clv_gold.item_purchased\\nUSING DELTA\\nAS \\nSELECT \\n    item_purchased,\\n    COUNT(*) AS Purchase_Count\\nFROM \\n    clv_silver.transaction_data\\nGROUP BY \\n    item_purchased\\nORDER BY \\n    Purchase_Count DESC\\n'"
     ]
    }
   ],
   "source": [
    "\"\"\"\n",
    "%sql\n",
    "CREATE TABLE IF NOT EXISTS clv_gold.item_purchased\n",
    "USING DELTA\n",
    "AS \n",
    "SELECT \n",
    "    item_purchased,\n",
    "    COUNT(*) AS Purchase_Count\n",
    "FROM \n",
    "    clv_silver.transaction_data\n",
    "GROUP BY \n",
    "    item_purchased\n",
    "ORDER BY \n",
    "    Purchase_Count DESC\n",
    "\"\"\""
   ]
  }
 ],
 "metadata": {
  "application/vnd.databricks.v1+notebook": {
   "dashboards": [
    {
     "elements": [],
     "globalVars": {},
     "guid": "",
     "layoutOption": {
      "grid": true,
      "stack": true
     },
     "nuid": "ff806066-49bb-4fba-b1c6-dc9eb03a37d7",
     "origId": 1540171116254471,
     "title": "Untitled",
     "version": "DashboardViewV1",
     "width": 1024
    }
   ],
   "environmentMetadata": {
    "base_environment": "",
    "client": "1"
   },
   "language": "python",
   "notebookMetadata": {
    "mostRecentlyExecutedCommandWithImplicitDF": {
     "commandId": 1080033869817037,
     "dataframes": [
      "_sqldf"
     ]
    },
    "pythonIndentUnit": 2
   },
   "notebookName": "Customer Spending Analysis",
   "widgets": {
    "p_file_date": {
     "currentValue": "2024-11-10",
     "nuid": "1f9e11f7-ae48-4f01-98d7-7bcd7aa68cbd",
     "typedWidgetInfo": {
      "autoCreated": false,
      "defaultValue": "2024-11-01",
      "label": null,
      "name": "p_file_date",
      "options": {
       "widgetDisplayType": "Text",
       "validationRegex": null
      },
      "parameterDataType": "String"
     },
     "widgetInfo": {
      "widgetType": "text",
      "defaultValue": "2024-11-01",
      "label": null,
      "name": "p_file_date",
      "options": {
       "widgetType": "text",
       "autoCreated": null,
       "validationRegex": null
      }
     }
    }
   }
  },
  "language_info": {
   "name": "python"
  }
 },
 "nbformat": 4,
 "nbformat_minor": 0
}